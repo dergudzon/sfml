{
 "cells": [
  {
   "cell_type": "markdown",
   "metadata": {},
   "source": [
    "# SkillFactory\n",
    "## Введение в ML, введение в sklearn"
   ]
  },
  {
   "cell_type": "markdown",
   "metadata": {},
   "source": [
    "В этом задании мы с вами рассмотрим данные с конкурса [Задача предсказания отклика клиентов ОТП Банка](http://www.machinelearning.ru/wiki/index.php?title=%D0%97%D0%B0%D0%B4%D0%B0%D1%87%D0%B0_%D0%BF%D1%80%D0%B5%D0%B4%D1%81%D0%BA%D0%B0%D0%B7%D0%B0%D0%BD%D0%B8%D1%8F_%D0%BE%D1%82%D0%BA%D0%BB%D0%B8%D0%BA%D0%B0_%D0%BA%D0%BB%D0%B8%D0%B5%D0%BD%D1%82%D0%BE%D0%B2_%D0%9E%D0%A2%D0%9F_%D0%91%D0%B0%D0%BD%D0%BA%D0%B0_%28%D0%BA%D0%BE%D0%BD%D0%BA%D1%83%D1%80%D1%81%29)"
   ]
  },
  {
   "cell_type": "code",
   "execution_count": 334,
   "metadata": {
    "collapsed": true
   },
   "outputs": [],
   "source": [
    "import pandas as pd\n",
    "import numpy as np\n",
    "import matplotlib.pyplot as plt\n",
    "\n",
    "%matplotlib inline\n",
    "\n",
    "plt.style.use('ggplot')\n",
    "plt.rcParams['figure.figsize'] = (12,5)"
   ]
  },
  {
   "cell_type": "markdown",
   "metadata": {},
   "source": [
    "### Грузим данные"
   ]
  },
  {
   "cell_type": "markdown",
   "metadata": {},
   "source": [
    "Считаем описание данных"
   ]
  },
  {
   "cell_type": "code",
   "execution_count": 335,
   "metadata": {
    "collapsed": true
   },
   "outputs": [],
   "source": [
    "\n",
    "df_descr = pd.read_csv('data/otp_description.csv', sep='\\t', encoding='utf8')"
   ]
  },
  {
   "cell_type": "code",
   "execution_count": 336,
   "metadata": {
    "collapsed": false
   },
   "outputs": [
    {
     "data": {
      "text/html": [
       "<div>\n",
       "<style scoped>\n",
       "    .dataframe tbody tr th:only-of-type {\n",
       "        vertical-align: middle;\n",
       "    }\n",
       "\n",
       "    .dataframe tbody tr th {\n",
       "        vertical-align: top;\n",
       "    }\n",
       "\n",
       "    .dataframe thead th {\n",
       "        text-align: right;\n",
       "    }\n",
       "</style>\n",
       "<table border=\"1\" class=\"dataframe\">\n",
       "  <thead>\n",
       "    <tr style=\"text-align: right;\">\n",
       "      <th></th>\n",
       "      <th>ПОЛЕ</th>\n",
       "      <th>ОПИСАНИЕ</th>\n",
       "    </tr>\n",
       "  </thead>\n",
       "  <tbody>\n",
       "    <tr>\n",
       "      <th>0</th>\n",
       "      <td>AGREEMENT_RK</td>\n",
       "      <td>уникальный идентификатор объекта в выборке</td>\n",
       "    </tr>\n",
       "    <tr>\n",
       "      <th>1</th>\n",
       "      <td>AGE</td>\n",
       "      <td>возраст клиента</td>\n",
       "    </tr>\n",
       "    <tr>\n",
       "      <th>2</th>\n",
       "      <td>SOCSTATUS_WORK_FL</td>\n",
       "      <td>социальный статус клиента относительно работы ...</td>\n",
       "    </tr>\n",
       "    <tr>\n",
       "      <th>3</th>\n",
       "      <td>SOCSTATUS_PENS_FL</td>\n",
       "      <td>социальный статус клиента относительно пенсии ...</td>\n",
       "    </tr>\n",
       "    <tr>\n",
       "      <th>4</th>\n",
       "      <td>GENDER</td>\n",
       "      <td>пол клиента (1- женщины, 0-мужчины)</td>\n",
       "    </tr>\n",
       "    <tr>\n",
       "      <th>5</th>\n",
       "      <td>CHILD_TOTAL</td>\n",
       "      <td>количество детей клиента</td>\n",
       "    </tr>\n",
       "    <tr>\n",
       "      <th>6</th>\n",
       "      <td>DEPENDANTS</td>\n",
       "      <td>количество иждивенцев клиента</td>\n",
       "    </tr>\n",
       "    <tr>\n",
       "      <th>7</th>\n",
       "      <td>EDUCATION</td>\n",
       "      <td>образование</td>\n",
       "    </tr>\n",
       "    <tr>\n",
       "      <th>8</th>\n",
       "      <td>MARITAL_STATUS</td>\n",
       "      <td>семейное положение</td>\n",
       "    </tr>\n",
       "    <tr>\n",
       "      <th>9</th>\n",
       "      <td>GEN_INDUSTRY</td>\n",
       "      <td>отрасль работы клиента</td>\n",
       "    </tr>\n",
       "    <tr>\n",
       "      <th>10</th>\n",
       "      <td>GEN_TITLE</td>\n",
       "      <td>должность</td>\n",
       "    </tr>\n",
       "    <tr>\n",
       "      <th>11</th>\n",
       "      <td>ORG_TP_STATE</td>\n",
       "      <td>форма собственности компании</td>\n",
       "    </tr>\n",
       "    <tr>\n",
       "      <th>12</th>\n",
       "      <td>ORG_TP_FCAPITAL</td>\n",
       "      <td>отношение к иностранному капиталу</td>\n",
       "    </tr>\n",
       "    <tr>\n",
       "      <th>13</th>\n",
       "      <td>JOB_DIR</td>\n",
       "      <td>направление деятельности в нутри компании</td>\n",
       "    </tr>\n",
       "    <tr>\n",
       "      <th>14</th>\n",
       "      <td>FAMILY_INCOME</td>\n",
       "      <td>семейный доход (несколько категорий)</td>\n",
       "    </tr>\n",
       "    <tr>\n",
       "      <th>15</th>\n",
       "      <td>PERSONAL_INCOME</td>\n",
       "      <td>личный доход клиента (в рублях)</td>\n",
       "    </tr>\n",
       "    <tr>\n",
       "      <th>16</th>\n",
       "      <td>REG_ADDRESS_PROVINCE</td>\n",
       "      <td>область регистрации клиента</td>\n",
       "    </tr>\n",
       "    <tr>\n",
       "      <th>17</th>\n",
       "      <td>FACT_ADDRESS_PROVINCE</td>\n",
       "      <td>область фактического пребывания клиента</td>\n",
       "    </tr>\n",
       "    <tr>\n",
       "      <th>18</th>\n",
       "      <td>POSTAL_ADDRESS_PROVINCE</td>\n",
       "      <td>почтовый адрес область</td>\n",
       "    </tr>\n",
       "    <tr>\n",
       "      <th>19</th>\n",
       "      <td>TP_PROVINCE</td>\n",
       "      <td>область торговой точки, где клиент брал послед...</td>\n",
       "    </tr>\n",
       "    <tr>\n",
       "      <th>20</th>\n",
       "      <td>REGION_NM</td>\n",
       "      <td>регион РФ</td>\n",
       "    </tr>\n",
       "    <tr>\n",
       "      <th>21</th>\n",
       "      <td>REG_FACT_FL</td>\n",
       "      <td>адрес регистрации и адрес фактического пребыва...</td>\n",
       "    </tr>\n",
       "    <tr>\n",
       "      <th>22</th>\n",
       "      <td>FACT_POST_FL</td>\n",
       "      <td>адрес фактического пребывания клиента и его по...</td>\n",
       "    </tr>\n",
       "    <tr>\n",
       "      <th>23</th>\n",
       "      <td>REG_POST_FL</td>\n",
       "      <td>адрес регистрации клиента и его почтовый адрес...</td>\n",
       "    </tr>\n",
       "    <tr>\n",
       "      <th>24</th>\n",
       "      <td>REG_FACT_POST_FL</td>\n",
       "      <td>почтовый, фактический и адрес регистрации совп...</td>\n",
       "    </tr>\n",
       "    <tr>\n",
       "      <th>25</th>\n",
       "      <td>REG_FACT_POST_TP_FL</td>\n",
       "      <td>область регистрации, фактического пребывания, ...</td>\n",
       "    </tr>\n",
       "    <tr>\n",
       "      <th>26</th>\n",
       "      <td>FL_PRESENCE_FL</td>\n",
       "      <td>наличие в собственности квартиры (1 - есть, 0 ...</td>\n",
       "    </tr>\n",
       "    <tr>\n",
       "      <th>27</th>\n",
       "      <td>OWN_AUTO</td>\n",
       "      <td>кол-во автомобилей в собственности</td>\n",
       "    </tr>\n",
       "    <tr>\n",
       "      <th>28</th>\n",
       "      <td>AUTO_RUS_FL</td>\n",
       "      <td>наличие в собственности автомобиля российского...</td>\n",
       "    </tr>\n",
       "    <tr>\n",
       "      <th>29</th>\n",
       "      <td>HS_PRESENCE_FL</td>\n",
       "      <td>наличие в собственности загородного дома (1 - ...</td>\n",
       "    </tr>\n",
       "    <tr>\n",
       "      <th>30</th>\n",
       "      <td>COT_PRESENCE_FL</td>\n",
       "      <td>наличие в собственности котеджа (1 - есть, 0 -...</td>\n",
       "    </tr>\n",
       "    <tr>\n",
       "      <th>31</th>\n",
       "      <td>GAR_PRESENCE_FL</td>\n",
       "      <td>наличие в собственности гаража (1 - есть, 0 - ...</td>\n",
       "    </tr>\n",
       "    <tr>\n",
       "      <th>32</th>\n",
       "      <td>LAND_PRESENCE_FL</td>\n",
       "      <td>наличие в собственности земельного участка (1 ...</td>\n",
       "    </tr>\n",
       "    <tr>\n",
       "      <th>33</th>\n",
       "      <td>CREDIT</td>\n",
       "      <td>сумма последнего кредита клиента (в рублях)</td>\n",
       "    </tr>\n",
       "    <tr>\n",
       "      <th>34</th>\n",
       "      <td>TERM</td>\n",
       "      <td>срок кредита</td>\n",
       "    </tr>\n",
       "    <tr>\n",
       "      <th>35</th>\n",
       "      <td>FST_PAYMENT</td>\n",
       "      <td>первоначальный взнос (в рублях)</td>\n",
       "    </tr>\n",
       "    <tr>\n",
       "      <th>36</th>\n",
       "      <td>DL_DOCUMENT_FL</td>\n",
       "      <td>в анкете клиент указал водительское удостовере...</td>\n",
       "    </tr>\n",
       "    <tr>\n",
       "      <th>37</th>\n",
       "      <td>GPF_DOCUMENT_FL</td>\n",
       "      <td>в анкете клиен указал ГПФ (1 - указал, 0 - не ...</td>\n",
       "    </tr>\n",
       "    <tr>\n",
       "      <th>38</th>\n",
       "      <td>FACT_LIVING_TERM</td>\n",
       "      <td>количество месяцев проживания по месту фактиче...</td>\n",
       "    </tr>\n",
       "    <tr>\n",
       "      <th>39</th>\n",
       "      <td>WORK_TIME</td>\n",
       "      <td>время работы на текущем месте (в месяцах)</td>\n",
       "    </tr>\n",
       "    <tr>\n",
       "      <th>40</th>\n",
       "      <td>FACT_PHONE_FL</td>\n",
       "      <td>наличие в заявке телефона по фактическому мест...</td>\n",
       "    </tr>\n",
       "    <tr>\n",
       "      <th>41</th>\n",
       "      <td>REG_PHONE_FL</td>\n",
       "      <td>наличие в заявке телефона по месту регистрации</td>\n",
       "    </tr>\n",
       "    <tr>\n",
       "      <th>42</th>\n",
       "      <td>GEN_PHONE_FL</td>\n",
       "      <td>наличие в заявке рабочего телефона</td>\n",
       "    </tr>\n",
       "    <tr>\n",
       "      <th>43</th>\n",
       "      <td>LOAN_NUM_TOTAL</td>\n",
       "      <td>количество ссуд клиента</td>\n",
       "    </tr>\n",
       "    <tr>\n",
       "      <th>44</th>\n",
       "      <td>LOAN_NUM_CLOSED</td>\n",
       "      <td>количество погашенных ссуд клиента</td>\n",
       "    </tr>\n",
       "    <tr>\n",
       "      <th>45</th>\n",
       "      <td>LOAN_NUM_PAYM</td>\n",
       "      <td>количество платежей, которые сделал клиент</td>\n",
       "    </tr>\n",
       "    <tr>\n",
       "      <th>46</th>\n",
       "      <td>LOAN_DLQ_NUM</td>\n",
       "      <td>количество просрочек, допущенных клиентом</td>\n",
       "    </tr>\n",
       "    <tr>\n",
       "      <th>47</th>\n",
       "      <td>LOAN_MAX_DLQ</td>\n",
       "      <td>номер максимальной просрочки, допущенной клиентом</td>\n",
       "    </tr>\n",
       "    <tr>\n",
       "      <th>48</th>\n",
       "      <td>LOAN_AVG_DLQ_AMT</td>\n",
       "      <td>средняя сумма просрочки (в рублях)</td>\n",
       "    </tr>\n",
       "    <tr>\n",
       "      <th>49</th>\n",
       "      <td>LOAN_MAX_DLQ_AMT</td>\n",
       "      <td>максимальная сумма просрочки (в рублях)</td>\n",
       "    </tr>\n",
       "    <tr>\n",
       "      <th>50</th>\n",
       "      <td>PREVIOUS_CARD_NUM_UTILIZED</td>\n",
       "      <td>количество уже утилизированных карт ( если пус...</td>\n",
       "    </tr>\n",
       "  </tbody>\n",
       "</table>\n",
       "</div>"
      ],
      "text/plain": [
       "                          ПОЛЕ  \\\n",
       "0                 AGREEMENT_RK   \n",
       "1                          AGE   \n",
       "2            SOCSTATUS_WORK_FL   \n",
       "3            SOCSTATUS_PENS_FL   \n",
       "4                       GENDER   \n",
       "5                  CHILD_TOTAL   \n",
       "6                   DEPENDANTS   \n",
       "7                    EDUCATION   \n",
       "8               MARITAL_STATUS   \n",
       "9                 GEN_INDUSTRY   \n",
       "10                   GEN_TITLE   \n",
       "11                ORG_TP_STATE   \n",
       "12             ORG_TP_FCAPITAL   \n",
       "13                     JOB_DIR   \n",
       "14               FAMILY_INCOME   \n",
       "15             PERSONAL_INCOME   \n",
       "16        REG_ADDRESS_PROVINCE   \n",
       "17       FACT_ADDRESS_PROVINCE   \n",
       "18     POSTAL_ADDRESS_PROVINCE   \n",
       "19                 TP_PROVINCE   \n",
       "20                   REGION_NM   \n",
       "21                 REG_FACT_FL   \n",
       "22                FACT_POST_FL   \n",
       "23                 REG_POST_FL   \n",
       "24            REG_FACT_POST_FL   \n",
       "25         REG_FACT_POST_TP_FL   \n",
       "26              FL_PRESENCE_FL   \n",
       "27                    OWN_AUTO   \n",
       "28                 AUTO_RUS_FL   \n",
       "29              HS_PRESENCE_FL   \n",
       "30             COT_PRESENCE_FL   \n",
       "31             GAR_PRESENCE_FL   \n",
       "32            LAND_PRESENCE_FL   \n",
       "33                      CREDIT   \n",
       "34                        TERM   \n",
       "35                 FST_PAYMENT   \n",
       "36              DL_DOCUMENT_FL   \n",
       "37             GPF_DOCUMENT_FL   \n",
       "38            FACT_LIVING_TERM   \n",
       "39                   WORK_TIME   \n",
       "40               FACT_PHONE_FL   \n",
       "41                REG_PHONE_FL   \n",
       "42                GEN_PHONE_FL   \n",
       "43              LOAN_NUM_TOTAL   \n",
       "44             LOAN_NUM_CLOSED   \n",
       "45               LOAN_NUM_PAYM   \n",
       "46                LOAN_DLQ_NUM   \n",
       "47                LOAN_MAX_DLQ   \n",
       "48            LOAN_AVG_DLQ_AMT   \n",
       "49            LOAN_MAX_DLQ_AMT   \n",
       "50  PREVIOUS_CARD_NUM_UTILIZED   \n",
       "\n",
       "                                             ОПИСАНИЕ  \n",
       "0          уникальный идентификатор объекта в выборке  \n",
       "1                                     возраст клиента  \n",
       "2   социальный статус клиента относительно работы ...  \n",
       "3   социальный статус клиента относительно пенсии ...  \n",
       "4                 пол клиента (1- женщины, 0-мужчины)  \n",
       "5                            количество детей клиента  \n",
       "6                       количество иждивенцев клиента  \n",
       "7                                         образование  \n",
       "8                                  семейное положение  \n",
       "9                              отрасль работы клиента  \n",
       "10                                          должность  \n",
       "11                       форма собственности компании  \n",
       "12                  отношение к иностранному капиталу  \n",
       "13          направление деятельности в нутри компании  \n",
       "14               семейный доход (несколько категорий)  \n",
       "15                    личный доход клиента (в рублях)  \n",
       "16                        область регистрации клиента  \n",
       "17            область фактического пребывания клиента  \n",
       "18                             почтовый адрес область  \n",
       "19  область торговой точки, где клиент брал послед...  \n",
       "20                                          регион РФ  \n",
       "21  адрес регистрации и адрес фактического пребыва...  \n",
       "22  адрес фактического пребывания клиента и его по...  \n",
       "23  адрес регистрации клиента и его почтовый адрес...  \n",
       "24  почтовый, фактический и адрес регистрации совп...  \n",
       "25  область регистрации, фактического пребывания, ...  \n",
       "26  наличие в собственности квартиры (1 - есть, 0 ...  \n",
       "27                кол-во автомобилей в собственности   \n",
       "28  наличие в собственности автомобиля российского...  \n",
       "29  наличие в собственности загородного дома (1 - ...  \n",
       "30  наличие в собственности котеджа (1 - есть, 0 -...  \n",
       "31  наличие в собственности гаража (1 - есть, 0 - ...  \n",
       "32  наличие в собственности земельного участка (1 ...  \n",
       "33        сумма последнего кредита клиента (в рублях)  \n",
       "34                                       срок кредита  \n",
       "35                    первоначальный взнос (в рублях)  \n",
       "36  в анкете клиент указал водительское удостовере...  \n",
       "37  в анкете клиен указал ГПФ (1 - указал, 0 - не ...  \n",
       "38  количество месяцев проживания по месту фактиче...  \n",
       "39          время работы на текущем месте (в месяцах)  \n",
       "40  наличие в заявке телефона по фактическому мест...  \n",
       "41     наличие в заявке телефона по месту регистрации  \n",
       "42                 наличие в заявке рабочего телефона  \n",
       "43                            количество ссуд клиента  \n",
       "44                 количество погашенных ссуд клиента  \n",
       "45         количество платежей, которые сделал клиент  \n",
       "46          количество просрочек, допущенных клиентом  \n",
       "47  номер максимальной просрочки, допущенной клиентом  \n",
       "48                 средняя сумма просрочки (в рублях)  \n",
       "49            максимальная сумма просрочки (в рублях)  \n",
       "50  количество уже утилизированных карт ( если пус...  "
      ]
     },
     "execution_count": 336,
     "metadata": {},
     "output_type": "execute_result"
    }
   ],
   "source": [
    "df_descr"
   ]
  },
  {
   "cell_type": "markdown",
   "metadata": {},
   "source": [
    "Считаем обучающую выборки и тестовую (которую мы как бы не видим)"
   ]
  },
  {
   "cell_type": "code",
   "execution_count": 337,
   "metadata": {
    "collapsed": true
   },
   "outputs": [],
   "source": [
    "df_train = pd.read_csv('data/otp_train.csv', sep='\\t', encoding='utf8')"
   ]
  },
  {
   "cell_type": "code",
   "execution_count": 338,
   "metadata": {
    "collapsed": false
   },
   "outputs": [
    {
     "data": {
      "text/plain": [
       "(15223, 52)"
      ]
     },
     "execution_count": 338,
     "metadata": {},
     "output_type": "execute_result"
    }
   ],
   "source": [
    "df_train.shape"
   ]
  },
  {
   "cell_type": "code",
   "execution_count": 339,
   "metadata": {
    "collapsed": true
   },
   "outputs": [],
   "source": [
    "df_test = pd.read_csv('data/otp_test.csv', sep='\\t', encoding='utf8')"
   ]
  },
  {
   "cell_type": "code",
   "execution_count": 340,
   "metadata": {
    "collapsed": false
   },
   "outputs": [
    {
     "data": {
      "text/plain": [
       "(14910, 52)"
      ]
     },
     "execution_count": 340,
     "metadata": {},
     "output_type": "execute_result"
    }
   ],
   "source": [
    "df_test.shape"
   ]
  },
  {
   "cell_type": "code",
   "execution_count": 341,
   "metadata": {
    "collapsed": false
   },
   "outputs": [
    {
     "data": {
      "text/html": [
       "<div>\n",
       "<style scoped>\n",
       "    .dataframe tbody tr th:only-of-type {\n",
       "        vertical-align: middle;\n",
       "    }\n",
       "\n",
       "    .dataframe tbody tr th {\n",
       "        vertical-align: top;\n",
       "    }\n",
       "\n",
       "    .dataframe thead th {\n",
       "        text-align: right;\n",
       "    }\n",
       "</style>\n",
       "<table border=\"1\" class=\"dataframe\">\n",
       "  <thead>\n",
       "    <tr style=\"text-align: right;\">\n",
       "      <th></th>\n",
       "      <th>0</th>\n",
       "      <th>1</th>\n",
       "      <th>2</th>\n",
       "      <th>3</th>\n",
       "      <th>4</th>\n",
       "    </tr>\n",
       "  </thead>\n",
       "  <tbody>\n",
       "    <tr>\n",
       "      <th>AGREEMENT_RK</th>\n",
       "      <td>59910150</td>\n",
       "      <td>59910230</td>\n",
       "      <td>59910525</td>\n",
       "      <td>59910803</td>\n",
       "      <td>59911781</td>\n",
       "    </tr>\n",
       "    <tr>\n",
       "      <th>TARGET</th>\n",
       "      <td>0</td>\n",
       "      <td>0</td>\n",
       "      <td>0</td>\n",
       "      <td>0</td>\n",
       "      <td>0</td>\n",
       "    </tr>\n",
       "    <tr>\n",
       "      <th>AGE</th>\n",
       "      <td>49</td>\n",
       "      <td>32</td>\n",
       "      <td>52</td>\n",
       "      <td>39</td>\n",
       "      <td>30</td>\n",
       "    </tr>\n",
       "    <tr>\n",
       "      <th>SOCSTATUS_WORK_FL</th>\n",
       "      <td>1</td>\n",
       "      <td>1</td>\n",
       "      <td>1</td>\n",
       "      <td>1</td>\n",
       "      <td>1</td>\n",
       "    </tr>\n",
       "    <tr>\n",
       "      <th>SOCSTATUS_PENS_FL</th>\n",
       "      <td>0</td>\n",
       "      <td>0</td>\n",
       "      <td>0</td>\n",
       "      <td>0</td>\n",
       "      <td>0</td>\n",
       "    </tr>\n",
       "    <tr>\n",
       "      <th>GENDER</th>\n",
       "      <td>1</td>\n",
       "      <td>1</td>\n",
       "      <td>1</td>\n",
       "      <td>1</td>\n",
       "      <td>0</td>\n",
       "    </tr>\n",
       "    <tr>\n",
       "      <th>CHILD_TOTAL</th>\n",
       "      <td>2</td>\n",
       "      <td>3</td>\n",
       "      <td>4</td>\n",
       "      <td>1</td>\n",
       "      <td>0</td>\n",
       "    </tr>\n",
       "    <tr>\n",
       "      <th>DEPENDANTS</th>\n",
       "      <td>1</td>\n",
       "      <td>3</td>\n",
       "      <td>0</td>\n",
       "      <td>1</td>\n",
       "      <td>0</td>\n",
       "    </tr>\n",
       "    <tr>\n",
       "      <th>EDUCATION</th>\n",
       "      <td>Среднее специальное</td>\n",
       "      <td>Среднее</td>\n",
       "      <td>Неполное среднее</td>\n",
       "      <td>Высшее</td>\n",
       "      <td>Среднее</td>\n",
       "    </tr>\n",
       "    <tr>\n",
       "      <th>MARITAL_STATUS</th>\n",
       "      <td>Состою в браке</td>\n",
       "      <td>Состою в браке</td>\n",
       "      <td>Состою в браке</td>\n",
       "      <td>Состою в браке</td>\n",
       "      <td>Состою в браке</td>\n",
       "    </tr>\n",
       "    <tr>\n",
       "      <th>GEN_INDUSTRY</th>\n",
       "      <td>Торговля</td>\n",
       "      <td>Торговля</td>\n",
       "      <td>Информационные технологии</td>\n",
       "      <td>Образование</td>\n",
       "      <td>Государственная служба</td>\n",
       "    </tr>\n",
       "    <tr>\n",
       "      <th>GEN_TITLE</th>\n",
       "      <td>Рабочий</td>\n",
       "      <td>Рабочий</td>\n",
       "      <td>Специалист</td>\n",
       "      <td>Руководитель среднего звена</td>\n",
       "      <td>Специалист</td>\n",
       "    </tr>\n",
       "    <tr>\n",
       "      <th>ORG_TP_STATE</th>\n",
       "      <td>Частная компания</td>\n",
       "      <td>Индивидуальный предприниматель</td>\n",
       "      <td>Государственная комп./учреж.</td>\n",
       "      <td>Государственная комп./учреж.</td>\n",
       "      <td>Государственная комп./учреж.</td>\n",
       "    </tr>\n",
       "    <tr>\n",
       "      <th>ORG_TP_FCAPITAL</th>\n",
       "      <td>Без участия</td>\n",
       "      <td>Без участия</td>\n",
       "      <td>Без участия</td>\n",
       "      <td>Без участия</td>\n",
       "      <td>Без участия</td>\n",
       "    </tr>\n",
       "    <tr>\n",
       "      <th>JOB_DIR</th>\n",
       "      <td>Вспомогательный техперсонал</td>\n",
       "      <td>Участие в основ. деятельности</td>\n",
       "      <td>Участие в основ. деятельности</td>\n",
       "      <td>Участие в основ. деятельности</td>\n",
       "      <td>Участие в основ. деятельности</td>\n",
       "    </tr>\n",
       "    <tr>\n",
       "      <th>FAMILY_INCOME</th>\n",
       "      <td>от 10000 до 20000 руб.</td>\n",
       "      <td>от 10000 до 20000 руб.</td>\n",
       "      <td>от 10000 до 20000 руб.</td>\n",
       "      <td>от 20000 до 50000 руб.</td>\n",
       "      <td>от 10000 до 20000 руб.</td>\n",
       "    </tr>\n",
       "    <tr>\n",
       "      <th>PERSONAL_INCOME</th>\n",
       "      <td>5000</td>\n",
       "      <td>12000</td>\n",
       "      <td>9000</td>\n",
       "      <td>25000</td>\n",
       "      <td>12000</td>\n",
       "    </tr>\n",
       "    <tr>\n",
       "      <th>REG_ADDRESS_PROVINCE</th>\n",
       "      <td>Оренбургская область</td>\n",
       "      <td>Кабардино-Балкария</td>\n",
       "      <td>Иркутская область</td>\n",
       "      <td>Ростовская область</td>\n",
       "      <td>Кабардино-Балкария</td>\n",
       "    </tr>\n",
       "    <tr>\n",
       "      <th>FACT_ADDRESS_PROVINCE</th>\n",
       "      <td>Оренбургская область</td>\n",
       "      <td>Кабардино-Балкария</td>\n",
       "      <td>Иркутская область</td>\n",
       "      <td>Ростовская область</td>\n",
       "      <td>Кабардино-Балкария</td>\n",
       "    </tr>\n",
       "    <tr>\n",
       "      <th>POSTAL_ADDRESS_PROVINCE</th>\n",
       "      <td>Оренбургская область</td>\n",
       "      <td>Кабардино-Балкария</td>\n",
       "      <td>Иркутская область</td>\n",
       "      <td>Ростовская область</td>\n",
       "      <td>Кабардино-Балкария</td>\n",
       "    </tr>\n",
       "    <tr>\n",
       "      <th>TP_PROVINCE</th>\n",
       "      <td>Оренбургская область</td>\n",
       "      <td>Ставропольский край</td>\n",
       "      <td>Иркутская область</td>\n",
       "      <td>Ростовская область</td>\n",
       "      <td>Ставропольский край</td>\n",
       "    </tr>\n",
       "    <tr>\n",
       "      <th>REGION_NM</th>\n",
       "      <td>ПОВОЛЖСКИЙ</td>\n",
       "      <td>ЮЖНЫЙ</td>\n",
       "      <td>ВОСТОЧНО-СИБИРСКИЙ</td>\n",
       "      <td>ЮЖНЫЙ</td>\n",
       "      <td>ЮЖНЫЙ</td>\n",
       "    </tr>\n",
       "    <tr>\n",
       "      <th>REG_FACT_FL</th>\n",
       "      <td>1</td>\n",
       "      <td>1</td>\n",
       "      <td>1</td>\n",
       "      <td>0</td>\n",
       "      <td>1</td>\n",
       "    </tr>\n",
       "    <tr>\n",
       "      <th>FACT_POST_FL</th>\n",
       "      <td>1</td>\n",
       "      <td>1</td>\n",
       "      <td>1</td>\n",
       "      <td>1</td>\n",
       "      <td>1</td>\n",
       "    </tr>\n",
       "    <tr>\n",
       "      <th>REG_POST_FL</th>\n",
       "      <td>1</td>\n",
       "      <td>1</td>\n",
       "      <td>1</td>\n",
       "      <td>0</td>\n",
       "      <td>1</td>\n",
       "    </tr>\n",
       "    <tr>\n",
       "      <th>REG_FACT_POST_FL</th>\n",
       "      <td>1</td>\n",
       "      <td>1</td>\n",
       "      <td>1</td>\n",
       "      <td>0</td>\n",
       "      <td>1</td>\n",
       "    </tr>\n",
       "    <tr>\n",
       "      <th>REG_FACT_POST_TP_FL</th>\n",
       "      <td>1</td>\n",
       "      <td>0</td>\n",
       "      <td>1</td>\n",
       "      <td>1</td>\n",
       "      <td>0</td>\n",
       "    </tr>\n",
       "    <tr>\n",
       "      <th>FL_PRESENCE_FL</th>\n",
       "      <td>0</td>\n",
       "      <td>0</td>\n",
       "      <td>0</td>\n",
       "      <td>1</td>\n",
       "      <td>0</td>\n",
       "    </tr>\n",
       "    <tr>\n",
       "      <th>OWN_AUTO</th>\n",
       "      <td>0</td>\n",
       "      <td>0</td>\n",
       "      <td>0</td>\n",
       "      <td>0</td>\n",
       "      <td>0</td>\n",
       "    </tr>\n",
       "    <tr>\n",
       "      <th>AUTO_RUS_FL</th>\n",
       "      <td>0</td>\n",
       "      <td>0</td>\n",
       "      <td>0</td>\n",
       "      <td>0</td>\n",
       "      <td>0</td>\n",
       "    </tr>\n",
       "    <tr>\n",
       "      <th>HS_PRESENCE_FL</th>\n",
       "      <td>0</td>\n",
       "      <td>0</td>\n",
       "      <td>1</td>\n",
       "      <td>0</td>\n",
       "      <td>1</td>\n",
       "    </tr>\n",
       "    <tr>\n",
       "      <th>COT_PRESENCE_FL</th>\n",
       "      <td>0</td>\n",
       "      <td>0</td>\n",
       "      <td>0</td>\n",
       "      <td>0</td>\n",
       "      <td>0</td>\n",
       "    </tr>\n",
       "    <tr>\n",
       "      <th>GAR_PRESENCE_FL</th>\n",
       "      <td>0</td>\n",
       "      <td>0</td>\n",
       "      <td>0</td>\n",
       "      <td>0</td>\n",
       "      <td>0</td>\n",
       "    </tr>\n",
       "    <tr>\n",
       "      <th>LAND_PRESENCE_FL</th>\n",
       "      <td>0</td>\n",
       "      <td>0</td>\n",
       "      <td>0</td>\n",
       "      <td>0</td>\n",
       "      <td>0</td>\n",
       "    </tr>\n",
       "    <tr>\n",
       "      <th>CREDIT</th>\n",
       "      <td>8000</td>\n",
       "      <td>21650</td>\n",
       "      <td>33126</td>\n",
       "      <td>8491,82</td>\n",
       "      <td>21990</td>\n",
       "    </tr>\n",
       "    <tr>\n",
       "      <th>TERM</th>\n",
       "      <td>6</td>\n",
       "      <td>6</td>\n",
       "      <td>12</td>\n",
       "      <td>6</td>\n",
       "      <td>12</td>\n",
       "    </tr>\n",
       "    <tr>\n",
       "      <th>FST_PAYMENT</th>\n",
       "      <td>8650</td>\n",
       "      <td>4000</td>\n",
       "      <td>4000</td>\n",
       "      <td>5000</td>\n",
       "      <td>4000</td>\n",
       "    </tr>\n",
       "    <tr>\n",
       "      <th>DL_DOCUMENT_FL</th>\n",
       "      <td>0</td>\n",
       "      <td>0</td>\n",
       "      <td>0</td>\n",
       "      <td>0</td>\n",
       "      <td>0</td>\n",
       "    </tr>\n",
       "    <tr>\n",
       "      <th>GPF_DOCUMENT_FL</th>\n",
       "      <td>1</td>\n",
       "      <td>1</td>\n",
       "      <td>1</td>\n",
       "      <td>0</td>\n",
       "      <td>1</td>\n",
       "    </tr>\n",
       "    <tr>\n",
       "      <th>FACT_LIVING_TERM</th>\n",
       "      <td>220</td>\n",
       "      <td>137</td>\n",
       "      <td>251</td>\n",
       "      <td>36</td>\n",
       "      <td>83</td>\n",
       "    </tr>\n",
       "    <tr>\n",
       "      <th>WORK_TIME</th>\n",
       "      <td>18</td>\n",
       "      <td>97</td>\n",
       "      <td>84</td>\n",
       "      <td>168</td>\n",
       "      <td>101</td>\n",
       "    </tr>\n",
       "    <tr>\n",
       "      <th>FACT_PHONE_FL</th>\n",
       "      <td>0</td>\n",
       "      <td>1</td>\n",
       "      <td>0</td>\n",
       "      <td>1</td>\n",
       "      <td>1</td>\n",
       "    </tr>\n",
       "    <tr>\n",
       "      <th>REG_PHONE_FL</th>\n",
       "      <td>0</td>\n",
       "      <td>0</td>\n",
       "      <td>0</td>\n",
       "      <td>1</td>\n",
       "      <td>0</td>\n",
       "    </tr>\n",
       "    <tr>\n",
       "      <th>GEN_PHONE_FL</th>\n",
       "      <td>1</td>\n",
       "      <td>1</td>\n",
       "      <td>1</td>\n",
       "      <td>1</td>\n",
       "      <td>1</td>\n",
       "    </tr>\n",
       "    <tr>\n",
       "      <th>LOAN_NUM_TOTAL</th>\n",
       "      <td>1</td>\n",
       "      <td>1</td>\n",
       "      <td>2</td>\n",
       "      <td>1</td>\n",
       "      <td>2</td>\n",
       "    </tr>\n",
       "    <tr>\n",
       "      <th>LOAN_NUM_CLOSED</th>\n",
       "      <td>1</td>\n",
       "      <td>1</td>\n",
       "      <td>1</td>\n",
       "      <td>1</td>\n",
       "      <td>1</td>\n",
       "    </tr>\n",
       "    <tr>\n",
       "      <th>LOAN_NUM_PAYM</th>\n",
       "      <td>6</td>\n",
       "      <td>6</td>\n",
       "      <td>11</td>\n",
       "      <td>6</td>\n",
       "      <td>16</td>\n",
       "    </tr>\n",
       "    <tr>\n",
       "      <th>LOAN_DLQ_NUM</th>\n",
       "      <td>2</td>\n",
       "      <td>1</td>\n",
       "      <td>0</td>\n",
       "      <td>3</td>\n",
       "      <td>2</td>\n",
       "    </tr>\n",
       "    <tr>\n",
       "      <th>LOAN_MAX_DLQ</th>\n",
       "      <td>1</td>\n",
       "      <td>1</td>\n",
       "      <td>0</td>\n",
       "      <td>1</td>\n",
       "      <td>1</td>\n",
       "    </tr>\n",
       "    <tr>\n",
       "      <th>LOAN_AVG_DLQ_AMT</th>\n",
       "      <td>1580</td>\n",
       "      <td>4020</td>\n",
       "      <td>0</td>\n",
       "      <td>1589,92333333333</td>\n",
       "      <td>1152,15</td>\n",
       "    </tr>\n",
       "    <tr>\n",
       "      <th>LOAN_MAX_DLQ_AMT</th>\n",
       "      <td>1580</td>\n",
       "      <td>4020</td>\n",
       "      <td>0</td>\n",
       "      <td>1590</td>\n",
       "      <td>2230</td>\n",
       "    </tr>\n",
       "    <tr>\n",
       "      <th>PREVIOUS_CARD_NUM_UTILIZED</th>\n",
       "      <td>NaN</td>\n",
       "      <td>NaN</td>\n",
       "      <td>NaN</td>\n",
       "      <td>NaN</td>\n",
       "      <td>NaN</td>\n",
       "    </tr>\n",
       "  </tbody>\n",
       "</table>\n",
       "</div>"
      ],
      "text/plain": [
       "                                                      0  \\\n",
       "AGREEMENT_RK                                   59910150   \n",
       "TARGET                                                0   \n",
       "AGE                                                  49   \n",
       "SOCSTATUS_WORK_FL                                     1   \n",
       "SOCSTATUS_PENS_FL                                     0   \n",
       "GENDER                                                1   \n",
       "CHILD_TOTAL                                           2   \n",
       "DEPENDANTS                                            1   \n",
       "EDUCATION                           Среднее специальное   \n",
       "MARITAL_STATUS                           Состою в браке   \n",
       "GEN_INDUSTRY                                   Торговля   \n",
       "GEN_TITLE                                       Рабочий   \n",
       "ORG_TP_STATE                           Частная компания   \n",
       "ORG_TP_FCAPITAL                             Без участия   \n",
       "JOB_DIR                     Вспомогательный техперсонал   \n",
       "FAMILY_INCOME                    от 10000 до 20000 руб.   \n",
       "PERSONAL_INCOME                                    5000   \n",
       "REG_ADDRESS_PROVINCE               Оренбургская область   \n",
       "FACT_ADDRESS_PROVINCE              Оренбургская область   \n",
       "POSTAL_ADDRESS_PROVINCE            Оренбургская область   \n",
       "TP_PROVINCE                        Оренбургская область   \n",
       "REGION_NM                                    ПОВОЛЖСКИЙ   \n",
       "REG_FACT_FL                                           1   \n",
       "FACT_POST_FL                                          1   \n",
       "REG_POST_FL                                           1   \n",
       "REG_FACT_POST_FL                                      1   \n",
       "REG_FACT_POST_TP_FL                                   1   \n",
       "FL_PRESENCE_FL                                        0   \n",
       "OWN_AUTO                                              0   \n",
       "AUTO_RUS_FL                                           0   \n",
       "HS_PRESENCE_FL                                        0   \n",
       "COT_PRESENCE_FL                                       0   \n",
       "GAR_PRESENCE_FL                                       0   \n",
       "LAND_PRESENCE_FL                                      0   \n",
       "CREDIT                                             8000   \n",
       "TERM                                                  6   \n",
       "FST_PAYMENT                                        8650   \n",
       "DL_DOCUMENT_FL                                        0   \n",
       "GPF_DOCUMENT_FL                                       1   \n",
       "FACT_LIVING_TERM                                    220   \n",
       "WORK_TIME                                            18   \n",
       "FACT_PHONE_FL                                         0   \n",
       "REG_PHONE_FL                                          0   \n",
       "GEN_PHONE_FL                                          1   \n",
       "LOAN_NUM_TOTAL                                        1   \n",
       "LOAN_NUM_CLOSED                                       1   \n",
       "LOAN_NUM_PAYM                                         6   \n",
       "LOAN_DLQ_NUM                                          2   \n",
       "LOAN_MAX_DLQ                                          1   \n",
       "LOAN_AVG_DLQ_AMT                                   1580   \n",
       "LOAN_MAX_DLQ_AMT                                   1580   \n",
       "PREVIOUS_CARD_NUM_UTILIZED                          NaN   \n",
       "\n",
       "                                                         1  \\\n",
       "AGREEMENT_RK                                      59910230   \n",
       "TARGET                                                   0   \n",
       "AGE                                                     32   \n",
       "SOCSTATUS_WORK_FL                                        1   \n",
       "SOCSTATUS_PENS_FL                                        0   \n",
       "GENDER                                                   1   \n",
       "CHILD_TOTAL                                              3   \n",
       "DEPENDANTS                                               3   \n",
       "EDUCATION                                          Среднее   \n",
       "MARITAL_STATUS                              Состою в браке   \n",
       "GEN_INDUSTRY                                      Торговля   \n",
       "GEN_TITLE                                          Рабочий   \n",
       "ORG_TP_STATE                Индивидуальный предприниматель   \n",
       "ORG_TP_FCAPITAL                                Без участия   \n",
       "JOB_DIR                      Участие в основ. деятельности   \n",
       "FAMILY_INCOME                       от 10000 до 20000 руб.   \n",
       "PERSONAL_INCOME                                      12000   \n",
       "REG_ADDRESS_PROVINCE                    Кабардино-Балкария   \n",
       "FACT_ADDRESS_PROVINCE                   Кабардино-Балкария   \n",
       "POSTAL_ADDRESS_PROVINCE                 Кабардино-Балкария   \n",
       "TP_PROVINCE                            Ставропольский край   \n",
       "REGION_NM                                            ЮЖНЫЙ   \n",
       "REG_FACT_FL                                              1   \n",
       "FACT_POST_FL                                             1   \n",
       "REG_POST_FL                                              1   \n",
       "REG_FACT_POST_FL                                         1   \n",
       "REG_FACT_POST_TP_FL                                      0   \n",
       "FL_PRESENCE_FL                                           0   \n",
       "OWN_AUTO                                                 0   \n",
       "AUTO_RUS_FL                                              0   \n",
       "HS_PRESENCE_FL                                           0   \n",
       "COT_PRESENCE_FL                                          0   \n",
       "GAR_PRESENCE_FL                                          0   \n",
       "LAND_PRESENCE_FL                                         0   \n",
       "CREDIT                                               21650   \n",
       "TERM                                                     6   \n",
       "FST_PAYMENT                                           4000   \n",
       "DL_DOCUMENT_FL                                           0   \n",
       "GPF_DOCUMENT_FL                                          1   \n",
       "FACT_LIVING_TERM                                       137   \n",
       "WORK_TIME                                               97   \n",
       "FACT_PHONE_FL                                            1   \n",
       "REG_PHONE_FL                                             0   \n",
       "GEN_PHONE_FL                                             1   \n",
       "LOAN_NUM_TOTAL                                           1   \n",
       "LOAN_NUM_CLOSED                                          1   \n",
       "LOAN_NUM_PAYM                                            6   \n",
       "LOAN_DLQ_NUM                                             1   \n",
       "LOAN_MAX_DLQ                                             1   \n",
       "LOAN_AVG_DLQ_AMT                                      4020   \n",
       "LOAN_MAX_DLQ_AMT                                      4020   \n",
       "PREVIOUS_CARD_NUM_UTILIZED                             NaN   \n",
       "\n",
       "                                                        2  \\\n",
       "AGREEMENT_RK                                     59910525   \n",
       "TARGET                                                  0   \n",
       "AGE                                                    52   \n",
       "SOCSTATUS_WORK_FL                                       1   \n",
       "SOCSTATUS_PENS_FL                                       0   \n",
       "GENDER                                                  1   \n",
       "CHILD_TOTAL                                             4   \n",
       "DEPENDANTS                                              0   \n",
       "EDUCATION                                Неполное среднее   \n",
       "MARITAL_STATUS                             Состою в браке   \n",
       "GEN_INDUSTRY                    Информационные технологии   \n",
       "GEN_TITLE                                      Специалист   \n",
       "ORG_TP_STATE                 Государственная комп./учреж.   \n",
       "ORG_TP_FCAPITAL                               Без участия   \n",
       "JOB_DIR                     Участие в основ. деятельности   \n",
       "FAMILY_INCOME                      от 10000 до 20000 руб.   \n",
       "PERSONAL_INCOME                                      9000   \n",
       "REG_ADDRESS_PROVINCE                    Иркутская область   \n",
       "FACT_ADDRESS_PROVINCE                   Иркутская область   \n",
       "POSTAL_ADDRESS_PROVINCE                 Иркутская область   \n",
       "TP_PROVINCE                             Иркутская область   \n",
       "REGION_NM                              ВОСТОЧНО-СИБИРСКИЙ   \n",
       "REG_FACT_FL                                             1   \n",
       "FACT_POST_FL                                            1   \n",
       "REG_POST_FL                                             1   \n",
       "REG_FACT_POST_FL                                        1   \n",
       "REG_FACT_POST_TP_FL                                     1   \n",
       "FL_PRESENCE_FL                                          0   \n",
       "OWN_AUTO                                                0   \n",
       "AUTO_RUS_FL                                             0   \n",
       "HS_PRESENCE_FL                                          1   \n",
       "COT_PRESENCE_FL                                         0   \n",
       "GAR_PRESENCE_FL                                         0   \n",
       "LAND_PRESENCE_FL                                        0   \n",
       "CREDIT                                              33126   \n",
       "TERM                                                   12   \n",
       "FST_PAYMENT                                          4000   \n",
       "DL_DOCUMENT_FL                                          0   \n",
       "GPF_DOCUMENT_FL                                         1   \n",
       "FACT_LIVING_TERM                                      251   \n",
       "WORK_TIME                                              84   \n",
       "FACT_PHONE_FL                                           0   \n",
       "REG_PHONE_FL                                            0   \n",
       "GEN_PHONE_FL                                            1   \n",
       "LOAN_NUM_TOTAL                                          2   \n",
       "LOAN_NUM_CLOSED                                         1   \n",
       "LOAN_NUM_PAYM                                          11   \n",
       "LOAN_DLQ_NUM                                            0   \n",
       "LOAN_MAX_DLQ                                            0   \n",
       "LOAN_AVG_DLQ_AMT                                        0   \n",
       "LOAN_MAX_DLQ_AMT                                        0   \n",
       "PREVIOUS_CARD_NUM_UTILIZED                            NaN   \n",
       "\n",
       "                                                        3  \\\n",
       "AGREEMENT_RK                                     59910803   \n",
       "TARGET                                                  0   \n",
       "AGE                                                    39   \n",
       "SOCSTATUS_WORK_FL                                       1   \n",
       "SOCSTATUS_PENS_FL                                       0   \n",
       "GENDER                                                  1   \n",
       "CHILD_TOTAL                                             1   \n",
       "DEPENDANTS                                              1   \n",
       "EDUCATION                                          Высшее   \n",
       "MARITAL_STATUS                             Состою в браке   \n",
       "GEN_INDUSTRY                                  Образование   \n",
       "GEN_TITLE                     Руководитель среднего звена   \n",
       "ORG_TP_STATE                 Государственная комп./учреж.   \n",
       "ORG_TP_FCAPITAL                               Без участия   \n",
       "JOB_DIR                     Участие в основ. деятельности   \n",
       "FAMILY_INCOME                      от 20000 до 50000 руб.   \n",
       "PERSONAL_INCOME                                     25000   \n",
       "REG_ADDRESS_PROVINCE                   Ростовская область   \n",
       "FACT_ADDRESS_PROVINCE                  Ростовская область   \n",
       "POSTAL_ADDRESS_PROVINCE                Ростовская область   \n",
       "TP_PROVINCE                            Ростовская область   \n",
       "REGION_NM                                           ЮЖНЫЙ   \n",
       "REG_FACT_FL                                             0   \n",
       "FACT_POST_FL                                            1   \n",
       "REG_POST_FL                                             0   \n",
       "REG_FACT_POST_FL                                        0   \n",
       "REG_FACT_POST_TP_FL                                     1   \n",
       "FL_PRESENCE_FL                                          1   \n",
       "OWN_AUTO                                                0   \n",
       "AUTO_RUS_FL                                             0   \n",
       "HS_PRESENCE_FL                                          0   \n",
       "COT_PRESENCE_FL                                         0   \n",
       "GAR_PRESENCE_FL                                         0   \n",
       "LAND_PRESENCE_FL                                        0   \n",
       "CREDIT                                            8491,82   \n",
       "TERM                                                    6   \n",
       "FST_PAYMENT                                          5000   \n",
       "DL_DOCUMENT_FL                                          0   \n",
       "GPF_DOCUMENT_FL                                         0   \n",
       "FACT_LIVING_TERM                                       36   \n",
       "WORK_TIME                                             168   \n",
       "FACT_PHONE_FL                                           1   \n",
       "REG_PHONE_FL                                            1   \n",
       "GEN_PHONE_FL                                            1   \n",
       "LOAN_NUM_TOTAL                                          1   \n",
       "LOAN_NUM_CLOSED                                         1   \n",
       "LOAN_NUM_PAYM                                           6   \n",
       "LOAN_DLQ_NUM                                            3   \n",
       "LOAN_MAX_DLQ                                            1   \n",
       "LOAN_AVG_DLQ_AMT                         1589,92333333333   \n",
       "LOAN_MAX_DLQ_AMT                                     1590   \n",
       "PREVIOUS_CARD_NUM_UTILIZED                            NaN   \n",
       "\n",
       "                                                        4  \n",
       "AGREEMENT_RK                                     59911781  \n",
       "TARGET                                                  0  \n",
       "AGE                                                    30  \n",
       "SOCSTATUS_WORK_FL                                       1  \n",
       "SOCSTATUS_PENS_FL                                       0  \n",
       "GENDER                                                  0  \n",
       "CHILD_TOTAL                                             0  \n",
       "DEPENDANTS                                              0  \n",
       "EDUCATION                                         Среднее  \n",
       "MARITAL_STATUS                             Состою в браке  \n",
       "GEN_INDUSTRY                       Государственная служба  \n",
       "GEN_TITLE                                      Специалист  \n",
       "ORG_TP_STATE                 Государственная комп./учреж.  \n",
       "ORG_TP_FCAPITAL                               Без участия  \n",
       "JOB_DIR                     Участие в основ. деятельности  \n",
       "FAMILY_INCOME                      от 10000 до 20000 руб.  \n",
       "PERSONAL_INCOME                                     12000  \n",
       "REG_ADDRESS_PROVINCE                   Кабардино-Балкария  \n",
       "FACT_ADDRESS_PROVINCE                  Кабардино-Балкария  \n",
       "POSTAL_ADDRESS_PROVINCE                Кабардино-Балкария  \n",
       "TP_PROVINCE                           Ставропольский край  \n",
       "REGION_NM                                           ЮЖНЫЙ  \n",
       "REG_FACT_FL                                             1  \n",
       "FACT_POST_FL                                            1  \n",
       "REG_POST_FL                                             1  \n",
       "REG_FACT_POST_FL                                        1  \n",
       "REG_FACT_POST_TP_FL                                     0  \n",
       "FL_PRESENCE_FL                                          0  \n",
       "OWN_AUTO                                                0  \n",
       "AUTO_RUS_FL                                             0  \n",
       "HS_PRESENCE_FL                                          1  \n",
       "COT_PRESENCE_FL                                         0  \n",
       "GAR_PRESENCE_FL                                         0  \n",
       "LAND_PRESENCE_FL                                        0  \n",
       "CREDIT                                              21990  \n",
       "TERM                                                   12  \n",
       "FST_PAYMENT                                          4000  \n",
       "DL_DOCUMENT_FL                                          0  \n",
       "GPF_DOCUMENT_FL                                         1  \n",
       "FACT_LIVING_TERM                                       83  \n",
       "WORK_TIME                                             101  \n",
       "FACT_PHONE_FL                                           1  \n",
       "REG_PHONE_FL                                            0  \n",
       "GEN_PHONE_FL                                            1  \n",
       "LOAN_NUM_TOTAL                                          2  \n",
       "LOAN_NUM_CLOSED                                         1  \n",
       "LOAN_NUM_PAYM                                          16  \n",
       "LOAN_DLQ_NUM                                            2  \n",
       "LOAN_MAX_DLQ                                            1  \n",
       "LOAN_AVG_DLQ_AMT                                  1152,15  \n",
       "LOAN_MAX_DLQ_AMT                                     2230  \n",
       "PREVIOUS_CARD_NUM_UTILIZED                            NaN  "
      ]
     },
     "execution_count": 341,
     "metadata": {},
     "output_type": "execute_result"
    }
   ],
   "source": [
    "df_train.head().T"
   ]
  },
  {
   "cell_type": "markdown",
   "metadata": {},
   "source": [
    "## Объединим две выборки\n",
    "\n",
    "Так как пока мы пока не умеем работать sklearn  Pipeline, то для того, чтобы после предобработки столбцы в двух выборках находились на своих местах.\n",
    "\n",
    "Для того, чтобы в дальнейшем отделить их введем новый столбец \"sample\""
   ]
  },
  {
   "cell_type": "code",
   "execution_count": 342,
   "metadata": {
    "collapsed": true
   },
   "outputs": [],
   "source": [
    "df_train.loc[:, 'sample'] = 'train'\n",
    "df_test.loc[:, 'sample'] = 'test'"
   ]
  },
  {
   "cell_type": "code",
   "execution_count": 343,
   "metadata": {
    "collapsed": false
   },
   "outputs": [],
   "source": [
    "df = df_test.append(df_train).reset_index(drop=True)"
   ]
  },
  {
   "cell_type": "code",
   "execution_count": 344,
   "metadata": {
    "collapsed": false
   },
   "outputs": [
    {
     "data": {
      "text/plain": [
       "(30133, 53)"
      ]
     },
     "execution_count": 344,
     "metadata": {},
     "output_type": "execute_result"
    }
   ],
   "source": [
    "df.shape"
   ]
  },
  {
   "cell_type": "markdown",
   "metadata": {},
   "source": [
    "### Чуть-чуть посмотрим на данные"
   ]
  },
  {
   "cell_type": "markdown",
   "metadata": {
    "collapsed": true
   },
   "source": [
    "Посмотрим типы данных и их заполняемость"
   ]
  },
  {
   "cell_type": "code",
   "execution_count": 345,
   "metadata": {
    "collapsed": false,
    "scrolled": false
   },
   "outputs": [
    {
     "name": "stdout",
     "output_type": "stream",
     "text": [
      "<class 'pandas.core.frame.DataFrame'>\n",
      "RangeIndex: 30133 entries, 0 to 30132\n",
      "Data columns (total 53 columns):\n",
      "AGREEMENT_RK                  30133 non-null int64\n",
      "TARGET                        30133 non-null int64\n",
      "AGE                           30133 non-null int64\n",
      "SOCSTATUS_WORK_FL             30133 non-null int64\n",
      "SOCSTATUS_PENS_FL             30133 non-null int64\n",
      "GENDER                        30133 non-null int64\n",
      "CHILD_TOTAL                   30133 non-null int64\n",
      "DEPENDANTS                    30133 non-null int64\n",
      "EDUCATION                     30133 non-null object\n",
      "MARITAL_STATUS                30133 non-null object\n",
      "GEN_INDUSTRY                  27420 non-null object\n",
      "GEN_TITLE                     27420 non-null object\n",
      "ORG_TP_STATE                  27420 non-null object\n",
      "ORG_TP_FCAPITAL               27425 non-null object\n",
      "JOB_DIR                       27420 non-null object\n",
      "FAMILY_INCOME                 30133 non-null object\n",
      "PERSONAL_INCOME               30133 non-null object\n",
      "REG_ADDRESS_PROVINCE          30133 non-null object\n",
      "FACT_ADDRESS_PROVINCE         30133 non-null object\n",
      "POSTAL_ADDRESS_PROVINCE       30133 non-null object\n",
      "TP_PROVINCE                   29543 non-null object\n",
      "REGION_NM                     30131 non-null object\n",
      "REG_FACT_FL                   30133 non-null int64\n",
      "FACT_POST_FL                  30133 non-null int64\n",
      "REG_POST_FL                   30133 non-null int64\n",
      "REG_FACT_POST_FL              30133 non-null int64\n",
      "REG_FACT_POST_TP_FL           30133 non-null int64\n",
      "FL_PRESENCE_FL                30133 non-null int64\n",
      "OWN_AUTO                      30133 non-null int64\n",
      "AUTO_RUS_FL                   30133 non-null int64\n",
      "HS_PRESENCE_FL                30133 non-null int64\n",
      "COT_PRESENCE_FL               30133 non-null int64\n",
      "GAR_PRESENCE_FL               30133 non-null int64\n",
      "LAND_PRESENCE_FL              30133 non-null int64\n",
      "CREDIT                        30133 non-null object\n",
      "TERM                          30133 non-null int64\n",
      "FST_PAYMENT                   30133 non-null object\n",
      "DL_DOCUMENT_FL                30133 non-null int64\n",
      "GPF_DOCUMENT_FL               30133 non-null int64\n",
      "FACT_LIVING_TERM              30133 non-null int64\n",
      "WORK_TIME                     27416 non-null float64\n",
      "FACT_PHONE_FL                 30133 non-null int64\n",
      "REG_PHONE_FL                  30133 non-null int64\n",
      "GEN_PHONE_FL                  30133 non-null int64\n",
      "LOAN_NUM_TOTAL                30133 non-null int64\n",
      "LOAN_NUM_CLOSED               30133 non-null int64\n",
      "LOAN_NUM_PAYM                 30133 non-null int64\n",
      "LOAN_DLQ_NUM                  30133 non-null int64\n",
      "LOAN_MAX_DLQ                  30133 non-null int64\n",
      "LOAN_AVG_DLQ_AMT              30133 non-null object\n",
      "LOAN_MAX_DLQ_AMT              30133 non-null object\n",
      "PREVIOUS_CARD_NUM_UTILIZED    600 non-null float64\n",
      "sample                        30133 non-null object\n",
      "dtypes: float64(2), int64(32), object(19)\n",
      "memory usage: 12.2+ MB\n"
     ]
    }
   ],
   "source": [
    "df.info()"
   ]
  },
  {
   "cell_type": "markdown",
   "metadata": {
    "collapsed": true
   },
   "source": [
    "Видим, что часть данных - object, скорее всего стоки.\n",
    "\n",
    "\n",
    "Давайте выведем эти значения для каждого столбца"
   ]
  },
  {
   "cell_type": "code",
   "execution_count": 346,
   "metadata": {
    "collapsed": false
   },
   "outputs": [
    {
     "name": "stdout",
     "output_type": "stream",
     "text": [
      "==========\n",
      "EDUCATION\n",
      "{'Неоконченное высшее', 'Два и более высших образования', 'Высшее', 'Среднее', 'Неполное среднее', 'Ученая степень', 'Среднее специальное'}\n",
      "\n",
      "\n",
      "==========\n",
      "MARITAL_STATUS\n",
      "{'Гражданский брак', 'Вдовец/Вдова', 'Состою в браке', 'Разведен(а)', 'Не состоял в браке'}\n",
      "\n",
      "\n",
      "==========\n",
      "GEN_INDUSTRY\n",
      "{nan, 'Коммунальное хоз-во/Дорожные службы', 'Банк/Финансы', 'Нефтегазовая промышленность', 'Недвижимость', 'Ресторанный бизнес/Общественное питание', 'Образование', 'Химия/Парфюмерия/Фармацевтика', 'Туризм', 'Юридические услуги/нотариальные услуги', 'Государственная служба', 'Транспорт', 'Управляющая компания', 'Здравоохранение', 'Сельское хозяйство', 'ЧОП/Детективная д-ть', 'Сборочные производства', 'Логистика', 'Развлечения/Искусство', 'Металлургия/Промышленность/Машиностроение', 'Строительство', 'Наука', 'Информационные услуги', 'Другие сферы', 'Страхование', 'СМИ/Реклама/PR-агенства', 'Торговля', 'Салоны красоты и здоровья', 'Энергетика', 'Маркетинг', 'Подбор персонала', 'Информационные технологии'}\n",
      "\n",
      "\n",
      "==========\n",
      "GEN_TITLE\n",
      "{'Рабочий', 'Высококвалифиц. специалист', nan, 'Партнер', 'Специалист', 'Работник сферы услуг', 'Военнослужащий по контракту', 'Индивидуальный предприниматель', 'Руководитель низшего звена', 'Руководитель среднего звена', 'Руководитель высшего звена', 'Служащий', 'Другое'}\n",
      "\n",
      "\n",
      "==========\n",
      "ORG_TP_STATE\n",
      "{nan, 'Частная компания', 'Частная ком. с инос. капиталом', 'Государственная комп./учреж.', 'Индивидуальный предприниматель', 'Некоммерческая организация'}\n",
      "\n",
      "\n",
      "==========\n",
      "ORG_TP_FCAPITAL\n",
      "{nan, 'Без участия', 'С участием'}\n",
      "\n",
      "\n",
      "==========\n",
      "JOB_DIR\n",
      "{nan, 'Реклама и маркетинг', 'Бухгалтерия, финансы, планир.', 'Пр-техн. обесп. и телеком.', 'Адм-хоз. и трансп. службы', 'Вспомогательный техперсонал', 'Снабжение и сбыт', 'Юридическая служба', 'Кадровая служба и секретариат', 'Служба безопасности', 'Участие в основ. деятельности'}\n",
      "\n",
      "\n",
      "==========\n",
      "FAMILY_INCOME\n",
      "{'от 5000 до 10000 руб.', 'до 5000 руб.', 'свыше 50000 руб.', 'от 20000 до 50000 руб.', 'от 10000 до 20000 руб.'}\n",
      "\n",
      "\n",
      "==========\n",
      "PERSONAL_INCOME\n",
      "{'15560', '8100', '8900', '7650', '8350', '13900', '3300', '8500', '12900', '28300', '17500', '4000', '31000', '48000', '6500', '17600', '160000', '29000', '46000', '11640', '5050', '7000', '3000', '32640', '42000', '29800', '55000', '16900', '18700', '13800', '15300', '4590', '2100', '4330', '18500', '10500', '37000', '3700', '6800', '68000', '11500', '5800', '13600', '23800', '77000', '9240', '20646,16', '5300', '38000', '12400', '11400', '8250', '3600', '45000', '29500', '53000', '4800', '10200', '10900', '8400', '2300', '26000', '10000', '9800', '24000', '7800', '13200', '4300', '15500', '6100', '4515', '60000', '11200', '9700', '14000', '5460', '13000', '7830', '7600', '7300', '50000', '6180', '4340', '7900', '9340', '92000', '9600', '18600', '80000', '13450', '19700', '7850', '11800', '54000', '7101', '5680', '7400', '6900', '19300', '3800', '15000', '100000', '8600', '6300', '9300', '22000', '17404', '5582', '13500', '9330', '10600', '2800', '8700', '4100', '21000', '11900', '17800', '13300', '16200', '11000', '15380', '16100', '5900', '47000', '4200', '40000', '4950', '8066', '3200', '170000', '5100', '250000', '7050', '9400', '15600', '4360', '32000', '12000', '51000', '13150', '1950', '36000', '23500', '14800', '23000', '52000', '10100', '10800', '12800', '30000', '110000', '220000', '4700', '49000', '19800', '4400', '7700', '25000', '8800', '16700', '16800', '19000', '14300', '4600', '3900', '18200', '19500', '24500', '7251', '12650', '67700', '6299,19', '3100', '12500', '12100', '43000', '18000', '6600', '10300', '11600', '2000', '24800', '23100', '14500', '27000', '28000', '9200', '17000', '25800', '67000', '5360', '7220', '6000', '44000', '33000', '6400', '27300', '65000', '39000', '70000', '20000', '7250', '13400', '9628', '8300', '34000', '8726', '17200', '41900', '75000', '22955', '19600', '150000', '5790', '9000', '5700', '5600', '16500', '9100', '14358', '3400', '12300', '7640', '11300', '6608', '15200', '42500', '9500', '13160', '20500', '5500', '7200', '5200', '10700', '14700', '26500', '35000', '4900', '7500', '17700', '12600', '7550', '5000', '6700', '4500', '5339', '6359', '3500', '8200', '5400', '15400', '16000', '5446', '22500', '13700', '10400', '21500', '8000', '16050', '41000', '17900', '9900', '5088', '7100', '6670', '5350', '24', '56000', '5230', '12700', '11700', '5425', '21800', '6200'}\n",
      "\n",
      "\n",
      "==========\n",
      "REG_ADDRESS_PROVINCE\n",
      "{'Якутия', 'Брянская область', 'Северная Осетия', 'Камчатская область', 'Еврейская АО', 'Архангельская область', 'Москва', 'Ленинградская область', 'Ярославская область', 'Челябинская область', 'Горный Алтай', 'Амурская область', 'Воронежская область', 'Приморский край', 'Кабардино-Балкария', 'Агинский Бурятский АО', 'Кировская область', 'Томская область', 'Ульяновская область', 'Новгородская область', 'Карелия', 'Красноярский край', 'Татарстан', 'Орловская область', 'Тульская область', 'Курганская область', 'Нижегородская область', 'Оренбургская область', 'Псковская область', 'Калмыкия', 'Вологодская область', 'Сахалинская область', 'Мордовская республика', 'Тюменская область', 'Смоленская область', 'Самарская область', 'Пензенская область', 'Ямало-Ненецкий АО', 'Хакасия', 'Кемеровская область', 'Санкт-Петербург', 'Саратовская область', 'Волгоградская область', 'Мурманская область', 'Астраханская область', 'Ханты-Мансийский АО', 'Ставропольский край', 'Владимирская область', 'Новосибирская область', 'Алтайский край', 'Белгородская область', 'Рязанская область', 'Бурятия', 'Ивановская область', 'Липецкая область', 'Дагестан', 'Карачаево-Черкесия', 'Магаданская область', 'Ростовская область', 'Адыгея', 'Чувашия', 'Пермская область', 'Башкирия', 'Хабаровский край', 'Свердловская область', 'Калининградская область', 'Усть-Ордынский Бурятский АО', 'Марийская республика', 'Коми', 'Калужская область', 'Тверская область', 'Читинская область', 'Курская область', 'Омская область', 'Костромская область', 'Иркутская область', 'Тамбовская область', 'Московская область', 'Краснодарский край', 'Удмуртия', 'Эвенкийский АО'}\n",
      "\n",
      "\n",
      "==========\n",
      "FACT_ADDRESS_PROVINCE\n",
      "{'Якутия', 'Брянская область', 'Северная Осетия', 'Камчатская область', 'Еврейская АО', 'Архангельская область', 'Москва', 'Ленинградская область', 'Ярославская область', 'Челябинская область', 'Горный Алтай', 'Амурская область', 'Воронежская область', 'Приморский край', 'Кабардино-Балкария', 'Агинский Бурятский АО', 'Кировская область', 'Томская область', 'Ульяновская область', 'Новгородская область', 'Карелия', 'Красноярский край', 'Татарстан', 'Орловская область', 'Тульская область', 'Курганская область', 'Нижегородская область', 'Оренбургская область', 'Псковская область', 'Калмыкия', 'Вологодская область', 'Сахалинская область', 'Мордовская республика', 'Тюменская область', 'Смоленская область', 'Самарская область', 'Пензенская область', 'Ямало-Ненецкий АО', 'Хакасия', 'Кемеровская область', 'Санкт-Петербург', 'Саратовская область', 'Волгоградская область', 'Мурманская область', 'Астраханская область', 'Ханты-Мансийский АО', 'Ставропольский край', 'Владимирская область', 'Новосибирская область', 'Алтайский край', 'Белгородская область', 'Рязанская область', 'Бурятия', 'Ивановская область', 'Липецкая область', 'Дагестан', 'Карачаево-Черкесия', 'Магаданская область', 'Ростовская область', 'Адыгея', 'Чувашия', 'Пермская область', 'Башкирия', 'Хабаровский край', 'Свердловская область', 'Калининградская область', 'Усть-Ордынский Бурятский АО', 'Марийская республика', 'Коми', 'Калужская область', 'Тверская область', 'Читинская область', 'Курская область', 'Омская область', 'Костромская область', 'Иркутская область', 'Московская область', 'Тамбовская область', 'Краснодарский край', 'Удмуртия', 'Эвенкийский АО'}\n",
      "\n",
      "\n",
      "==========\n",
      "POSTAL_ADDRESS_PROVINCE\n",
      "{'Якутия', 'Брянская область', 'Северная Осетия', 'Камчатская область', 'Еврейская АО', 'Архангельская область', 'Москва', 'Ленинградская область', 'Ярославская область', 'Челябинская область', 'Горный Алтай', 'Амурская область', 'Воронежская область', 'Приморский край', 'Кабардино-Балкария', 'Агинский Бурятский АО', 'Кировская область', 'Томская область', 'Ульяновская область', 'Новгородская область', 'Карелия', 'Красноярский край', 'Татарстан', 'Орловская область', 'Тульская область', 'Курганская область', 'Нижегородская область', 'Оренбургская область', 'Псковская область', 'Калмыкия', 'Вологодская область', 'Сахалинская область', 'Мордовская республика', 'Тюменская область', 'Смоленская область', 'Самарская область', 'Пензенская область', 'Ямало-Ненецкий АО', 'Хакасия', 'Кемеровская область', 'Санкт-Петербург', 'Саратовская область', 'Волгоградская область', 'Мурманская область', 'Астраханская область', 'Ханты-Мансийский АО', 'Ставропольский край', 'Владимирская область', 'Новосибирская область', 'Алтайский край', 'Белгородская область', 'Рязанская область', 'Бурятия', 'Ивановская область', 'Липецкая область', 'Карачаево-Черкесия', 'Магаданская область', 'Ростовская область', 'Адыгея', 'Чувашия', 'Пермская область', 'Башкирия', 'Хабаровский край', 'Свердловская область', 'Калининградская область', 'Усть-Ордынский Бурятский АО', 'Марийская республика', 'Коми', 'Калужская область', 'Тверская область', 'Читинская область', 'Курская область', 'Омская область', 'Костромская область', 'Иркутская область', 'Московская область', 'Тамбовская область', 'Краснодарский край', 'Удмуртия', 'Эвенкийский АО'}\n",
      "\n",
      "\n",
      "==========\n",
      "TP_PROVINCE\n",
      "{'Якутия', 'Брянская область', nan, 'Камчатская область', 'Еврейская АО', 'Архангельская область', 'Москва', 'Ярославская область', 'Челябинская область', 'Горный Алтай', 'Амурская область', 'Воронежская область', 'Приморский край', 'Кабардино-Балкария', 'Кировская область', 'Томская область', 'Ульяновская область', 'Новгородская область', 'Карелия', 'Красноярский край', 'Татарстан', 'Орловская область', 'Тульская область', 'Курганская область', 'Нижегородская область', 'Оренбургская область', 'Псковская область', 'Вологодская область', 'Сахалинская область', 'Мордовская республика', 'Тюменская область', 'Смоленская область', 'Самарская область', 'Пензенская область', 'Санкт-Петербург', 'Кемеровская область', 'Саратовская область', 'Волгоградская область', 'Ставропольский край', 'Мурманская область', 'Ханты-Мансийский АО', 'Астраханская область', 'Владимирская область', 'Новосибирская область', 'Алтайский край', 'Белгородская область', 'Рязанская область', 'Бурятия', 'Ивановская область', 'Липецкая область', 'Магаданская область', 'Ростовская область', 'Адыгея', 'Чувашия', 'Пермская область', 'Башкирия', 'Хабаровский край', 'Свердловская область', 'Калининградская область', 'Марийская республика', 'Коми', 'Калужская область', 'Тверская область', 'Читинская область', 'Курская область', 'Омская область', 'Костромская область', 'Иркутская область', 'Тамбовская область', 'Краснодарский край', 'Удмуртия'}\n",
      "\n",
      "\n",
      "==========\n",
      "REGION_NM\n",
      "{'ЮЖНЫЙ', 'ЦЕНТРАЛЬНЫЙ 1', nan, 'ПРИВОЛЖСКИЙ', 'ЗАПАДНО-СИБИРСКИЙ', 'ЦЕНТРАЛЬНЫЙ ОФИС', 'ПОВОЛЖСКИЙ', 'ДАЛЬНЕВОСТОЧНЫЙ', 'УРАЛЬСКИЙ', 'СЕВЕРО-ЗАПАДНЫЙ', 'ВОСТОЧНО-СИБИРСКИЙ', 'ЦЕНТРАЛЬНЫЙ 2'}\n",
      "\n",
      "\n",
      "==========\n",
      "CREDIT\n",
      "{'14648', '15680', '14295', '4405', '14383', '21499', '9460', '7996', '15748', '30940', '21810', '20990', '20636,91', '4290,95', '2152', '12608', '17860', '7551', '9651', '4160', '17248', '8429', '6660', '15790', '10220', '22369', '23400', '2421,9', '11725', '3195', '26461', '12953', '2572', '10791', '31538', '23148', '4947', '13635', '20499', '23396', '4428', '8491,82', '25920', '28070', '13882,92', '10287', '14636', '14965', '13950', '28666', '78000', '8955', '21890', '22977', '4608', '11441', '24283', '5630', '10105', '7060', '21717', '29788', '26708', '7890', '3067', '20338', '9098', '23130', '20179', '5370', '2979', '7116', '3879', '10479', '12092', '8399', '20630', '14596', '9825', '21670', '36900', '4969', '19746', '18885', '17010', '12240', '9890', '28238', '6000', '27790', '30813', '13191', '26710', '20999', '4892', '17220', '9917', '39327,2', '11100', '96200', '21410', '23715', '22711,21', '2872', '30686', '6940', '30597', '8038', '8110', '6470', '5339', '16865', '8450', '3904,3', '6780', '21717,92', '20040', '29177', '116360', '19502', '3407', '36267', '20498,1', '9227', '38725', '4114', '38553', '6291', '3748', '31520', '29000', '18340', '7578', '17888', '24465', '4820', '18187', '24405,4', '5472', '7090', '14031', '7313', '7582', '9176', '12410', '9301', '19810', '8899', '33920', '10315', '8102', '3640', '14747,1', '22121,1', '14060', '24132', '3933', '8606', '6180', '17622', '18498', '11900', '5708', '4200', '8806', '6365', '20598', '4935', '2048', '17558', '6785', '13899', '13926', '18100', '34195', '13792', '19360', '13259', '18389', '2390', '6375', '10463', '11175', '19772', '28016', '27550', '5590', '22600', '4470', '16868', '13653', '3480', '13344', '14497', '23992', '19341,2', '22015', '9215', '33862', '16491', '26760', '24300', '7611', '11279', '35955', '16985', '13257', '15442', '29345', '8034,2', '21861', '23758', '22830', '57209', '23684', '35250', '5109', '12741', '23575', '15887', '5272', '8669', '15190,5', '16591', '16990', '6880', '25500', '2955', '21080', '16576,2', '15084', '16657', '11842', '64670', '6373', '33978,63', '69000', '10548', '3010', '25683', '5796', '11990,95', '9189', '24281', '2495', '6950', '9248', '5749', '11551', '18538', '20992,78', '17300', '8770', '28790', '10185', '3237', '4370', '5190', '8658', '22890', '13930', '4624', '8763', '12566', '19278', '16899', '4326', '7199', '6018,39', '16420', '16890', '4077', '12599,9', '31070', '11672', '3681', '8237', '5180', '12328', '4056', '16245', '19128,41', '3740', '19760', '4170', '9629', '8999', '17110', '2819', '5482,3', '21838', '21865', '11619,84', '12616', '4860', '31221', '14527', '26780', '19880', '19800', '10879', '8369', '4030', '16244,9', '12849', '9034', '16227', '13679', '8902', '34821', '4072', '17763', '16647', '19050', '6313', '5994', '10432', '8120', '22490', '25199', '5364', '12197', '29206', '26997', '11350', '37517', '35825', '14065', '7080', '14639', '20095', '26865', '3420', '3877', '32280', '15615', '17592', '35097,66', '28258', '28661', '12570', '22850', '9224', '6828', '6136', '12591', '8230', '24810', '4210', '16660', '10010', '15950', '4900', '78120', '6540', '28172', '7509', '9891', '86900', '16590', '10240', '18999,2', '11288', '13669', '20910', '35530', '5605', '5620', '13321', '8849', '5282', '4920', '24605', '4979', '7787', '12345', '2243,7', '23784', '24017', '3107,7', '10040', '21586', '5568', '10322', '4644', '11930', '5589', '6288', '5639', '6639', '40700', '37350', '6800', '33996', '4579', '4800', '29490', '15389', '7920', '16995', '3230', '14460', '17911', '24000', '2165,4', '14175', '5849', '6282', '6278', '6625', '3520,8', '6530', '18185', '3167', '7420', '12710', '7455', '8994', '19184', '8117', '21160', '27348', '3628', '18491', '5610', '19993', '5388', '6089', '7755', '21805', '23713', '13835', '3602', '21980', '9400', '17470', '5228', '32790,9', '6519', '21778', '11211', '13728', '16320', '10939', '85270', '27149', '21808', '28861', '15255', '17980', '6741', '14199', '4212', '5296', '2690', '35400', '24682', '14999', '6960', '2790', '13080', '9923', '13491', '8373', '22692,96', '3541', '26886', '8883', '49750', '9876', '14990', '6470,9', '7020,9', '8068', '12150', '24110', '14197', '4212,8', '3892,2', '8438', '4493', '8840', '45750', '12559', '8204', '30825', '18603', '17170', '14270', '16040', '31040', '10590', '16440', '28160', '9695', '13216', '11920', '18048', '19089', '33476', '26590', '30131', '17263', '21380', '42300', '70500', '8050', '24420', '15907', '4290,9', '7544', '9920', '5174', '25730', '10310', '27062', '14993', '97000', '4248', '30960', '3001', '13499', '17795', '11997,2', '7990', '20390', '4816', '22085', '22599', '3250', '5295', '3130', '17595', '20925', '6906', '38850', '3093', '9998', '37150', '9592', '6190,92', '8648', '5910', '14625', '34900', '19905', '15030', '21597', '13356', '14593', '17789,2', '8515', '8186', '3030', '12784', '13326', '38810', '28890', '19602', '14461', '8846', '9080', '8644', '14300', '10971', '20488', '6182', '24059', '13776', '4292', '25158', '15822', '12265', '11600', '14651', '50940', '18054', '11130', '20800', '19503', '13320', '15336', '41837', '6990,92', '2719,2', '8405', '5091', '11817', '19748', '17970', '21405', '12251', '82800', '13570', '3760', '16045,2', '13227,7', '11911', '12572', '6256,8', '6930', '24630', '9995', '12835', '12960', '22898', '29760', '20268', '29234', '6269', '74466', '4746', '3565', '19340', '6070', '3296', '7715', '6340', '38800', '9237', '7892', '3294', '2870', '18906', '5807', '16272', '18330', '35145', '8755', '16489,9', '10704', '5960', '16620', '28340', '10508', '9610', '3145', '8753', '5267', '6364', '13940', '7258', '16107', '10520', '18022', '27501', '37017', '15621', '36730', '28060', '12510', '17060', '15720,91', '11719', '31885', '30200', '15883', '15788', '4882', '20397', '10349', '27450', '9246', '13815', '3598', '5496', '21550', '7872', '5208', '8489', '19083', '39240', '3808', '9416', '2559', '33320', '3520', '4199', '27922', '33126', '27990,91', '9679', '16993', '22264', '12500', '12325', '17802', '27860', '3040', '6600', '7878', '21860', '8498', '5211', '18820', '12425', '34493', '34154', '28750', '12310', '88000', '5987', '11853', '7112', '2730', '20833', '19730', '3389', '19993,4', '14092', '10225', '13895', '5778', '31460', '8935', '10990,91', '31502', '9994', '2457', '16999,82', '11264,25', '12848', '37857,2', '20530', '22320', '5064', '24844', '12342', '20750', '2305,8', '30372', '42408', '7229', '4175', '65747', '7340', '11526', '35598', '16145', '11519,1', '9467', '13179', '87673', '20280', '21771', '7035', '13550', '3540', '8879', '17750', '9398', '3289', '21640', '20180', '26315', '13300,91', '6678', '21948', '22962', '23595', '2619', '7302', '5405', '20882', '20640', '5941', '28557', '8097', '7137', '54738', '7459,6', '44500', '13450', '6146', '19751', '4930,95', '20928', '7235', '7970', '13190', '3840', '8361', '11204', '24263', '23315', '17308', '35520', '13040', '6797', '25897', '17347', '24112', '13768', '4252', '2975', '18270', '27880', '16630', '18050', '24945', '3413', '17073', '4182', '10570', '24295', '23220', '3117', '22799', '26595', '31900', '3305', '46385', '19886', '5178', '21938', '4479', '18175', '14948', '5724,2', '12904', '19342', '19289', '4548', '6347', '17298', '22323', '31498', '8102,08', '4617', '34999', '4812', '12206', '5645', '37480', '29445', '25080', '15299,9', '69188', '11650', '9791', '94300', '6867', '21218', '31278', '24889', '36194', '26872', '25492', '6561,9', '15560', '32397', '30590,92', '23290', '80440', '9510', '11093', '13380,56', '8412', '5077', '22488', '19489,91', '22810', '22250', '56700', '48700', '3799', '6170', '2860', '4642', '11460', '4740', '13630', '6440', '10665', '10610', '3220', '11212,06', '14609', '4057', '20789', '22324', '9870', '24950', '24198,2', '3031', '4961', '6136,58', '7604', '7307', '13250', '6900', '4674', '26440', '28450', '34695', '5135', '13260', '27080', '19235', '5253', '8940', '5955', '4410', '6073', '5548', '25830', '22290', '5748', '32391', '46960', '21320', '13410', '15017', '12640', '18499', '19520', '21220', '14160', '14921', '4904', '8833', '11333', '23945', '27170', '22789', '8460', '10671', '14360', '3390', '39720', '28162', '10366', '3199', '16070', '19610', '6835', '75000', '2990,92', '13157', '16824', '16063,29', '13875', '6698,3', '32970', '3140', '14690', '7450', '19782', '13563', '8025', '21858', '11405', '6950,7', '21736,2', '25520', '9198', '22330', '12996', '3015,2', '18710', '25998', '13700', '3329', '28565', '5494', '18450,8', '21620', '30951', '13665', '16284', '6327', '5078', '21470', '25068,94', '21907', '6610', '7350', '5940', '18260', '26658,9', '10339', '25950', '11359', '10528,3', '13140', '22525', '34990,8', '14755', '27360', '13324', '18318', '6035', '24239', '12400', '14196', '30599', '14119', '24423', '20620', '22213', '19670', '3430', '11637', '27686,2', '13005', '2299', '17778', '12198', '11750', '35700', '19110', '16860', '2745', '7625', '13941', '4540', '10864', '3860', '7366', '29250', '25313', '28775', '15895', '2241', '12599', '9389', '6475', '25625', '5351', '31015', '21592', '21347', '3961', '6108', '59009', '6720', '27759', '12947', '13920', '11798', '13001', '28900', '22160', '4809', '16507', '16750', '9655', '2088', '32828', '26140', '34500', '2255,4', '14619', '17593', '8977', '13302,83', '7829', '30390', '16840', '5799,2', '21214', '17590', '22520', '74690', '16786', '33725', '22147', '7373', '9025', '10046', '9456', '6562', '17230', '6925', '7876', '12460', '36177', '6793', '4738', '8275', '13332', '14410', '14370', '3385', '3870', '7655', '9748', '13456', '29697', '5010', '13441', '5562', '11398', '5699', '19924', '7815', '17112', '20877', '14494', '6514', '45863', '12950', '14528', '10347', '3419', '7651', '11243', '3906', '14006', '79959', '6998', '24772', '17704', '5185', '8744', '22536', '18669,2', '11936', '9759', '27740', '14356', '14193', '18006', '25627', '6245', '7558', '14520', '44879', '13860', '14660', '14598', '9260', '2341', '21704', '21390', '9588', '10850', '16180', '39900', '21124', '17380', '16048', '5448', '2798', '25122', '24250', '9127', '7362', '9690', '18592', '16052', '31474', '2350', '29858', '7120', '11528', '16859', '43996', '10250', '28041', '14658', '8589', '4867', '5636', '5889', '3910', '23070,6', '5900', '47000', '10440', '28241', '6546', '2590', '44700', '14398', '8929', '16698', '23411', '10100', '16310', '13469', '23940', '22945', '6970', '27971', '6469', '11383', '7740', '18209', '20046', '16220', '25081,98', '3034', '2200', '23690,91', '12870', '6036', '6690', '6550', '17952', '15100,82', '47529,91', '19440', '37560', '78400', '5427', '8785', '6721', '14942', '7760', '30990', '16950', '4810', '5898', '17476', '4575', '18797', '20820,44', '2090', '12840', '20852', '21494', '26370', '25211', '13050', '23200', '6858', '7848', '6279', '27673', '29900', '3951', '45900', '3059', '3179', '20653', '10650', '22588', '3308', '4599', '19611', '10471', '80000', '2151', '14387', '7650', '81423', '34396', '6520', '2150', '17310', '16039', '8169,55', '13948,2', '25278,14', '17043', '7000', '26241,6', '28026', '22881', '28055', '13800', '15880', '7720', '4041', '11429', '19769', '5330', '5435', '10803,84', '2498', '30170', '19419', '6450', '17325', '7032', '16680', '6916', '5938', '24923', '73230', '10088', '3660', '19301', '12631', '18528', '16499', '4462', '12890,92', '8715', '3006', '7400', '18560', '3943', '21648', '19150', '5025', '14397', '12389', '18138', '5419', '22097', '15078', '11426', '5408', '11871', '12598,1', '12127', '42740', '4648', '2238', '17851', '5793,3', '23830', '4838', '25146', '3928', '7769', '73996', '12959', '17100', '7999,1', '3725', '2879', '9230', '31672', '13492', '44100', '6698', '5684', '21665', '19324', '41500', '27680', '10523', '11576', '16175', '8754', '46649', '20440', '33000', '7563', '20863', '30325', '6748', '22210', '3942', '8639', '6281', '8750', '17111', '9470', '25491', '8377', '8604', '5366', '70410', '9450', '32819', '2290,7', '5745,12', '15725', '30344', '41907', '2119', '24346', '3515', '5176,8', '17790', '7152', '10538', '15629', '9924', '15897', '6119', '33678,2', '13302', '18217', '12472', '38830', '5369', '7857', '4689', '8011', '4013', '12755', '27700', '8850', '10853', '25992', '6460', '22430', '22047', '6129', '21673', '18962', '23980', '10113', '10795', '11085', '9866', '18090', '19899', '25100', '34449', '13850', '8610', '13021', '77762', '33300', '7750', '11115', '2569', '8250', '5806', '13030', '19095', '15838', '16992', '18080', '15325', '7380', '22460', '5436', '7369', '6481,8', '17379', '6993', '3869', '24900', '9235', '9308', '6138', '5288', '25182,4', '5879', '4100', '14698', '9498', '7439', '19626', '3109', '18224', '9990,91', '12283', '21814', '45160', '10540', '11295', '21999,2', '11655', '4700', '16687', '6058,1', '24752', '7488', '3868', '20225', '24680', '13399', '23459', '65400', '7342', '32500', '20645', '16392', '6210', '21895', '14288', '10134', '6096,13', '54105', '9007', '11230', '9606', '11297', '5031', '35640', '8515,7', '31850', '10439', '27706', '6273', '10672', '11748,2', '20356', '18578', '3670', '19789', '16498', '18204', '10738,5', '3998', '4336,2', '4064', '9950', '15653', '10972', '19343', '3537', '6150', '9030', '13750', '29294', '8190', '11989', '18470', '9170', '3990,92', '35991', '28186', '3815', '14338', '2360', '28273', '3222', '37016', '4908', '25680', '20786', '12597,3', '9315', '4401', '6350', '9059,92', '28728', '21388', '9445', '18750', '6500', '11690', '4789,92', '5508', '20583', '5990', '24103', '8844', '7353', '28674', '12820', '3575', '3731', '4362', '12331', '7965', '3636,9', '4941', '23760', '16128', '4598,6', '14550', '17962', '4756,5', '20433', '4962', '13443', '50000', '5051', '17215', '12803,4', '7621', '22650', '50652,94', '14096', '16425', '13232,88', '13263', '25320', '17025', '26054', '62550', '4994', '20480', '10778', '21881', '15280', '16783', '9577,8', '25145,79', '16880', '11550', '13790', '27934', '10714', '49490', '3492', '34120', '21154', '40180', '12405', '18251', '5913', '8041', '9813', '32490', '10419', '24003', '2511,82', '5080', '10085,9', '5770', '4413', '33990', '10844', '16850', '11489', '6570', '10089', '19550', '4978', '23365', '5043', '15704', '18392,91', '21123', '6255,15', '15390', '50879,83', '23347', '18440', '4720', '31014', '13498', '6299,2', '7150', '26818', '11392', '8917', '10530', '21570', '46540', '16579', '28715', '36980', '25990', '22616', '2190', '13975', '8198', '31560', '21646', '9655,2', '38070', '74700', '13479', '12512', '17688', '43010', '3310', '85100', '2007', '16799,4', '69500', '4982,4', '16621', '14185', '94358', '14949', '18515,03', '24835', '18460', '21328', '5669', '12318', '19390', '2158', '5730', '15170', '12360', '7107', '9447', '11488', '4140,2', '17624', '22082', '22212', '5936', '9326', '6381', '21746', '11750,31', '25406', '14098,1', '20242', '30630', '17097', '35529', '2165,16', '12797', '26928', '17981,9', '9769', '11830', '6247,8', '20250', '14047', '35165', '37800', '29997,24', '8793', '28530', '35610', '5922', '9892', '2999', '20272', '4315', '7869,61', '11428', '9290', '20505', '10936', '18334', '4930', '22951', '29001', '2160', '42135', '52295', '10034', '17505', '15763', '7838', '23437', '4499', '15806,5', '12132', '3898', '29590', '23390,91', '24030', '23577', '5489', '16194', '58567', '18819', '17075', '5287', '10373', '26596', '3750,91', '24502', '4488', '26538', '11199', '38300', '35950', '22214,69', '4089', '6023,7', '20706', '10699', '5600', '8355', '6109', '27500', '3196', '7860', '20133', '7497', '12554', '13265', '16064', '28079,84', '14847', '12906', '4082', '12509,9', '16438', '7610', '2240', '18230', '22361', '8381,5', '16470', '17810,82', '3547', '19790', '20691', '21460', '15430', '22482', '7940', '29199', '10659', '31716', '11600,6', '15065', '4891', '18497', '5712', '12991,82', '19900', '22384', '12228', '39741', '3385,83', '8280', '31991', '44225', '18700', '4195', '12166', '15897,92', '11697,1', '4320', '25260', '13009', '13600', '12160', '12549,07', '4311', '3919', '17541', '8400', '10205,5', '8892', '7539', '4888', '4018', '25420', '7240,5', '17613', '18949', '22236', '16849', '26690', '33680', '21989', '35035,2', '32914,31', '4633', '37880', '15398', '10930,52', '6429', '17594', '5390', '9280', '9422', '13087', '29266', '18370', '29615', '10841', '23020', '7752', '17361,76', '15380', '17538', '21496', '6559', '52200', '4915', '20874', '15832', '15034', '24771', '3290', '12749', '2578', '99540', '23488', '16796', '14978', '3490,91', '41400', '3337', '18972', '3784', '3269', '8775', '26099', '9497', '10496', '21915', '16189,4', '5131', '32525', '6075', '12799', '7070', '2045', '23478', '17901', '16961,1', '12110', '13829', '4830', '32090', '10960', '8311,29', '13180', '39000', '16550', '18374', '6415', '23954', '3779', '6027', '39980', '32846', '4602', '26900', '13288', '6237,03', '4620', '10191', '16390', '16648', '12262', '14206', '2890', '6496,1', '7619', '14279', '17997', '8200', '9074', '7505', '13650', '16615', '14165', '12249', '5088', '12995', '20249', '11669', '11799', '13448', '15192', '8957', '7183', '9835', '23300', '2990', '70705,96', '26740', '13383', '3616', '18899', '29653', '2065,5', '5238', '26800', '2380', '11090', '7824', '9664,5', '10280', '11400', '5380', '15800', '18210', '23399,2', '4021,92', '18030', '11898', '8188', '9889', '11240', '3717,9', '52469,87', '15360', '2430', '4349', '25168', '28215', '22194', '13197', '13490,2', '4870', '10600', '8393', '7770', '10490', '15097', '17199', '11000', '13060', '13365', '16100', '28421', '4727', '4679', '75535,08', '6966', '51700,5', '7820', '35326', '23792', '13150', '9167', '13848', '34916', '12800', '10647', '24840', '9097', '5695', '3033,9', '11978', '15340', '4952', '16098', '9406', '22927', '5389', '13130', '5337', '6490', '3560', '13435', '26890', '20580', '18686', '24800', '11223', '6053', '12750', '9955', '7084', '5431,2', '4010', '14670', '12393', '22960', '26988', '6499', '18176', '21340', '5745', '21484', '7541', '10348', '99000', '2871', '15200', '19580', '19020', '43515', '23202', '18296', '16322', '36093', '14770', '7469', '7999', '2660', '6889', '3651', '11180', '13447', '3834', '23104', '3385,92', '13267', '34499,2', '10616,4', '37440', '17329,92', '16765', '6116', '9430,38', '8900', '15435', '24145', '8285', '19567', '16965', '7197', '22959', '8260', '39110', '5415', '3875', '3509', '27096', '8389', '20820,2', '4097', '79679', '4387', '23600', '29699', '9557,1', '3069,9', '8116', '18890', '20601', '15912', '8880', '38832', '10423', '41397', '17510', '59590', '9810', '15291', '5189', '14840', '10190', '7182', '7317', '4580,92', '5676', '12702', '27617,1', '29460', '50950', '13993', '23735', '21880', '11280', '13891,5', '12908', '29382', '31490', '6367', '17875', '9090', '30627', '8295', '10097', '4150', '18740', '30471', '20980', '7022,7', '15320', '12213', '30545', '3484', '19470', '6455', '8056', '26499', '13312', '2125', '22700', '19430', '15240', '4008', '6480', '10775', '17906', '14489,2', '14472', '17279,2', '8037', '5906', '3464', '21974', '15460', '2028,56', '11615,4', '20007', '7181', '4274', '93000', '20393', '8698,1', '22905', '33088,5', '23146', '19177', '23450', '8912', '8619', '13110', '12412', '26837', '15984', '46600', '20443', '29933,4', '6420', '62700', '29205', '20710', '13490', '8544', '4898', '12542', '9858', '90747,9', '16999', '17880', '6692', '14430', '22233', '6199', '14571', '4191', '16627', '3330', '6518', '2957', '24647', '6652', '9580', '17839,92', '42930', '32499', '7349', '16501', '11217', '11892', '9620', '17500', '19938', '28170', '20943', '7262', '11303', '15245', '7639', '24940', '14250', '13310', '28208', '42928', '58900', '11154', '3762', '6757', '27781', '17240', '8717', '21850,94', '25480', '19797,1', '15730', '13000', '18490', '37710', '29120', '36086', '10394', '10660', '8080', '22598,1', '5579', '17575', '2490', '10680', '5456', '39638', '4510', '10279', '27600', '38120', '5404', '43573', '13462', '21845', '5980', '4779', '3659,5', '12061', '16692', '29390', '18891', '21480', '28971', '14240', '40521', '2831,97', '2679', '20143', '11995', '10413', '20609', '25829,1', '10687', '8448', '26170', '10231', '7968', '11583', '6400', '16979', '16600', '7632,92', '9490', '7019', '12059,1', '5700', '14481', '4690', '25740', '21398', '22947', '5751', '22269', '27010', '20477', '12199', '31020', '10233', '6543', '6295', '26560', '17439', '3328', '16480', '4048', '10980', '10670', '10917', '13888', '6712', '11560', '4458', '28039', '7917', '10381,5', '18702', '18799', '4729', '15624', '22398', '7919', '20903,5', '23382', '6191', '11700', '22803', '22450', '16691', '5870', '12246', '6522', '7978', '23425', '11293', '19765', '24195', '3028', '29640', '7788', '29980', '12940', '18868', '25980', '16540', '19482', '3750', '21870', '11499', '3645', '14110', '29707', '15010', '40900', '18850', '18782,2', '7905', '20297', '26547', '4837', '7858', '22240', '10497', '5869', '17605', '32617', '77210', '2270', '3387', '3322', '3789', '4275', '3663', '6181', '25280', '6545', '6780,95', '3275', '15547', '26896', '6776', '28810', '24740', '10740', '23108', '9809', '7327', '9287', '21290', '11030', '17920', '10450', '3360', '7620', '10442', '5535', '3188', '5542', '27040', '6319', '14688', '30150', '8508', '9790', '5060', '14400', '6462', '6424', '89018', '23745', '27298', '12070', '15165', '17720', '6260', '4220', '11880', '3548', '51140', '8598', '2720', '10990,94', '5852', '4842', '9534', '31333', '3950', '10400', '39020', '10585', '7471', '21889,92', '10320', '3850,85', '25150', '12480', '12700', '19991', '7417,5', '17370', '13745', '24400', '8020', '9702', '10755', '6452', '3885', '13689,86', '37640,77', '31090', '5867', '22970', '21999', '11345', '9010', '23280', '35596', '28850', '76550', '18045', '12737', '5936,81', '6578', '11270', '22124', '10200', '2300', '5768', '39690', '11200', '21784', '7600', '36617', '15914', '18580', '9599', '18162', '7147', '11630', '2099', '10735', '19140', '13670', '16090', '37235', '17483', '21760', '7394', '10080', '40050', '19770', '4580', '6080', '11391', '18105', '23552', '17367', '9759,4', '19930', '35992', '10752', '15756', '18999', '14560', '49227', '20939', '22770', '3450', '3668', '56518', '9573', '19680', '27000', '28431', '19046', '8960', '10854', '22469', '16838', '44000', '13460', '20370', '19200', '13366', '8170', '41498', '40200', '27510', '16317', '15870', '19950', '5942', '27060', '7130', '18711,05', '37790', '4799', '7422', '27925', '21936', '66504', '6430', '25299', '6390', '15890,9', '13872', '16070,5', '2470', '7173', '13235', '26339', '35793', '26329', '18246', '5720', '19791', '9560', '11310', '18280', '10210', '6492', '27110', '21654', '4590', '28845', '4185', '17545', '21660', '7443', '21479', '3699', '4590,2', '18692', '19850', '10000', '9899,1', '3152', '29200', '9597', '20237', '4189', '19627', '5840,5', '7063', '10769', '18650', '21408', '13541', '7799', '11150', '50098', '23737', '6665', '14709', '15739', '9754', '2366', '5162', '9270', '21009', '15806', '19189', '17850', '5222', '3490', '26380', '24690', '22410', '10274', '12903', '4768', '12495', '18190', '28230', '23490', '14758', '5451', '27714', '18143', '9504', '6139', '25640', '4533', '12889', '5860', '22750', '12451', '12236', '34150', '6449', '31646', '7272', '2440', '4230', '7739', '9150', '22275', '19280', '81000', '7640', '25508', '12219', '22310', '4504', '11410', '19925', '12890', '23985', '5353,5', '28755', '10245', '9525', '24389', '22139', '3500', '3090', '11389', '84630', '16450,71', '11450', '7648', '17297,6', '18940', '9555', '7144', '8685', '23774', '15041', '21750', '14521', '10750', '21850', '18445', '6898', '16830', '3474', '2009', '8100', '8071', '2873', '7240', '20856', '58947', '22499', '12742', '41936', '3816', '5999', '18286', '29630', '14781', '10480', '29612', '13965', '16823', '31190', '5966,7', '5347', '29500', '11748', '10964', '31500', '27598', '6105', '8047', '16370', '20536', '15237,1', '16260', '16141', '18566', '30720', '6379', '42180', '23128', '5304', '24470', '12210', '79770', '32200', '9515', '5989', '10992', '13294', '17990', '6300', '28050', '84000', '4372,2', '11136', '38200', '4826', '13785', '18573', '26450', '18113', '18898', '27342,5', '21050', '10512', '34479', '19976', '10359', '73306', '12651', '3448,8', '5830', '4148', '4611', '4400', '8741', '10295', '2930', '6165', '22180', '12465', '18197', '19410', '19547', '6920', '23999', '9650', '6703', '19728', '5932', '40500', '78800', '33475', '10675', '15540', '6893,7', '20000', '6719', '20205', '3538', '13989', '8057', '14480', '14320', '23204', '5544', '6919', '9972', '21170', '21650', '22162', '5606', '23268', '4841', '2671,2', '6220', '6556', '12537', '4785', '17900', '17453', '29220', '22302', '26524', '3792,92', '14927,83', '28991', '17999', '36570', '5243', '6336', '7210', '25490', '6071', '14938', '16551', '9996', '21038', '39865', '16060', '25350', '8666', '7947', '6710', '8980', '28990,91', '11304', '21619', '6928', '5152', '21498', '6189,92', '6290', '69282', '45000', '20381', '30673', '11639', '29691', '18900', '9045', '33850', '27005', '23550', '15899', '4653', '14600', '23579', '8047,1', '6978', '3415', '5329', '9340', '11808', '5198', '10238', '10114', '7850', '4080', '25588', '5835', '5210', '18643', '20751', '12443', '23030', '20995', '7599', '19572,1', '22192', '11687', '19350', '3448', '3883', '12038', '21021,9', '41170', '45500', '30050', '5090', '24061', '17756', '28983', '32700', '19316', '10536', '5995', '29799', '8290', '15523', '5261', '6377', '10354', '6672', '98136', '22110', '22300', '22640', '7559', '4110', '23647', '20464', '24506', '5298,1', '28224', '17399,1', '13430', '13433', '5888', '8762', '23230', '4890', '11899', '28090', '9837', '14052', '9050', '17530', '24301', '14097', '8720', '11935', '9554', '20698,1', '6201', '7510', '27939', '20495', '5490', '22760', '17714', '20343', '19240', '3874', '4675', '22761', '28879', '11340', '7895', '18654', '4853', '7984', '18789', '12734', '27950', '25765', '23137', '6865', '4270', '13016', '21207', '2100', '18425', '9990', '25940', '3680', '28600', '9021', '24795', '13301', '35900', '13100', '8195', '19529', '6219', '23659', '5688', '17869', '11753', '20296', '15610', '8869', '22674', '15279', '5680', '43682', '9927', '12989', '5789', '27313', '8550', '12290,94', '6590', '11698', '19883', '15067', '3510', '5607', '4628', '11389,2', '14349', '11260', '5871', '24179', '11325', '14540,04', '44760', '7299', '16169', '25000', '38250', '26910', '31091', '3285', '29830', '9719', '17712', '13688', '13115', '51900', '10805', '7676', '15518', '17273', '16530', '4180', '4345', '8811', '8091', '23850', '13148', '3916', '17000', '17346', '22528', '22656', '23044', '2724', '13350', '8297', '5540', '8918', '29875', '4169', '16500', '8490,92', '22621', '21166', '23780', '15220', '13495', '11723,2', '14700', '26790', '21180', '6700', '24236', '2635', '18730', '7360', '96860', '4890,2', '15400', '3284', '17231', '22627', '33821', '7289', '30980', '11598', '3405', '7478,2', '6263', '8641', '9830', '31000', '5019', '13325', '8890', '89200', '14201', '6682', '3501', '13366,2', '20575', '7089', '17854', '3710', '35990', '4005', '18074', '31882', '42746', '13090', '13624', '18740,5', '6280', '24580', '17560', '2881', '12260', '19133', '5721', '3879,17', '6624', '5095', '20100', '4910', '35669', '5920', '10668', '5545', '8998', '22747,4', '38058', '31263', '13420', '13921,36', '16814', '10019', '8886', '9551', '16324', '30430', '8430', '29663', '13820', '8150', '26641', '20088', '37200', '9295', '4450', '23680', '28440', '3340', '17045', '13641,3', '13315', '16996', '15930', '21600', '8128', '14717', '18540', '18200', '10330', '14599', '15246', '30946,29', '5738', '2223', '2190,2', '13039', '7730', '26164', '25999', '3849', '23890', '4118', '8536', '6585', '15079,91', '5805', '3035', '2599,2', '7766', '13278', '2095', '16519,02', '19417', '8221', '8777,1', '26174', '9928', '13382', '32593', '23025', '63657', '5465,26', '5017,9', '62800', '9840', '15890', '4050', '32935', '7798', '13536', '12380', '20430', '28930', '7157', '8244', '4239', '7649', '36260', '9443', '16114', '6948', '12506', '9574', '6086', '34618', '12454', '13439', '12060', '5377', '12655', '18390', '7870', '27995', '18719', '13402', '63700', '53000', '31792', '11227', '20209', '61487', '5306', '34804', '3984', '17106', '4788', '2797', '6502', '21128', '4522', '27816', '15771', '24980', '72885,57', '8600', '5195', '3190', '45297', '12347', '19260', '16170', '99313', '10904', '7898', '10410', '20059', '77860', '13623', '16882', '7208', '6939', '6145', '9730', '26819', '26489', '4542', '16701', '7849', '18319', '40574', '11063', '13387', '12760', '49798,1', '4967', '7910', '20196', '15555', '30190', '25317', '28460', '8180', '19170', '13690', '45820', '16629', '21930', '27248', '6893', '3801', '9675', '4983', '14406', '25937', '10248,2', '6887', '8225', '81612', '5360', '8997', '5550', '60080', '15313', '13298', '9430', '10268', '22955', '32844', '15820', '38520', '25783', '9263', '23950', '8590', '12672', '3549', '2075', '24220', '10350', '48572', '9971,89', '9520', '4576,5', '8299', '20200', '9427', '8322,77', '13388', '13440', '11133', '56000', '49743', '32810', '38880', '12390', '7908', '25812,5', '10989', '21899,94', '12580', '21400', '15319', '10720', '21105', '29388', '22011', '31990', '11266', '10084', '21420', '14766', '29580', '8416', '32175', '21770', '32975,3', '20063', '4480', '29690', '7189,6', '23370', '12284', '12508,2', '10198', '10248', '3276', '4581,87', '27070', '26200', '13456,82', '7478', '22293', '30615', '19860', '7068', '13421', '21300', '6715,2', '9622,77', '5346', '23453', '32292', '76730', '5023', '2909', '10319', '7492', '56899', '14443', '23840', '21042', '16449', '14996', '19840,5', '24223', '8499', '10910', '4499,2', '47309', '10693', '5560', '80973', '6498', '5555', '11470', '27637', '17549', '12499', '32980', '33111', '27456', '13063', '17261', '11876', '17339', '8098', '7749', '14013', '19589', '5500', '5794', '3312', '11269', '67950', '13489,91', '18984', '14090', '17752', '3825', '28116', '21588', '7645', '2781', '89344', '18399', '31588', '13880', '12850', '17529,91', '22800', '58490', '19035', '13981,8', '30999', '16448', '30500', '23103', '15639', '10448', '9432', '3990', '22672', '7570', '38000', '21265', '32770', '57581', '19220', '33192', '5530', '7198', '10981,82', '2050', '14891,92', '16020', '40534', '26022', '44690', '9600', '37656', '16733', '10150', '13122', '7454', '10978', '14866', '13289', '33255', '14260', '6838', '21728', '21520', '20570', '23696', '27620', '14916', '12173', '30820', '52000', '9264,69', '2420', '13887,68', '12725', '5085', '7776', '21237', '11751', '4928,96', '4744', '10640', '32310', '60720', '5259', '10836', '9351', '25631', '14925', '4241', '15658', '7590', '2555', '18535', '22561', '9997', '31790', '18649', '33292', '7250', '16798,2', '7368', '11960', '9278', '16789,98', '7875', '11300', '18670', '25180', '18398', '9500', '37100', '4196', '24035,5', '18450', '15732', '22781', '9298', '5715', '3215', '11589', '4399', '29600', '18010', '4725', '19750', '6539', '65629,5', '29295', '15250', '16544', '9009', '8990', '23584', '7638', '15372', '12560,01', '8905', '3311', '12315', '6575', '15940', '6820', '17360', '10525,01', '21809', '11189', '13733', '11390', '21866', '29384', '12944', '3854', '13455', '5857', '23406', '25020', '15602', '4845', '6995', '4217', '17399,2', '14331', '14177', '11966', '32100', '15354', '13006', '10338', '12650', '5488', '10071', '5426', '2072,7', '30510', '3383', '13918', '13480', '9774', '24552', '19699', '15695', '33183,4', '18810', '4911', '41620', '24490', '3442', '27990', '25447', '7204', '21536', '10290', '93890', '52250', '3335', '19710', '26219', '19100', '39025', '14355', '37360', '3647', '13138', '14446,3', '10431', '13999,2', '3170', '15480', '7498', '35369,4', '14991', '7614', '27780', '6750', '40410', '6982', '9085', '9310', '31990,6', '4701,6', '33760', '9390', '11368', '9477', '6168', '12435', '27250', '16300', '35670', '14200', '26875', '2620', '22500', '5847', '3063', '3339', '20790', '18777', '26871', '14140', '22230', '6298,6', '9095', '38570', '8549', '12044', '30031', '16280', '40084', '11720', '15512', '14148', '23677', '16833', '17250', '12845', '16547,3', '12546', '29380', '76000', '47900', '4389', '34740', '3099', '6033', '18304', '6205', '16358', '2489,4', '3949,92', '11954', '27369', '21062', '19795', '36805', '35943', '29944', '39800', '23912', '7180', '22662', '15960', '14850', '10420', '31696', '17049', '3561', '12200', '19300', '21120', '8978', '100000', '2680,4', '22950', '10390', '8253', '10898', '4996,8', '6166', '8286', '17800', '21985', '9341,5', '49653', '26462', '27560', '6264', '25966', '4095', '4745', '7595', '2399', '18300', '17428', '5310', '13155', '28820', '30196', '21780', '5130', '2970', '42335', '10773', '16395', '20699', '21726', '10760', '6999,9', '29334', '14365', '96490', '2031', '9060', '99308', '12708', '18020', '11098,8', '8241', '12884', '7845', '6622', '5149', '2940', '7632', '19008', '12090', '8830', '3722', '12099,1', '8990,9', '11160', '4098', '24260', '16081', '16092', '25900', '3619', '4589', '5718', '17499', '21500', '22080', '3238', '12304', '16214', '25340', '20132', '21598', '35100', '11099', '3424', '6393', '8380', '15120', '74650', '34641', '8420', '22168', '24741', '7997', '6770', '5143', '15789', '82700,9', '6958,92', '26000', '4563', '29677', '9405', '19011', '26970,6', '16160', '23485', '16010', '10655', '6299,72', '14245', '14209', '16883', '17099', '23251', '7101', '3255', '10075', '13500', '71400', '7170', '3865', '8424', '2060', '8700', '5510', '8289', '5577', '3989', '2089', '30361', '17885', '18800', '13230', '31800', '28280', '10767', '11195', '23500', '12514', '5880', '3768', '4440', '17020', '25749', '9526', '26960', '3604', '18857', '26379', '6309', '7735', '19145', '9532', '3674', '11498', '11665', '18734', '10128,8', '18012', '33800', '25897,4', '10169', '10646', '13847', '27012', '25386', '8529', '25662', '4951', '15556', '28338', '11396', '12300', '7513', '20009', '7259', '9350', '21994', '3650', '5070', '20826', '23930', '20648', '18861', '31833', '6860', '15201', '13336', '14035', '26340', '25936', '4683', '10389', '21464', '24210', '41451', '18426', '5410', '19295', '82910', '6999,3', '24520', '22040', '14399', '8076', '17460', '10591', '63271', '7011', '48580', '9130', '3051', '11395', '6190', '14890', '32907,5', '5997', '12019', '24480', '22645', '18115', '16748,1', '9839', '21589,9', '6050', '6380', '9550,82', '12427,1', '26321', '5480', '28042', '16875', '30313', '7407', '4807', '4262', '47195,92', '12762', '10361', '7319', '11349', '24550', '8870', '24367', '14498', '2219', '4505', '7797,6', '21901', '24047', '47600', '9169', '6997', '5128', '11580', '20540', '5723', '3123', '33344', '31726', '24362', '5760', '8270', '11970', '3770', '4752', '41990', '58670', '31415', '5076', '7540', '9850', '29070', '10300', '38340', '15920', '10830', '6991', '4980', '7220', '8580', '52509', '15647', '15638', '86041', '16265', '11916', '39028', '8723', '7514', '12600', '19983', '14150', '5231', '5260', '9652', '2580', '3470', '16893', '34720', '84500', '5400', '26547,1', '14168', '9989', '31450', '53091', '9971,3', '22920', '28308', '33100', '10025', '14849', '9412', '33030', '5359', '2900', '15889', '35744', '13599', '4177', '11950', '3555', '15990', '58640', '14257,91', '28242', '56310', '3929', '5800', '59398,2', '12511', '11049', '10466', '3771', '18067', '19296', '9230,9', '10995', '7981', '4923', '6840', '5449', '12935', '51370', '7900', '11986', '14574', '22307', '55500', '18880', '27820', '7580', '23661', '23720', '11778', '11980', '8780', '16200', '3316', '5912', '8228', '9880', '34162', '35091', '15998', '10446', '91536', '15650', '8771', '13949', '7547,2', '6004', '12713', '15347', '12077', '9496', '9977', '8346', '15090', '28420', '12397', '3980', '13527', '7385', '12789', '28922', '21762', '28745', '45952', '11518', '35142', '20229', '5482', '2540', '7132', '6467', '23825', '51300', '10340', '13793', '20871', '13990', '12463', '5736,6', '7630', '14900', '4995', '12398', '27795', '23920', '8390', '10837', '39090', '11790', '13284', '12829', '97026', '20977', '3095', '26138', '3039', '7629', '6594', '7425', '21100', '7370', '8440', '70360', '10360', '10495', '9180', '12384', '30224', '20450', '14678', '17099,1', '15755', '16257', '13727', '11219', '6598', '43353', '21700', '19040', '2499', '20263', '26930', '26461,91', '42689', '11335', '15830', '4188', '9956', '22198,1', '21724', '6739', '17995', '8797', '2520', '5120', '10804', '30826', '28288', '26080', '24475', '7660', '7975', '30580', '25989', '15844', '60000', '14820', '8090', '25600', '24949,09', '24721', '10935', '12868', '11691', '17040', '7040,92', '24199', '18840', '3138', '7163', '10737', '18198', '10953', '63320', '25785', '22317', '25780', '31250', '12290,9', '91168', '17531', '7493', '7369,7', '13326,5', '8800', '14885', '4600', '12843', '31484,1', '17896', '29386', '22618', '18413', '27200', '23186', '9680', '26941', '9999', '12490', '11192', '5899', '25105,1', '7279', '22480', '18689', '10968', '18380', '24929', '8240', '9484', '6397', '6345', '2259,9', '15496', '4673', '25506,19', '25300', '4498', '15020', '4207', '11025', '15910', '15470', '11477', '16050', '13010,94', '41000', '6130', '22091', '15350', '81743,87', '24600', '4041,9', '4938', '25727', '7660,42', '27850', '6250', '7949', '14930', '2998', '55000', '13698', '3898,1', '14994', '4495', '3545', '4880', '19799', '12280', '8453', '6990', '9296', '22221', '9370', '14469', '7169', '27898', '78550', '4758', '7399', '6850', '12948', '6985', '6599', '15000', '5225', '31817,2', '4661', '6782', '15619', '11926', '12541', '29336,4', '4109', '4790', '23971', '6489', '21990', '20587', '2030', '13843', '12080', '18239', '2570', '35563', '3159', '5432', '13178', '3824', '2189', '13730', '37456', '2514', '8651', '17324', '17448', '43631', '17966', '30930', '20330', '13170', '29443', '5761,9', '21430', '5193', '15602,5', '4735', '12310,91', '5005,8', '5588', '25200', '3848', '7123', '14780', '11116', '10024', '19375', '4379', '16150', '19250', '16350', '19970', '10090', '6330', '15293', '35000', '28970', '26091', '17397', '3729', '9919', '14284', '13351', '39590', '34199', '12339', '22356', '4638', '6580', '38244', '20090', '4060', '10870', '6495', '5250', '17567', '26510', '29052', '6675', '18599', '23060', '30340', '25881', '17640', '13709', '24340', '4919', '25700', '4986,5', '4291', '18269', '14570', '17388', '11666', '22880', '19044', '8088', '16848', '22455', '5285', '8984', '27886', '24450', '13530', '14020', '8640', '12833', '5740', '34100', '20409', '5977', '10730', '35522', '3955', '19980', '5921', '11196', '10708', '9259', '54000', '6130,8', '11680', '16760', '84570', '6348', '6329', '17415', '36290', '6789', '9464', '3134', '18463', '11860', '3996,9', '17910', '15099', '11730', '6730', '11480', '6733', '17580', '78390', '3889', '20658,2', '5270', '17150', '6090', '4436', '12488,25', '5300,9', '19540', '14050', '27190', '32576,5', '23320', '13980', '3880', '7859', '10818', '3752,9', '19990', '14290', '10158', '84800', '20091', '13496', '12053', '4115', '11565', '29300', '14880', '11571', '16364', '17670', '9375', '8948', '17599', '16669,84', '16766', '5045', '17330', '19129', '18599,4', '39422', '17398,2', '4004', '4726', '14441', '13615', '23530', '37531', '19051', '5397', '2104', '3764', '9250', '11330', '26199', '5015', '19415', '5312', '9278,1', '7593', '27895', '5268', '19689', '13166', '7589', '10991', '19400', '9282', '19736', '25538', '14348', '8308,35', '27846', '19085', '16980', '8064', '13173', '29942', '29592', '12980', '3590', '7441', '24015', '27877', '35600', '19106', '10631', '9749', '46500', '4293', '7460', '7088', '12782', '22872', '51570', '92000', '26547,3', '15215', '19210', '7982', '4773', '18760,75', '10987', '9160', '2330', '15520', '10398', '7988', '31294', '31680', '5357', '59224', '6584', '12557', '10969', '23331', '6605', '8979', '14340', '14725', '8532', '12447', '13649', '15865,65', '3418,5', '49860', '40499', '21112', '3900', '5144', '16910', '43880', '32955', '17873,75', '89640', '29880', '37400', '12100', '3320', '26479', '4103', '6507', '58541', '27980', '7515', '44900', '22458', '30420', '6875', '4896', '10189', '22400', '26989', '6885', '32650', '8156', '18049', '17400', '15040', '14659,2', '22413', '8435', '86071', '35775', '24717', '20670', '15999', '7391', '24280', '30696', '5000', '6856', '4186', '17826', '9546', '9461,5', '10057', '28059', '34766', '27448', '10539', '11779', '9019', '10073', '14661', '29950', '21927', '13678', '9986', '22390', '11259', '15856', '14910', '3493', '19521', '12790', '16561', '17769', '26060', '3356', '40037', '11690,91', '19490', '5011', '4351', '20069,33', '20880', '21097', '11077', '24027', '13275', '8148', '29700', '18913', '3700', '15575', '6517', '8675', '26330', '4131', '13934', '30697', '6658', '3377', '15690', '10174', '64500', '23057', '13710', '11943', '15272', '4970', '18206', '15292', '22419', '8078', '53499', '6266', '15127,4', '18784', '5089', '32481,83', '30918', '19320', '9144', '17082', '21900', '31810', '6120', '6323', '14456', '25702', '35940', '70300', '8638', '6197', '5650', '9268', '17366', '16977', '35580,91', '28402', '5837', '22100', '8370', '14243', '34140', '11446', '15085', '9845', '20300', '27400', '11539', '5707,8', '25584', '17140', '6903', '17988', '3240', '27180', '26082', '9760', '27130', '3550', '61920', '27347', '14328', '16002', '5928,1', '10920', '11590,92', '10260', '28098', '11048', '15524', '9000', '21730', '43200', '5265', '15216,06', '2322', '21204', '9040', '2450', '3150', '8991', '40970', '24275', '11524,79', '19570', '23095', '5908', '16598', '16191', '17716', '23516,84', '4328,1', '19781', '7100', '12695', '9902', '22930', '31466', '14438', '11760', '27020', '19497', '3497', '44290', '8694', '47789', '5520', '15290,7', '3300', '9670', '24599', '11949', '9798', '18960', '11376', '25887', '14940', '16690', '17610', '62000', '53364', '7499', '19809', '12421', '15705', '4020', '5340', '46881', '19439', '4630', '7039', '4804', '19830', '13208', '5424', '17134', '16780', '47704', '14718', '3675', '23480', '14000', '20113', '3357', '12678', '3143', '2638', '16380', '45665', '21330', '5040', '5625', '16407', '17080', '11502', '19660', '20779', '5949', '22280', '6361', '17280', '12309', '25820', '21355', '22864', '29280', '4555', '10048', '30324', '11050', '12999', '20680', '12000', '18144', '98042', '11890', '18240', '16989,92', '19630', '7995', '14730', '16960', '16800', '16653', '7140', '12606', '8006,1', '25760', '3743', '8292', '14396', '25400', '14611', '8099', '11689', '24983', '3749', '10542', '6490,5', '5773', '6411,72', '18414', '13141', '75500', '15696', '16080', '28580', '2844', '30590', '26049', '4369', '8617', '3892', '11126', '9898', '4134,4', '2947', '17090', '11595', '88312', '10529', '29400', '28594', '10020', '20160', '2183', '6048', '14207,1', '6873', '7151', '9107', '17960', '2500', '2263', '7115', '24495', '4319', '11677', '17203', '12140', '3570', '34390', '9349', '9199', '9153', '29470', '9804', '21473', '12696', '17276', '7590,31', '17091,9', '25109', '9820', '9117', '17480', '24085', '34391', '11877', '6099', '20753', '11500', '3930', '5232,2', '4750', '95441', '26730', '5294', '6890', '33900', '7950', '3735', '15186', '8860', '10445', '7800', '7452', '4550', '11321', '12972', '4398', '12590', '30455', '28590', '15770', '9979', '3023,58', '8445', '6964', '3535', '32540', '3718', '8340', '10874', '8127', '12914', '3321', '19720', '9660', '35960', '79200', '6999', '11910', '5328', '7891', '9960', '6732', '27498', '14872', '3690,92', '23124', '16700', '29430', '33598', '7430', '3100', '9826', '4610', '20424', '17789', '24650', '21190', '22590', '17190', '3646', '15299', '23989', '3489', '4964', '11385', '26355', '14857', '26183,5', '4730', '24458', '6745', '11635', '36800', '34335', '25360', '12232', '6024', '6699', '26500', '20510', '16605', '21060', '18790', '4680', '5445', '4936', '8767', '16991', '11749', '20755', '4290', '29694', '25271', '67795', '4257', '7985', '28341', '21187', '9345', '39254', '17946,2', '6419,78', '19045', '7796', '17633', '9595', '19254', '6980', '12598,2', '23539', '16715', '29100', '16485', '28641', '17039,91', '34422', '14385', '5570', '15098', '9614', '13689', '23650', '5839', '5690', '20431', '6161', '14994,6', '13922', '15199', '8490', '19047', '10618', '15843', '76360', '20355', '5575', '22244', '26034', '14795', '16880,91', '7937', '15270', '11800', '11958', '6189,3', '14030', '22756', '12434', '9300', '23110', '12050', '7980', '7376', '23608', '5632', '4801', '12474', '14215', '18882', '11138', '7687', '18150', '7780', '20748', '22558', '23998', '9468', '33190', '18964', '9440', '6118', '5897', '16571', '11623', '26115', '16198', '23240', '18696', '4059', '20802', '10467,1', '82162', '20985,62', '21482', '27541', '26999,2', '2428,2', '7597', '9768', '5030', '18358', '9072', '5103', '12919', '9360', '4596', '24459', '20326', '12417', '8730', '24399', '15221', '24233', '25570', '13520', '14989', '15740', '20475', '3941', '11514', '7500', '2400', '3072', '7236', '6749', '5895', '11990', '4284', '16418', '12816', '17432', '5931,8', '15598', '6127', '11520', '4858', '9545', '8910', '5299', '3392', '15552', '23750', '21350', '5455,8', '11651', '17815', '17006', '15498', '22617', '76738', '26232', '13199', '41490', '4208', '13910', '24466', '10298', '3398', '16872,3', '10500', '32940', '9341', '5660', '23800', '26580', '9053', '3717', '10884', '8067', '8858,8', '11190', '12191', '19560', '26990', '22102', '18068', '94720', '7530', '10424,6', '5573', '3711', '18510', '5197', '12945', '23410', '26120', '8441', '15110', '30220', '18216', '7191', '24070', '7795', '2573', '19895', '12138', '20610', '32765', '10801', '31200', '3850', '13120', '38778,01', '8725', '52930', '18458', '5105,7', '22329,67', '90000', '4879,8', '9540', '17459', '18060', '7327,8', '10430', '13905', '19977', '20592', '3350', '13577', '41929', '9910', '14189', '12990', '39830', '61540', '7729', '15727', '30350', '13959', '21280', '7880', '20600', '4899', '4984', '7812', '19079', '6597', '9594', '19650', '26999', '19513', '9823', '36500', '23121', '16416', '12636', '18598', '18725', '21146,4', '7030', '6904', '4879', '17702', '2691,9', '4099,9', '12860', '4489', '5855', '6662', '10470', '29789,91', '3033', '30729', '30799', '8470', '5797', '9970', '4408', '6959', '32076', '17572,68', '10584', '10342', '10417', '5950', '10435', '3769', '23050', '9347', '19116', '20698', '18667', '13195', '28310', '4843', '3720', '5818,5', '10505,5', '7310', '25599', '11363,99', '21270', '5602', '9438', '6354', '11247', '25137', '6984', '27490', '29285', '3076', '6848', '3886', '14337', '37450', '27970', '26889', '3380', '28932', '5683', '10852', '13539,2', '3894,2', '6938', '12348', '8951', '6060', '62100', '11804', '6040', '15096', '18855', '29970', '13136', '4360', '15600', '4476', '3745', '20220', '16834', '16436', '5219', '30000', '4365', '27900', '17146', '17998,2', '25050', '35360', '27905', '7066', '6230', '53169', '90590', '24750', '11323', '7703,1', '3930,81', '3882', '7710', '20379,5', '22848', '16063', '11194,06', '8689', '3434', '25800', '22515', '6297', '7693', '7847', '34891', '18096', '18997', '18990,5', '29461,34', '13287', '21440', '19600', '17573', '19920', '30391', '19169', '9031', '18648', '3399', '5772', '11558', '9647', '27589', '3205', '21919', '6945', '8517', '2934', '4741', '32990', '18780', '17842', '19590', '14229', '3080', '25390,94', '13098', '13392', '10151', '11938', '16455', '28502', '31400', '8262', '3499', '18225', '13695', '22195', '2699', '14696', '21475', '9855', '2070', '8620', '26774', '5300', '23667', '14595', '16781', '6596', '8010', '30418', '5757,1', '21312', '3591', '15500', '13198', '10256,1', '9700', '7830', '10526', '29040', '11042', '7224', '11362', '5661', '19224', '2748', '22635', '9529', '10112,8', '7187', '5384', '7588', '5220', '41994', '56130', '14170', '8690', '9899,92', '19080', '51200', '3703', '10800', '8680', '24858', '17130', '6193', '5268,47', '59629', '3894', '43732,8', '12385', '16897', '21030', '12818', '14960', '28410', '2759', '8906', '11786,85', '9276', '6209', '38700', '5097', '33700', '11897', '10130', '16720', '14453', '4645', '55846', '11810', '11674', '4851,81', '13400', '9538', '8129', '10147', '21086', '18724', '9801', '10616', '22440', '3861', '21595', '9530', '8235', '75424', '7713', '17700', '14219', '18004', '36527', '22349', '4500', '6504', '7473', '26430', '8547', '23660', '31875,3', '15027', '32508,2', '9985', '8360', '6021', '6969', '23625', '27962', '27270', '24990', '21450', '3187', '18668', '8718,1', '22338,94', '9879', '24330', '16330', '7040', '14678,63', '9988', '3070', '19446', '39600', '16278', '26550', '7581', '13780', '10734', '16285', '9621', '18001,28', '33570', '6396', '15300', '10628', '93947', '19929', '22188', '20883', '11298', '6538', '20690', '36400', '7695', '5937', '63306', '10910,6', '13200', '15290', '17930', '19099', '29650', '13205', '5827', '5531,8', '16669', '15760', '27196,1', '16105', '13992', '18660', '14856', '11927', '6007', '49100', '7334', '18990', '14724', '3798', '20987', '24357', '4380', '11070', '10990', '15875', '17991', '5775', '65250', '6217', '15582', '22225', '11487', '14420', '8698', '10115', '2700', '11833', '14205', '3048', '2961', '70936,32', '70245', '4922', '3160', '9457', '9567', '9137', '8140', '10635', '21216', '15016', '12598', '30974', '78150', '19805', '8790', '19844', '51685', '16940', '20490', '34000', '28220', '18590', '13989,4', '5055', '7998', '15127,38', '31910', '11620', '27065', '29905', '15214', '36910', '8149', '18085', '13734', '12699', '33830', '6567', '12057', '23355', '20519', '13318', '12899', '12498', '5279', '23749,76', '4297', '19498', '9590', '11377', '5398', '5970', '14487', '58500', '50929,82', '11764', '16367', '14390,92', '9907,2', '6766,4', '34466,4', '8970', '17247', '23166', '6691', '3690', '6479', '23094', '15210', '7020', '5963', '3730', '2435', '12730', '3987', '83871', '23152', '20252', '4872', '12478', '11202,3', '14005', '25263', '3359', '6142', '22394', '5665', '15900', '7586', '7863', '12170', '23160', '24314', '5160', '24867', '21721,1', '13409', '20294', '31730,91', '34200', '10697', '4990', '14190', '28490', '8095', '30370', '23399', '12365,2', '34650', '19734', '15036', '5155', '19021', '18698', '16065', '7381', '10690', '13280', '13998', '11308', '20698,2', '47691', '5525', '7092', '5799', '18180', '21740', '9750', '9069', '14380', '12220', '88440', '25177', '27769', '22509', '30837', '13438,3', '6947', '3128,2', '4647', '38625', '16290', '4042', '5678', '13990,92', '5333', '18490,91', '18468', '7516', '71500', '14280', '6549,83', '6192', '4209,2', '26770', '3222,9', '15367', '4242', '4428,1', '16000', '14530', '3440', '19597', '19522', '24190', '39627', '26085', '21015', '6513', '3599', '9755', '10925', '27690', '21487', '11529,91', '4314', '16398', '20660', '5247', '7017', '22550', '12593,7', '18500', '4658', '24270', '6756', '50177', '6983', '2855', '31317', '5438', '20324,92', '34806', '17561,8', '30738', '5297', '17390', '21082', '35332', '20767', '7300', '24760', '8560', '6228', '7867', '23689', '6477', '6819', '25315', '28500', '31806', '25623', '7711', '12455', '50568', '7954', '29948', '15226', '13720', '4310', '51000', '5058', '14361', '24344', '11789', '4500,95', '7440', '19608', '8220', '7230', '32938', '93400', '87570', '8442', '30422', '61290', '11113', '28428', '35750', '20850', '17998', '15481', '4889', '17811', '17804', '2751', '27350', '3128', '22299', '4040', '19989', '3270', '7452,4', '22522', '19620', '6163', '16785', '6030', '7498,9', '7404', '3516', '3490,92', '23029', '3280', '6510', '13889', '19120', '11755', '5032', '7200', '9931', '9448', '26820', '27986', '4135', '5335', '3245', '15840', '34020', '10566', '13825', '14990,95', '26397', '5499', '15160', '19897,1', '19358', '8456', '32800', '26650', '8210', '62468', '9793', '10999', '13900', '17765', '20295', '8432', '22530', '24850', '13566', '18910', '3271,5', '16900', '10695,13', '12048', '38108', '25641', '7077', '41600', '23440', '47223', '32450', '8788', '14645', '3744', '20960', '3411', '23109', '19998', '42950', '67500', '61000', '94330', '25298', '17760', '28933', '15685', '20079', '2889', '12610', '15859', '9991', '21075', '6272', '20979', '9570', '16199,2', '12317', '11430', '44560', '19740', '2800', '25167', '3895', '4520', '5859', '37818', '8171', '49838', '14765', '24200', '13355', '3790', '4950', '15164', '36701', '18338', '18130', '39780', '4998', '27472', '36000', '6236', '3231', '6651', '6386', '25899', '60500', '15750,91', '7174,6', '14388,3', '29012', '11080', '3045', '6747', '18690', '4572', '10770', '10265', '9367', '23663', '83000', '61250', '4973', '24962', '13960', '11769', '8330', '4477', '14083', '6186,7', '14500', '25574', '4671', '53162', '24125', '32370', '17466', '3498', '55174', '15102', '21658', '7609,5', '10880', '2633', '5221', '13558', '16371', '30879,55', '27890', '8341', '14773', '6115', '34699', '98996', '19218', '16736', '2910', '3780', '3114', '14330', '16467', '11236', '8556', '26817', '18849', '16428', '18624', '4761', '6899', '15100', '30735', '16312', '4827', '33660', '17173', '46000', '11322', '13719', '5169', '21943', '8568', '6746', '9930', '21597,8', '19889,92', '32444', '2421', '36308', '39160', '5129', '3600', '4743', '8597', '5276', '8856', '11135', '3701', '3547,42', '24970', '31255', '6881', '29075', '13488', '14169,1', '11034', '27480', '24380', '18615', '6650', '18610', '5110', '23126', '6830', '7679', '17528', '25343', '9973', '23882', '15327', '23470', '3050', '17425', '4350', '27372', '9061', '11977', '14854', '7337', '10840', '28110', '25140', '71600', '41171', '4250', '22969', '23900', '5840', '5018', '2995', '19593', '11315', '19457', '50700', '18471', '27398', '20989', '7700', '11440', '24290', '4276', '4777', '21286', '8835', '26543', '12320', '5016', '7763', '24864', '4770', '16011', '8988', '17450', '4508', '9596', '3752', '24667', '7511', '8303', '35060', '6289', '17117', '17320', '25227', '5083', '10780', '5440', '10998', '5184', '72000', '10058,5', '31694', '5170', '8480', '5710', '14040', '29742', '20770', '5409', '50400', '3354', '10149', '22999', '8904', '9814', '17840', '28999', '10560', '10061', '19125', '61915', '16110', '18140', '5968', '14440', '4168,8', '9429', '12120', '23795', '12998', '19315', '5750', '4390', '8350', '6240', '11601', '10021', '11646', '9980', '4107', '26276', '83407', '6653', '18547', '25460', '6494', '25983', '23391', '4546', '22145,1', '6457', '5592', '45438', '27150', '5995,46', '13592', '22798', '14513', '33330', '12411', '16743', '13841', '19839', '9940', '15570', '45034', '15948', '15035', '45110', '5175', '15750', '24160', '4140', '18600', '25587', '24130', '7698', '6643', '15393', '31499', '13644', '27744', '6202', '4031', '5320', '12830', '4497', '10022', '3617', '5345', '26365,6', '6461', '2629,8', '5594', '4366', '9444', '6323,33', '3137', '31596,92', '24640', '24500', '11819', '40490,91', '29475', '8398,1', '13897', '8184', '16650', '7047', '5140', '60300', '29006', '6910', '4403', '10188', '40480', '15784', '18040', '6301', '39388', '7794', '9576', '20140', '28950', '23358', '32580', '13025', '16519', '27796', '22072', '10940', '29471', '12195', '7550', '24881', '3786', '18360', '29478', '8049', '22860', '16776', '29376', '2250', '6707', '4386', '24897', '21940', '26485', '23517', '4710', '12340', '25960', '14449', '10374', '83194', '25330', '25855', '35767,4', '15403,02', '4945', '74319', '4487,4', '2676', '15670', '20179,3', '4000', '6088', '14133', '17650', '4670', '17838', '24100,83', '11296', '33881', '10789', '14680', '21279', '7605', '11039', '3429', '7459', '8410', '24119', '20562,2', '38032', '14947', '12550', '7247', '23711', '18410', '7637,63', '9733', '7207', '11787', '22263', '20400', '19820', '8648,5', '34148', '37415', '14580', '4664', '8549,9', '12209,5', '23310', '31702', '14669', '19700', '21298', '18980', '22098', '2529,61', '7899', '4302', '4534', '7280', '20155', '11434', '14470', '14350', '4878', '15810', '8652', '12029', '9397', '29975', '3639', '9720', '26379,91', '9420', '26150', '10447', '6338', '19491', '23216', '19037,2', '16185', '5301', '30925', '6680', '3149', '15269', '16030', '11699', '87600', '25898', '16949', '5614', '13567', '31404', '4375', '23793', '34295', '14316', '7574', '9573,1', '5292', '2180', '20313', '9054', '10759', '29949,7', '20644', '5399', '10429', '19082,3', '15795', '30197', '12490,9', '13591', '3935', '6360', '7166', '3375', '19857', '5020', '45672', '19854', '15985', '6876', '14750', '20646', '20590', '15128', '24120', '10422', '6967', '8118', '25301', '28955', '15616', '17895', '27428', '13386', '21246', '11466', '27166', '40756', '9799', '10060', '4117,5', '26100', '46671', '4560', '32114', '23511', '27810', '6283', '4299', '13010', '20900', '17509', '4040,1', '19205', '5820', '19377', '9290,91', '4455', '20561', '12711', '7667', '4921', '2704', '20679', '15450', '17372', '10779', '12095', '16298', '4652', '29790', '13112', '20650', '12097', '23140', '7201', '23865', '13686', '5199', '10230', '14130', '8920', '21295', '31610', '10418', '10599', '7909', '28517', '23304,6', '14744', '6744', '16112', '18495', '6544', '5759', '10799', '6616', '16389', '21950', '13995', '32348', '12645', '3899', '26642', '9949', '14493', '10820', '4999', '27493', '11188,14', '17956', '35770', '20792', '4491', '6697', '17076,2', '8625', '20659', '4390,91', '18220', '6527', '39500', '8745', '24768', '21590', '8792', '18632', '3798,9', '18119', '16596', '21506', '22497', '5504', '33400', '27945', '14848', '17050', '3737,6', '31587', '6783', '16975', '22896', '5984', '5988,46', '11529', '14760', '20699,1', '20190', '22200', '11685', '14310', '5350', '13671', '3046', '5824', '2490,92', '8386', '3960', '15863', '17501', '37437,66', '16381', '4070', '9480', '17193', '17379,99', '6435', '8901', '20550', '4463', '31050', '11040', '14637', '5832', '3061,45', '5119', '7315', '24587', '9681,5', '21250', '17398,1', '4430', '20320', '23772,27', '98030', '9654', '23990', '19945,35', '27599', '30100', '16616', '16988', '24871', '72890', '7335', '7560', '5612', '2489', '3715', '7189', '4088', '21240', '2000,51', '10990,92', '10890', '20536,1', '18170', '10782', '21984,55', '12012', '28400', '40000', '3540,2', '5929,95', '3200', '5100', '8530', '4986', '24519', '22090', '26346', '16447', '25459,3', '30428', '3396', '4840', '15503', '23000', '6537', '23154', '4366,8', '18376', '22575', '12189', '20862', '87786', '9251', '9120', '11159', '7209', '37305', '11795', '12518,5', '30681', '36490', '4775', '9846', '25904', '7747', '10740,64', '10611', '17770', '17316', '48900', '6647', '8398', '17200', '8564', '6097,5', '32387', '4260', '12872', '17568,3', '25991', '4869,66', '13598', '10193', '22900', '44415', '87880', '14796', '14998', '4452,91', '42436', '19245', '46729', '7431', '2800,85', '2899', '29450', '12680', '26337,6', '8492', '10712', '10630', '17270', '3897', '6863', '17890', '3119', '8396', '34700', '7523', '17098,2', '2595', '6200', '6792', '13229', '11055', '21624', '13748', '13389', '3353', '14632', '13740', '24479', '12902', '7680', '24370', '96000', '4329', '8487', '8360,92', '2310', '7885', '4330', '14891', '9240', '3168', '8070', '10194', '41100', '14100', '4527', '6049', '10456', '12716', '13018,1', '12159', '3393', '16670', '21578', '9648', '14629', '4765', '4963', '10790', '15440', '8832', '22792', '11151', '3299', '19622', '13830', '37069', '24328', '8233,95', '2372', '15036,21', '4212,9', '32293', '40581', '10216', '25220', '14800', '21840', '17184', '16745', '63000', '15850', '8995', '3654', '7098', '28778,3', '19404', '11496', '7690', '11718,94', '25440', '13590', '9862', '3370', '22987', '33358,84', '21847', '17550', '11289', '14588', '41210', '6125', '16998', '36350', '18329', '12690', '9219', '16773', '12854', '21688', '30603', '37495,2', '26457', '14875', '9417', '6975', '17660', '10352', '15147', '29680', '7135', '11776', '14230', '27570', '15309', '18549', '10605', '10438', '33500', '13254', '10990,2', '9900', '9669', '16649', '6454,8', '18361', '30520', '35320', '13890', '18121', '10950', '34905', '18575,2', '4125', '19966', '17600', '14522', '6380,91', '15150', '7128', '7290', '39276', '8419', '5280', '12148', '8543', '13139', '23990,83', '14321', '4760', '10757', '3348', '13465', '4940', '29065', '12330', '44030', '4743,68', '3999', '22395', '34555', '11317', '16920', '18400', '4228', '56964,6', '7348', '9630', '5670', '6609', '11020', '9395', '21349', '12024', '22490,91', '19890', '21197', '88300', '18693', '50970', '24408', '11648', '10262,2', '31895,48', '27470', '20277', '19460', '18896', '11765', '21630', '59760', '16190', '30656', '11495', '6679', '6809', '6101', '2120', '30600', '2878', '14980', '9200', '21381,12', '11250', '22105', '26400', '33459', '32750', '6407,5', '21510', '6640', '25870', '8300', '16450', '41700', '5790', '2245', '20931', '13248', '6740', '31580', '30299', '7228,2', '83106', '30756', '26280', '5780', '3610', '26529', '20700', '2135,14', '52561', '4641', '5765', '3690,82', '4619', '14620', '15904', '6346', '10912', '12581,89', '5230', '2689', '7105', '32850', '6883', '16613', '15466', '23390', '23377', '88555', '29780', '20298', '7713,42', '16879', '9550', '26660,2', '28350', '5150', '5865', '27340', '17162', '17865', '11642,3', '4035,2', '9586', '15247', '17420', '4339', '4265', '11167', '6529', '7642', '4280', '7977', '15975', '14450', '2610', '13463', '41211', '5599', '23688', '6843', '4079', '13921,52', '10163', '10140', '14860', '11416', '5099', '28800', '28210', '11955', '37508', '10457', '66578', '37881', '27670', '11060', '18530', '4934', '20053', '9173,88', '25632', '6445', '13747', '4885', '5517', '11302', '98644', '14646', '13916', '16197', '43376', '7190', '4767', '15033', '6503', '9718', '2950', '9217', '7084,28', '13184', '20715', '27518', '16635', '28469', '25225', '10551', '20310', '5487', '12896', '14004', '22560', '10785', '21710', '7790', '4704', '9538,9', '12290', '10609,2', '8857', '22150', '13221', '10617', '31096', '5634', '4640', '23037', '16948', '6311', '6370', '20086', '44440', '12211', '50330', '8595', '7677', '9212', '17940', '41132', '9729', '26700', '4629', '27580', '23944', '5207', '9380', '12687', '8185', '22692', '4377', '23185', '24711', '5290', '7410', '17950', '19269', '77000', '21685', '8825', '7433', '13780,82', '4300', '29037,12', '4595', '7709', '3014', '6854', '12720', '4525', '3239', '14787', '22057', '18472', '28221', '8540', '29493', '8943', '13300', '15599', '8459', '19382', '4729,72', '28551', '13985', '6787,8', '40080', '18749', '16222', '11850', '6892', '17496', '21490', '22660', '7598', '18350', '16908', '6204', '23351', '16005', '3089', '6619', '31224', '26395', '8874', '32706', '3528', '20060', '23451', '7180,9', '46800', '17949', '21802', '38718', '12239', '11855', '10506,76', '11370', '5965', '19999', '29622', '9963', '9840,6', '15230', '23389', '4312', '14107', '5242,3', '90200', '9004', '5757', '12597', '4392', '29599', '65000', '16870', '6796', '19798', '56673', '23226', '24933', '37780', '5200', '42940', '56277', '27446', '25290', '9116', '16362', '13978', '18250', '17648', '12493', '15490', '3032', '56340', '6870', '10323', '29094', '4535', '2691', '10576', '14089', '7549,89', '53673', '4660', '27381', '5687', '3195,9', '15482', '7194,72', '16140', '46156', '11409', '7110', '4240,91', '2974,15', '11394', '14798', '41730', '8697', '22670', '31509', '3530', '20317', '3141', '4318,2', '14081', '9899', '19843', '17272', '22428', '33470', '13225', '19674', '23861', '2412', '9738', '25454', '22286', '12628,91', '4949', '13999', '11455', '19665', '12350', '28509', '4039', '41125,88', '14570,01', '23854', '11021', '5309', '11489,91', '5735,7', '30800', '14292', '2268', '22904', '22498', '22870', '62240', '23395', '4047', '24570', '32000', '20350', '33340', '17649', '27449', '6020', '7448', '26300', '11399', '27234', '10575', '6246', '60829', '15468', '20520', '19591,36', '6839', '19230', '21827', '28945', '19940', '30060', '15359', '33280', '31060', '21505', '2039', '27260', '25720', '9396', '11305', '26490', '4460', '23197', '5754', '7556', '13640', '11940', '21580', '5689', '41021', '10286', '22140', '8570', '15700', '29990', '45280', '6270', '28684', '5706', '16240', '14144', '4909', '11290', '23975', '12250', '5179', '31300', '11796', '43950', '9128', '11692', '9140', '12428,7', '12470', '47247', '12396', '66680', '12900', '8500', '42228', '2282', '43373', '17955', '5817', '3000', '9913', '7490', '4858,1', '37000', '5877', '13699', '4650', '2850', '38406', '9342', '44697', '4281', '10900', '23852', '23040', '23822', '4243', '6100', '17671,2', '16263', '24778', '6399', '3970', '11286', '7357', '7507', '13952,73', '27736', '5755', '6247', '3199,2', '6342', '4769', '7390', '11510', '3924', '6979', '10170', '10499', '35450', '4887', '7486,1', '7416', '7902', '25515', '15121', '15363', '28640', '8108', '18934', '13494', '19500', '17430', '3391', '8320', '8581', '23797', '6103', '48800', '30011', '19143', '36136', '5850', '6944', '4026,55', '5005', '15565,5', '4672', '2599', '3909', '26950', '16479', '63776', '22589', '17089,9', '25896', '6081', '3979', '14510', '3614', '5516', '14976', '19797', '15824', '2745,9', '20500', '10700', '6935', '79910', '26410', '9325', '4435', '19840', '18240,91', '21209', '12670', '10846', '14046', '14204', '8000', '7160', '12822', '5505', '17556', '19542', '4021', '25250', '21150', '39450', '49500', '11490', '42000', '22050', '46695', '7472', '11996', '34630', '23783', '16379', '21195', '16704', '48600', '17503', '29898', '3173', '13360', '13165', '44660', '6560', '3920', '22944', '9393', '11710', '32900', '26260', '16520', '17290', '5239', '33450', '23259', '6069', '13020', '5430', '7874', '11081,52', '13770', '25179', '18895', '14917', '86618', '9452,97', '10331', '6941', '21920', '17690', '49000', '14490', '6726,1', '2248', '23009', '17609', '50020', '12450', '12810', '10656', '18707,1', '21960', '16490', '7348,52', '16400', '2000', '7285', '8941', '6093', '10001', '8650', '23100', '30198', '25540', '24833', '4852', '12424', '16820', '11422', '16099', '23598', '9789', '18582', '9100', '5746', '4454', '17615', '28842', '7083,05', '18099', '38408', '7470', '8878', '5232', '4122', '21481', '7495', '7002', '26720', '15640', '21200', '17775', '4290,91', '22345', '3460', '28417', '9158', '26090', '11456', '18881', '23706', '4099', '5694', '32822', '6781', '21800', '9371', '3923', '17540', '34557,1', '10938', '7249', '4570', '3358', '27370', '119700', '3542', '15070', '28781', '19960', '25713', '7336', '9536', '64660', '44495', '29877,3', '15115', '29750', '25732,2', '9800', '21069,8', '2439', '10646,2', '97220', '5848', '26051', '3314', '19187', '8199', '4090', '6374,78', '10483', '17697', '5988', '3301', '35683', '10525', '19286', '30300', '8389,91', '8298', '20169', '3553', '35787', '12898', '8132', '6056', '23790', '9338', '19615', '4130', '9241', '15857', '21615', '22252', '2680', '17424', '7888', '4607', '27228', '11148', '8699', '3110', '3959', '11670', '22427', '23700', '14390', '12136', '18328,6', '7618', '14080', '4190', '7395', '89196', '11727', '19475', '4905', '8735', '8630', '3876', '18631', '13769,2', '70000', '7291,85', '17340', '27854', '14590', '11724', '20768', '22940', '15315', '6491', '19745', '7281,94', '2792', '10492', '10124', '17520', '15625', '6630', '3185', '5931', '16634,5', '23297', '40110', '11212', '12520', '6918,34', '3410', '21877', '18290', '28294', '9842', '22570', '6696', '26695,8', '32670,79', '12289', '4202', '17254', '11754', '10052', '5037', '40824', '19959', '23499', '33120', '8406', '23147', '3307', '6141,75', '33097', '3827', '23352', '29198', '22990', '71243', '16730', '7991', '32041', '21238', '4918', '24272', '11540', '28059,81', '13846', '4074', '5748,3', '30360', '12910', '31933', '28899', '32335', '13240', '11590', '5640', '20129', '73300', '16460', '18481', '53400', '50678', '27283', '61832', '6525', '25498', '8633,7', '9009,91', '21000', '5391', '27540', '17198', '15427', '17780', '17631', '17820', '3630', '37752', '4150,95', '7050', '7839', '5681', '3940', '2799', '7682', '2880', '14845', '29661', '17863', '15980', '11660,93', '26390', '26020', '7745', '24830', '2928', '70047', '10860', '28000', '76300', '3580', '5478', '20375', '6831', '11968', '9728', '26750', '10855', '54700', '22980', '19290', '27088', '14094', '20050', '2650', '8829', '21243', '16662', '5930', '84558', '16250', '5580', '19420', '4485', '11450,9', '8603', '9425', '21382', '6799', '10970', '32449', '3376,8', '16189', '15190', '3890', '4781', '6834', '30920', '5890', '4469', '8950', '17422', '10550', '10238,82', '25240', '15745', '5050', '26084', '42320', '9533', '24131', '7480', '17091', '8278', '30796', '15003', '13193', '7741', '11999', '6758', '6790', '4120', '11740', '9710', '51750', '8889', '16399', '3180', '31491', '9349,92', '12810,94', '24059,83', '11586', '23397', '23170', '75581', '16045', '14618', '13078', '22000', '19464', '2447', '8160', '18171', '7296', '10116', '5798', '10478', '5611', '29526,12', '5218', '37466', '18517,1', '19060', '10555', '6299', '27356', '14610', '9013', '42669', '15759', '18970', '15370', '7810', '19000', '16512', '17251', '46921', '4780', '27800', '6561', '18000', '13290', '4835', '7908,1', '25385', '18027', '8188,04', '21690', '48920', '10021,5', '30110', '35550', '4939', '27124', '28700', '21083', '13489', '16740', '21910', '18553', '3400', '11768', '27750', '2936', '15314', '23498', '8268', '22167,6', '3820', '21696', '13620', '13680', '19819', '16199', '27645', '11536', '10706', '14950', '17350', '32400', '3060', '24675,85', '4869', '5355', '2600', '5742', '28247', '4132,5', '4268', '24777', '15580', '20565', '3682', '17490', '18630', '2389', '48000', '19877', '26848', '13476', '14644', '4165', '18720', '33510', '14391', '4754', '26055', '61600', '22495', '5240', '5450', '13134', '12646', '12780', '4240', '13137', '34190', '26600', '74482', '23820', '18602', '4968', '9365', '35500', '20305', '6822', '6779', '11445', '4490', '19130', '17451', '20720', '18825', '8033', '3800', '28472', '2333', '28722', '10428', '4244', '34280', '12366', '79380', '12639', '29782', '22070', '5533', '23475', '6620', '24700', '17630', '4475', '3103,2', '11225', '14495,35', '71740', '10490,91', '37500', '3983', '13507', '12575', '9908', '25695', '26920', '15045', '10029,92', '10580', '4966', '5829', '40313', '13390', '4221', '2907', '6039', '8381', '10648', '23393', '4139', '2224,8', '9499', '15927', '7336,3', '15780', '60888', '34990', '6181,09', '19719', '41470', '5616,15', '20290', '92951', '4592', '6552', '22498,2', '32415', '19005', '30596', '5825', '22075', '11170', '25639', '8421', '9042', '4850', '14044', '4703', '12130', '24174', '9983', '8055', '18550', '13580', '57593', '16218', '35201', '30230', '16732', '12745', '26961', '25840', '26555', '8609,92', '4420', '12530', '9689', '17546', '4492', '27208', '7386,75'}\n",
      "\n",
      "\n",
      "==========\n",
      "FST_PAYMENT\n",
      "{'890', '1318', '15680', '1745', '8900', '4155', '2900', '2587', '500,39', '352', '4593', '1680', '1948,92', '1341', '2115', '364', '770', '11076', '2597', '4177', '2152', '531', '1295', '1540', '9699,69', '3555', '1374,88', '1740', '1383', '4983,2', '8389', '448,9', '4160', '658', '3416', '1030', '5800', '1238', '553', '3600', '4387', '4743', '2487', '1635', '5075,84', '1970', '3195', '2568', '2572', '7623,3', '555', '2130', '960', '2156', '1560', '7519', '3202', '7900', '0,92', '6650', '1025', '5246,5', '744', '1703', '1306', '1219', '1480', '1999,94', '3050', '1020', '1686', '4350', '5192', '1199', '539', '633', '2011', '425', '4275,2', '1424', '541', '2098', '4250', '10097', '23900', '1765', '527', '4014', '1958', '1805', '1544', '10051', '3484', '420', '3980', '7700', '776', '2454', '11440', '5352', '7116', '912', '717,2', '1620', '5000,1', '2395', '2125', '19430', '2020', '579', '6480', '49038', '2550', '2540', '4770', '1059', '582', '9788', '835', '1850', '2315', '1001,7', '3752', '2247', '511', '1271', '4274', '1239', '903', '1685', '6000', '3104', '446,05', '2409', '2394', '2022', '5440', '388', '1200,2', '652', '769', '2775', '7630', '11221,5', '834', '381', '953', '4995', '6481,31', '1894', '5170', '8390', '8480', '1979', '5710', '2778', '1499', '974', '4798', '18735', '509', '3095', '2067', '3039', '1717,92', '4898', '258', '3157', '1507', '2278', '1584', '920', '2770', '8450', '53541', '734', '10560', '323,25', '1921', '550', '2062,5', '4395', '1385', '1005', '15140', '3330', '7148,1', '11292', '1092', '4346', '827', '1300,92', '14440', '1796,94', '1125', '982', '1939', '6000,95', '468,1', '6598', '480,9', '1780', '636', '5750', '4390', '299,1', '1781,83', '2988', '2499', '6240', '3194', '2210', '1201', '977', '1509', '17500', '1694', '13613', '1399', '4820', '1500,5', '4992', '602', '0', '1365', '2520', '5120', '5472', '1009', '7660', '11548', '3669,6', '3003,3', '49200', '2000,6', '10397', '1955', '430', '370', '1093', '14448', '468', '3408,8', '7805', '1182', '1837', '30660', '13000', '1065', '7669', '626', '3000,4', '718', '10177', '1266', '2155', '4517', '6844', '2758', '10723', '1778', '755', '10467', '3451', '5320', '2848', '2490', '3138', '11900', '4510', '3235', '438', '5708', '700,83', '764', '2985', '959,3', '4200', '6365', '2574', '1952', '33590', '4935', '5594', '6785', '8879,48', '5703', '9444', '1100', '5980', '3158', '705', '2390', '8800', '4600', '6646', '433', '24500', '2863', '3000,68', '592', '669', '5140', '3585', '2528', '1039', '938', '1072', '1528', '6910', '1750', '281', '4403', '2259', '1661', '1046', '2958', '2703', '2535', '3480', '5899', '1779', '6400', '358,1', '781', '10516', '760', '2647', '3049', '1897', '1176', '846', '9490', '4393', '7019', '5700', '877', '4690', '2230', '400', '1053', '1245', '6543', '5985', '44963', '25300', '1060', '556,2', '1188', '3328', '4498', '7142', '1366,05', '7550', '4048', '10980', '4139,36', '6712', '1561', '11560', '1575', '8040', '2250', '41000', '599', '6882', '588', '4263', '2283', '1655', '5631', '10434', '9472', '7261', '9267', '2294', '1520', '8710', '889', '2286', '2955', '1834', '16657', '15670', '4000', '316', '2729', '2998', '3020', '55000', '1399,3', '1139', '3028', '6832', '3545', '5375', '3010', '4666', '50', '2437,5', '6990', '2335', '3750', '2495', '6950', '10227,2', '7207', '9248', '3749,74', '18850', '754', '3685', '690', '758', '49356', '2716', '4370', '1490', '10497', '1089', '1799', '7811', '5767', '3318,4', '120', '643,7', '1013', '375', '2270', '10557', '15000', '1190', '672', '3698', '4937', '440', '1800,1', '1080', '6782', '5812', '1530', '1333', '2667', '3740', '3275', '43359', '1726', '792', '177', '20235', '842', '4348', '17110', '1708', '2030', '2570', '3364', '3159', '7659,01', '1400,95', '1888', '3360', '6820,45', '344,8', '1500,95', '2514', '379', '615', '868', '4030', '2132', '3186', '780,3', '2506', '839', '586', '1605', '2429', '7816', '4434', '709', '878', '8120', '3149', '168', '692', '2966,2', '9790', '5060', '3209', '512', '3444', '18375', '405', '20890', '339', '3245,95', '2201', '1790', '544', '7080', '12335', '1293', '11116', '1457', '1501', '8000,91', '2186', '956', '19355', '2180', '1103,85', '656', '3086', '2720', '1994', '16350', '140000', '10090', '4210', '10759', '3426', '35000', '4900', '20644', '1181', '1084', '1000,1', '3187,74', '490', '529', '1090', '6000,81', '54870', '10240', '3935', '3950', '900,2', '10400', '1268', '1312', '1258', '3454', '545', '3425', '779', '1920', '12700', '4060', '3403', '6495', '399', '5250', '772', '14786', '3304', '1055', '1814', '35800', '1299', '2493', '858', '342', '8274', '2178', '2898', '3885', '4919', '4986,5', '1690', '1000,89', '8328', '1555', '706', '1233,2', '6800', '7836', '1257', '1303', '3298', '6625,16', '4579', '1275', '5820', '4206,8', '63219', '4800', '518', '1155', '10200', '845,5', '8640', '2300', '3230', '2864', '10729', '2763', '24000', '4455', '13818', '1160', '7243', '11200', '13203', '341,1', '1273', '5811', '7600', '1036', '695,2', '2869,9', '950', '56638', '699', '564', '50642', '517', '643', '2668', '619', '2099', '7420', '2279', '13670', '3597', '2000,92', '8117', '225', '418', '5610', '10230', '1319', '3433', '300', '1705,5', '2437', '1460', '3602', '969,8', '6789', '3134', '11860', '7531', '439', '3124', '9400', '1444', '1482', '4580', '1111', '1517', '6519', '54929', '424', '1050,92', '2926,4', '5145', '849', '6730', '457', '4806', '1567', '3100,3', '8688', '1271,1', '9685', '1715', '2096', '680', '2325', '400,2', '2690', '3880', '2034', '1126', '3450', '3899', '13539', '19990', '1648,5', '1991', '747', '554', '2790', '27000', '620', '1124', '1015', '1369', '2006', '9068', '334', '4925', '1695', '1399,7', '9663', '1431', '10489,92', '9375', '855,9', '6326', '159', '3078', '6509', '1751', '5045', '720,2', '11597', '1730', '894', '927', '2885', '748', '3162,71', '1915', '4138', '3100,1', '7049', '5504', '1087', '10637,7', '19950', '885', '2015', '4000,22', '9695', '14760', '1430', '648', '9250', '3249', '929', '10695', '2092,94', '1477', '5350', '2784', '6837', '450', '1872', '13519', '8082', '2323', '1556', '1719', '2470', '1310', '2000,7', '650', '522,4', '6357', '3960', '3502', '1786,9', '740', '449', '1876', '9480', '917', '495', '1064,2', '1247', '1379', '5445,92', '7964', '1488', '383', '4590', '11044', '8064', '4185', '601', '4268,72', '4000,9', '20550', '5437', '2205', '514', '3590', '7990', '507', '2954', '46500', '10000', '1297', '4430', '3250', '3130', '832', '677,3', '416', '20595', '1291', '7118', '1677', '613', '1095', '756', '234', '130', '10460', '9824', '320', '2410', '5667', '1371', '2330', '936', '21094', '4587', '3000,2', '5387', '2414', '3439', '3830', '565', '813', '12012', '3030', '1504', '9020', '40000', '1703,2', '9016', '4352,37', '2149', '5100', '3200', '9754', '3774', '48156,13', '2280', '2200,91', '837,91', '9270', '2482', '1278', '23000', '1693', '1924', '3318', '22097,99', '435', '1272', '3490', '260', '1340', '3900', '7953', '3800,2', '3212', '555,2', '4768', '13776', '6174', '2199,95', '2345', '4815', '10041', '12100', '3320', '2584', '11600', '5726,3', '6875', '1361', '984', '3495', '4775', '217,5', '7747', '1000,2', '1011', '22400', '1610', '4712', '3210', '12251', '26565', '2440', '4546,8', '4230', '10465', '2458', '3760', '6317', '3135', '1394', '4260', '1980', '4011', '4504', '2760', '1489', '7707', '1035', '1050', '754,2', '2084', '2228', '2962,1', '6000,1', '1034', '5000', '10270', '2640', '2017', '14806', '1557', '3500', '3090', '675', '1390', '2457,9', '2899', '2055', '4746', '7238,86', '18152', '60360', '478', '21750', '3119', '10750', '520', '249,3', '2595', '6200', '1877', '6340', '38800', '306', '8100', '3294', '3169', '1310,62', '7240', '2870', '54080', '19521', '2810', '58800', '895', '2310', '1481', '1373', '5999', '1440', '4330', '50500', '3700', '413', '1000', '780', '10152', '7764', '1288', '373', '14100', '29500', '1650', '2328', '4194,3', '251,1', '3511', '710', '979', '1018', '3677', '479', '2220', '3084', '2630', '1327', '1151', '5989', '6300', '8618', '3299', '2218', '3899,95', '1178', '2830', '1523', '1995', '2324', '5744,5', '1463', '948', '2197', '21900', '1889', '2062', '765', '2372', '1175', '681,2', '8816', '3277', '349', '1148', '4245', '861', '100', '10512', '6323', '1788', '3108', '759', '2285', '3165', '1069', '2559', '269', '5650', '3148', '3520', '557', '4400', '663', '4199', '1197', '2930', '25131,59', '2419', '2538', '4444', '1819', '1450', '12500', '5786', '7298', '2079,02', '3370', '9845', '367', '6600', '1634', '10394,5', '1484', '7464', '1269', '3240', '1198', '6554', '3550', '7125', '1928', '2044', '479,8', '11320', '627', '20000', '2730', '1682', '567', '3787', '10260', '9000', '860', '3538', '2686', '6975', '625', '8820', '283', '2179', '4343', '9040', '2450', '46300', '386', '2915', '988', '3150', '250,6', '1806', '888', '1012', '2598', '473', '11337', '778', '930', '2981', '2373', '446,88', '9900', '6995,92', '7100', '499', '371', '2121', '955', '737', '1533', '695', '1568', '10950', '508', '1179,6', '1588', '9996', '995', '1265', '1609', '3300', '1376', '41580', '676', '4045', '1300', '3293', '7128', '1453', '863', '14940', '2877', '17610', '940', '2615', '2200,05', '6290', '60245', '5814', '788', '1202', '1229', '45000', '3794', '4020', '5340', '42518', '1399,8', '5177', '941', '18900', '2780', '11425,8', '410', '2843', '1445', '528,5', '6410', '630', '360', '3997', '256,2', '1195', '3999', '14000', '1873', '4653', '3357', '3415', '2170', '44500', '7945', '5198', '4080', '1860,9', '5210', '421', '18400', '1082', '1475', '7174,87', '637,3', '3097,8', '2835', '5670', '1895', '553,6', '1622', '11020', '1146', '350', '697', '3872', '10696', '925', '2405,69', '5752', '1550', '1990', '9784', '1309,65', '2571', '3840', '4086', '1153,5', '12999', '3448', '60432', '1294', '445', '12000', '11890', '3236', '7995', '1159', '1000,67', '210', '2975', '2013', '39487', '3846', '1922', '1129', '694,2', '1313', '3413', '6010,3', '5844', '857', '311', '580', '4363', '25400', '8099', '54470', '11689', '3266', '2500,4', '2878', '4110', '1328', '5999,2', '1785', '1041', '75500', '9200', '677,5', '11673', '32750', '1252', '8300', '1717', '745', '1871,75', '5790', '2245', '9898', '2947', '2702', '606', '2740', '8945', '1267', '1161', '2482,84', '1870', '5000,8', '6777', '2265', '6160', '496', '28257', '1350', '2593', '3610', '1982', '659', '1255,41', '4697', '1360,92', '6532', '1246', '2547', '7477', '7082', '5521', '1680,82', '1168', '713', '2500', '1256', '2263', '4619', '869', '2643', '332', '1289', '1514', '1800', '2504', '2316', '10502', '0,95', '489', '700', '799,92', '4319', '1992', '4523', '3570', '1179', '2689', '3874', '4675', '4828', '515', '610', '677', '2358', '3369', '1261', '315', '2518', '3278,9', '503', '1660', '10015', '387', '9550', '2698,93', '1880,2', '525', '1885', '5150', '4270', '2916', '828', '2100', '2331', '2860', '15939', '11500', '3930', '4750', '1899,1', '7185', '3680', '6890', '3220', '4686', '3735', '7950', '1701', '3609', '13100', '510', '1455', '1840', '5902', '10136', '508,79', '463,2', '7800', '457,5', '4280', '1220', '8734', '1495', '1890', '4550', '1279,9', '439,95', '4398', '6445,86', '2433', '2610', '735', '9639', '618', '1563', '2567', '9190', '10140', '9979', '2112', '1123', '6900', '729,1', '1248', '1500', '1392', '515,85', '7447', '1152', '390', '475', '674', '28800', '18588', '1384', '8940', '649', '3510', '1077', '470', '729', '6999', '623', '2952', '1771', '867', '1250', '9960', '558', '25000', '230,3', '1363', '5517', '4353', '3100', '696', '240,6', '1075', '6957', '5735', '653', '2472,5', '8125', '2950', '1752', '14640', '3489', '833', '3916', '436', '17000', '3390', '2019', '1503', '456', '1249,95', '1960', '16070', '800,82', '1351', '571', '3414', '4335', '10515', '2588', '3087', '3363', '449,1', '6835', '5540', '7822', '16500', '1016', '4916', '1770', '6699', '3140', '376,21', '739', '4289', '1469', '200', '1070', '2135', '1107', '6700', '2596', '2635', '732', '40664', '1287', '3333', '2253', '21839', '4680', '3284', '4640', '13700', '6370', '772,3', '34923', '2888', '933', '845', '742', '2920', '635', '1040', '1411', '6670', '150', '12211', '6610', '1619', '1865', '3688', '7350', '5940', '1722', '2260', '4629', '29860', '31000', '458', '1610,4', '3214', '41774', '918', '5001,9', '13140', '3710', '5022', '346', '4005', '285', '14385', '2289', '2375,68', '1056', '3088', '11024', '2355', '11382', '1841', '965', '1213', '2832', '419', '2911', '9037', '5690', '1930', '1999,2', '1571', '12358', '4300', '1875', '798', '5095', '40100', '752', '4910', '10162', '15886', '330', '8998', '3014', '2745', '368', '451', '1999', '11800', '911', '8008', '3463', '9300', '2674', '1820', '8540', '2320', '1776', '3569', '429', '2052', '1140', '13300', '3055', '1222', '4450', '2241', '2846', '48210', '3340', '874', '1835', '2076', '2549', '2040', '2025', '767', '1091', '1625', '2175', '4809', '2000,85', '10330', '1491', '16750', '2088', '1098', '3605', '2131', '2223', '485,2', '637,4', '1540,84', '668,71', '1470', '2613', '1525', '3120', '11233', '309', '1649', '205', '1961', '2053', '1405', '681', '7520', '2233', '3739', '238', '5234', '65000', '3538,92', '1270', '2095', '2029', '6320', '6399,9', '2697', '4184', '2077', '3385', '3870', '455', '746', '336', '1847', '5200', '7500', '5010', '2400', '5108', '1820,94', '5562', '4050', '11990', '19924', '3907', '2157', '372', '55982', '3718,2', '4053', '13536', '1130', '2825,5', '7095', '638', '6127', '4239', '2136', '10095', '1759', '2999,6', '3392', '2041', '2364', '9411', '723', '2901', '4660', '7000,5', '1519', '6151', '4000,5', '1864', '7913', '524', '138', '655', '6948', '13126', '2129', '5000,91', '9574', '1254', '2688', '2616', '4944', '22399', '855', '1760', '1608', '7110', '469', '958', '2710', '2500,2', '905', '1721', '660', '2348,8', '2690,92', '3398', '824', '2000,22', '18719', '2159', '10500', '5660', '23800', '2688,69', '389', '3717', '1240', '4742', '2807', '34698,2', '980', '2999,9', '3126', '345,3', '3984', '1048', '3711', '4287', '4788', '4949', '213', '2375', '2797', '2352', '1389,8', '5248,91', '2798', '1725', '2477', '3595', '9922', '2016', '1392,4', '2350', '7795', '1081', '431', '11528', '1119', '1808', '2299,9', '9664', '1763', '1989', '3850', '7547,8', '600', '3765', '437', '415', '3910', '539,09', '5900', '847', '2753', '2349,6', '1508', '50442', '1185', '2655', '9730', '2590', '51929', '239', '3319,7', '2288', '3043', '862', '1619,95', '2198', '10100', '6387', '3350', '1210', '42906', '2980', '1546', '1422,6', '1670', '3650,1', '1629', '9910', '223', '8180', '646,5', '7740', '51127', '990', '2200', '6398', '1442', '2039', '1290', '1337', '7880', '6550', '848', '873', '5550', '1204', '276,6', '29032', '365', '2508', '4632', '3198', '4536', '987', '2090', '9288', '825', '542', '1216', '10350', '2403', '4817', '2500,8', '952', '2222', '634,2', '3346', '268', '2467', '9520', '1487', '2491', '11027', '5373', '1595', '645', '5074', '10650', '10000,1', '1180', '2151', '2670', '229,5', '1330', '2150', '8500', '4980,91', '786', '2466', '3596', '1987', '5950', '3260', '34492', '5817', '7000', '3000', '1400', '1331', '485', '2231', '3435', '5398,1', '6257', '1512,1', '392', '1898', '3000,91', '4650', '3720', '1116', '2850', '2498', '6534', '4551', '3469', '25599', '33694', '1458', '4480', '10900', '3223', '530', '816', '1640', '2776', '6100', '2900,5', '16000,1', '3660', '859', '5460', '8650,48', '4000,91', '15091', '989', '3970', '3380', '49582', '3006', '2383', '7507', '7400', '5245', '3943', '574', '2271', '638,7', '21648', '5038', '4846,96', '353', '1500,92', '19958', '1874,7', '1829,43', '2604', '2564', '4360', '2398', '9871', '15600', '2238', '1255', '1094', '2510', '3745', '10527', '2485', '4476', '432', '2078', '8923', '5023', '1549', '2530', '30000', '1320', '2649', '362', '799,5', '3105', '39910', '726', '2879', '1410', '804,5', '3391', '8320', '840', '465', '2110', '11924', '48800', '54910', '2173', '685', '8499', '1653', '576', '5850', '1710', '830', '5560', '2014', '1215', '383,2', '16293', '1632', '1831', '2599', '10008', '2368', '6297', '1434', '301', '810', '622', '1230', '6748', '1479', '5928', '667', '8750', '2892', '5366', '5500', '1565', '10700', '1997', '1417', '538', '3205', '2213', '1292', '6945', '26410', '9325', '10725', '5148', '5038,1', '1700,91', '1841,91', '2796', '2934', '375,2', '6641', '9039', '305,1', '422,1', '8000', '5361', '999', '1887', '2811', '508,5', '15701', '2290', '3080', '9391', '2370', '9770', '1869', '3371', '783', '1599', '1590', '562', '910', '1244,7', '552', '11490', '1860', '10795', '3499', '535', '444,1', '269,1', '4145', '2365', '4565', '2070', '7750', '3990', '3173', '5300', '38000', '26802', '8250', '9418', '850', '2569', '13360', '2989', '13395', '524,85', '519', '780,1', '2803', '686', '18080', '3500,6', '1264', '2050', '15500', '771', '2000,79', '9700', '2199', '4948', '319', '3073,8', '7882', '981', '1648', '9600', '3270,82', '1380', '5532,66', '3015', '605', '891', '899', '715', '6138', '6325', '4100', '3969', '9498', '1849', '10981', '725', '3288', '1500,2', '2420,1', '799', '2327', '2004', '651', '10619', '5998', '3621,7', '1042', '1630', '1580', '3524', '5722,21', '3703', '8680', '2420', '10800', '2857', '893', '2248,1', '4700', '7633', '670', '915', '749', '276', '7776', '880', '2248', '1326', '2553', '1639', '1225', '2001', '2816', '583', '3901', '1498', '20645', '2340', '575,2', '7165', '606,2', '31350', '380', '2027,7', '498,6', '797', '1973', '2000', '16400', '724', '8650', '5097', '247', '11230', '2346', '2387', '7590', '2555', '14221', '4091', '5838', '6929', '1534', '1452', '13400', '900', '7250', '1486', '11660', '10147', '3670', '292,2', '1815', '775', '1813', '5746', '1200,8', '1381', '9500', '9530', '7567', '3537', '3215', '4358', '13750', '8190', '4399', '1543,5', '4500', '1735', '5784', '1512', '1700,92', '443', '1689', '10000,92', '7883', '2586', '2632', '7495', '2140', '3815', '2244', '2360', '3000,95', '1591', '1147', '814,2', '1651', '26090', '3252', '377', '4225,44', '3264', '4081', '3311', '2000,4', '39600', '3136', '9272', '7528', '10933', '6500', '6575', '26550', '684', '6820', '5081', '2887', '639', '6396', '559', '5990', '1418', '3976,32', '488', '3575', '1524', '561', '1959', '2444', '694', '2237', '2754', '9800', '13200', '17930', '1121', '934', '7553', '1348', '728', '887', '3482', '3687,5', '50000', '413,1', '3995', '391,2', '5033', '6007', '868,42', '2949,7', '459', '3795', '736', '1949', '10525', '590', '4823', '2114', '2384', '10267', '973', '407', '2708', '4197', '5244', '1516', '6217', '2653', '3064', '4597', '5461,11', '4198', '1008', '13790', '2749', '4851', '1374', '3492', '2167', '730', '2700', '460', '323', '3442', '2680', '2204', '5761', '19151', '369', '962', '4567', '409', '52182', '3335', '3160', '9457', '1809', '3110', '682', '1768', '1051', '23700', '1829', '2338', '1597', '616', '4190', '4364', '9528', '7395', '4521', '4978', '1910', '1962', '750', '54230', '1462', '8790', '10431', '3170', '293', '7034', '1996', '4720', '34000', '3678', '1029,41', '1899,9', '6750', '573', '3568', '5000,87', '1284', '366', '3810', '1010', '6491', '3657', '2490,95', '880,2', '1393', '12144,42', '3534', '1138', '8751', '1253,7', '2080', '2000,2', '4027', '10026', '5383,85', '2826', '2190', '14200', '5279', '12520', '75606', '1691,6', '2620', '3410', '14935', '1398', '22500', '5847', '1702', '13807', '53370', '1739,69', '3339', '14990,94', '1737', '7124', '16668,82', '2532', '1933', '868,83', '589', '1547', '2357', '3310', '1700,95', '2007', '249', '1670,69', '1899', '11754', '12044', '2293', '10000,2', '690,95', '532', '1260', '7020', '3975', '3730', '549', '2772,13', '5730', '4267', '1141', '1638', '1656', '965,92', '2765', '3099', '6603', '1196', '1812', '16484', '1004', '4318', '1892', '355', '1935', '1400,1', '3359', '949', '1135', '1355', '15900', '2608', '12910', '7586', '1522', '6599,8', '176', '280', '9254', '1708,5', '1566', '2614', '2935', '540', '2665', '650,95', '16086', '3639,5', '711', '1845', '1343', '50120', '5979', '4990', '1356', '21000', '14190', '787', '3159,86', '363,5', '795', '4708', '704', '4315', '1360', '4095', '1876,25', '7506', '1901', '570', '942', '738', '9602', '947', '5155', '1600', '2160', '2880', '687', '1049', '2399', '5609', '790', '2413', '4499', '964', '1784,81', '29590', '599,95', '2459', '4715', '1824', '2698', '2625', '1353', '1103', '9750', '1880', '5130', '2970', '2685', '75570', '28000', '596', '290', '426', '304', '2299,8', '8263', '250', '1386', '30303', '1978', '2861', '1535', '1259', '8522,2', '2460', '2845', '4186,59', '2031', '4647', '3107', '1581', '5600', '2650', '4850,8', '60488', '1596', '326', '2239', '921', '46832', '712', '546', '510,9', '7845', '3829,6', '4082', '16250', '5580', '2940', '9445,95', '2240', '560', '9425', '9838', '2415', '247,2', '16000', '2805', '3440', '1497', '1338', '4098', '9047', '8688,09', '1200', '1789', '5890', '8', '3619', '2347', '1545', '8349', '6513', '5718', '9661,66', '21500', '1830', '3822', '299,92', '19556', '1957', '3599', '10550', '40758', '2480', '1936', '2455', '774', '1099', '1556,8', '2499,8', '1050,33', '5050', '1170', '1004,2', '2047', '2560', '1810', '1999,8', '2356', '757', '4320', '1165', '7480', '340', '4739', '2855', '1975', '1883', '3334', '5143', '1226', '1290,6', '11762,27', '1364', '8400', '10205,5', '1866', '26000', '4018', '2522', '1671', '1572', '29080,92', '2010', '4340', '3180', '7300', '296,8', '6228', '3265', '999,2', '2698,89', '818', '1408', '13772,82', '160', '4000,92', '1900', '1767', '22000', '4953', '513', '395', '13500', '7170', '2192', '2060', '8700', '2469', '5611', '8164', '1002', '1322,9', '1615', '4310', '2865', '272', '5002', '1279', '18800', '18589', '1625,2', '1280', '1950', '7670', '10', '1302', '1026', '1940', '1666', '53530', '1866,6', '594', '2442', '1172', '2700,75', '3290', '2166', '16481', '1329', '628', '7230', '1235', '10425', '19000', '363', '3449', '1368', '720', '3337', '687,7', '9108', '7794,92', '1438', '1704', '950,92', '1099,9', '3216', '13526', '1855', '6075', '1433', '1914', '18000', '777', '1171', '1969', '2751', '9568', '3137,9', '2045', '27350', '3679', '3902', '3183', '4830', '853', '7631', '4040', '1720', '3658', '3270', '1132', '551', '62250', '1515,7', '875', '15000,4', '1112', '404,1', '2287', '3516', '393', '811', '1800,2', '3280', '3779', '2852', '337,1', '3037', '3228', '5705', '12300', '808', '3400', '7259', '3650', '598', '7200', '2369', '21696', '1251', '542,2', '2890', '1110', '642', '1679', '2937', '3245', '14753', '8200', '1000,95', '2997', '1700', '17669', '4235', '1093,4', '5499', '13650', '10706', '359', '279', '4989,92', '815', '3060', '2046', '998', '197', '6923', '2600', '1510', '631', '612', '2206', '1842', '640', '9793', '2517', '2990', '2578,8', '1339,9', '1243', '1912', '2605', '39804', '1071', '1207', '516', '2380', '1899,8', '2923', '870', '11090', '1395', '9964', '1102', '3763', '14220', '1150', '727', '1747', '5240', '3411', '5450', '6050', '1493', '1574,1', '1828', '3297', '698', '1570', '337', '1370', '230', '10098', '1058', '25089', '1818', '1420', '2651', '644', '1823', '2430', '5036', '1063', '3023', '481,8', '4490', '608', '9991', '4498,91', '2696', '1884', '629', '39400', '9570', '1120', '985', '3800', '2333', '48052,1', '4870', '5226,9', '2800', '1474,3', '3092', '3666,2', '11000', '16100', '691', '3000,92', '70940', '1231', '3790', '4950', '5044', '1515', '7820', '1598', '480', '3172', '2634', '464', '971', '5760', '1802', '11080', '3045', '1106', '3374', '9096', '854', '1108', '3620', '1281', '500', '1956', '4752', '2849', '2515', '8342,38', '6933', '970', '793', '1559', '3298,92', '1305', '2750', '24800', '820', '1821', '485,8', '14500', '9955', '7270', '1045', '2235', '3498', '2840', '838', '7541', '1854', '1143', '1003', '2858', '6541', '1674', '2024', '3257,04', '1158', '5305', '16515', '800', '1937', '24500,03', '36330', '943', '688', '12600', '1115', '6196', '2580', '5260', '1786', '6115', '3470', '1340,92', '1573', '2028', '5400', '13580', '2712', '2660', '2910', '3780', '3114', '1731', '669,3', '1047,82', '2000,9', '1000,92', '2142', '930,91', '299', '567,3', '2500,95', '384', '25405', '10007'}\n",
      "\n",
      "\n",
      "==========\n",
      "LOAN_AVG_DLQ_AMT\n",
      "{'890', '1310', '2470', '650', '805,86', '3960', '2900', '991,19', '959,955', '2260', '724,38', '1639,24571428571', '740', '3070', '1439,94', '2590,15', '4070', '1680', '6500', '3860,18', '1605,95', '770', '1477,37', '5545,0225', '2059,46', '11310', '2699,88', '1589,92333333333', '1540', '1841,9', '3782,39', '722,59', '1529,06', '860,505', '1740', '4160', '600,93', '1030', '4055,03', '553', '1348,68', '6660', '2820', '3600', '2142,2', '3590', '1259,71333333333', '1149,495', '1139,49', '1205,4725', '437,26', '1970', '1986,88', '1275,785', '1649,37', '837,48', '0,71', '970,155', '1930', '1300,386', '3283,1', '989,15', '4729,07', '598,5', '4300', '3250', '1241,32428571429', '324,16', '2130', '960', '1402,92', '1560', '330', '2467,33', '3777,93333333333', '1179,394', '6650', '87,39', '1033,905', '1314,58666666667', '1258,585', '683,9975', '766,26', '5110', '2503,19', '2005,15', '569,121428571429', '110,91', '2410', '1369,755', '355,04', '1120,93', '1480', '1820', '2320', '2330', '3050', '3037,58', '1020', '2707,25', '3914,24', '4115,33333333333', '1077,03', '1140', '1894,04', '4350', '2154,02', '216,59', '830,53', '630,49', '4450', '3030', '567,16', '1593,76', '3200', '1335,47', '2040', '2280', '4250', '7780', '1230,63', '3635,77', '855,675', '2419,9', '1733,88', '2700', '730', '13920', '2961', '1160,96', '1749,69', '2259,35', '789,23', '2680', '2910,25', '2370,01', '1312,44', '3490', '1539,13', '1147,5', '310', '1340', '3900', '5370', '517,51', '2157,32', '2186,585', '1745,7', '1620', '502,1', '433,306666666667', '849,19', '2568,45', '49,35', '2263,2', '2020', '2925', '3160', '3428,56', '1324,41285714286', '988,85', '1889,43', '1399,25', '3110', '3959', '2018,255', '682', '2540', '2510,2', '4770', '1470', '2550', '605,496', '1959,99', '879,74', '1879,28', '3120', '682,56', '1850', '4190', '975', '2549,52', '1910', '750', '1844,885', '872,065', '5030', '990,85', '1441,57', '2477,64', '2464,55', '3170', '1144,98', '1610', '198,88', '668,53', '1155,125', '543,17', '1270', '2361,22', '904,08', '2440', '2409,01', '5170', '3760', '3769,3625', '752,923076923077', '1266,34', '3810', '2044,155', '684,89', '986,606666666667', '1010', '2287,02', '4260', '776,3', '880,2', '1980', '1880,59', '499,69', '954,65', '289,02', '648,68', '2702,4', '2647,9', '740,575', '62,46', '1555,00090909091', '2760', '1387,15', '1050', '429,11', '446,31', '2400', '51,8', '1468,38', '1405,53', '2640', '1634,81', '4050', '920', '2770', '2080', '1717,47333333333', '3539,82', '3500', '1398,58', '762,93', '2190', '1390', '2701,26', '2031,34333333333', '699,78', '4001,34', '550', '1412,55', '1130', '3410', '3330', '1292,59', '532,24', '670,085', '1010,55', '269,51', '2441,465', '1283,89', '567,51', '1260,55', '981,71', '859,84', '6070', '2585', '980,42', '1740,19', '1780', '818,74', '665,57', '4660', '6200', '3310', '1409,965', '2009', '4390', '1386,115', '1601,63', '658,42', '1433,4', '578,06', '2066,905', '2870', '2210', '776,59', '2365,47', '115,65', '2518,18', '1760', '855', '2810', '823,54', '1260', '862,43', '1374,28', '2710', '240', '3303,2', '2701,5', '3018,275', '647,42', '2310', '1095,89', '656,705', '1440', '660', '651,16', '28012,2', '726,57', '2796,66', '2112,17', '0', '3530', '2520', '619,4', '816,83', '2960', '1000', '869,26', '756,1', '1552,325', '4884,95', '1240', '780', '2742,25', '510,136666666667', '755,063333333333', '2406,8', '892,95', '3127,19', '533', '1608,255', '451,495', '1418,86', '1650', '980', '2340,06777777778', '430', '2492,54', '1135', '370', '554,36', '1065,62', '1761,03', '782,21', '1851,55', '315,796666666667', '710', '1304,0625', '2220', '2630', '4140', '5428,62', '1724,15333333333', '2315,64857142857', '540', '1097,86', '5160', '7010', '2235,225', '1670,18', '310,126', '1208,09', '2350', '1010,27', '2830', '1299,55', '3190', '2490', '5320', '3315', '3637,43', '588,13', '4827,666', '2372,77', '3850', '600', '862,5', '552,57', '673,89', '3910', '856,64', '1107,5', '3630', '2258,3', '4200', '610,986666666667', '1127,76', '100', '929,51', '1498,26', '1360', '2590', '1141,06', '2676,2125', '3940', '1040,78666666667', '570', '596,29', '1817,76', '1459,54666666667', '438,19', '1100', '5830', '896,31', '3520', '1781,225', '2779,4', '2051,5', '5650', '948,58', '1600', '2160', '2390', '768,97', '2880', '4400', '3279,705', '3024', '2158,72', '4600', '1210', '604,353333333333', '2930', '2980', '790', '1670', '2185', '2538', '1272,72', '979,63', '1221,92', '1450', '1920,9575', '5269,78', '894,29', '63,31', '5140', '687,11', '2239,37', '3040', '478,13', '990', '367', '1102,7', '2013,19', '2200', '758,95', '1750', '270', '549,88', '1880', '3240', '1145,85', '1290', '2970', '605,32', '38,32', '1582,435', '1581,82', '1427,295', '3589,09', '1478,49', '5872,64', '802,36', '3480', '678,2', '2569,05', '5550', '1713,74', '2359,898', '1833,77', '1344,33', '2119,77', '778,32', '875,2', '887,79', '1626', '1237,24', '1066,605', '94,89', '763,185', '836,6', '1539,2', '1792,71', '760', '327,98', '509,52', '9060', '4376,4', '3119,99', '1892,238', '677,474', '4810', '444', '2650', '860', '4690', '2101,256', '560,86', '1269,82', '1985,3', '1563,45', '1402,43', '2230', '400', '1329,54', '1930,595', '2090', '1932,5', '2450', '4530', '1053', '3150', '1060', '674,263333333333', '604,43', '3106,29', '134,78', '908,78', '3651,445', '2940', '1675,75', '2240', '543,33', '560', '2151,50333333333', '1264,23', '3172,83', '2070,52', '965,1', '1113,335', '3870,25', '1538,69', '704,93', '3440', '1424,9175', '930', '1751,37', '3089,155', '2379,46', '767,7', '2250', '1597,92', '2547,85', '769,915', '918,255', '1731,06', '2127,1', '1373,99333333333', '3890', '673,6825', '3762,5', '1200', '6130', '2466,8625', '4710', '7100', '574,21', '2128,74', '7340', '1520', '957,4', '1180', '1313,33333333333', '1942,72', '1830', '836,79', '2670', '1309,89', '3971,6', '1330', '1321,68833333333', '2150', '758,82', '1867,66166666667', '1359,6', '2480', '3540', '2343,41', '5870', '3300', '4000', '1300', '1666,28', '3260', '702,565', '1319,56', '1413,765', '3000', '5526,72666666667', '1400', '3020', '1296,74', '1170', '3768,7', '957,46', '2560', '1810', '1091,2', '709,96', '1288,63', '4472,91333333333', '940', '4320', '1004,225', '1931,44', '3010', '917,57', '4650', '918,55', '4760', '1182,23', '3501,45', '812,693333333333', '2850', '4020', '3750', '2524,28', '1070,05', '6310', '1386,96', '1154,34', '1134,58', '1778,635', '530', '4940', '1640', '4630', '1614,36', '1066,005', '690', '1002,60333333333', '4120', '1492,404', '558,06625', '4370', '2262,12', '360', '777,84', '630', '2989,98', '603,55', '1490', '3660', '2010', '1259,1', '2656,68', '2139,63375', '2090,53', '3180', '1029,75', '3716,35', '2170', '1149,395', '772,73', '3970', '879', '1957,21', '2270', '5040', '2916,18', '1222,06', '1900', '1804,9', '2105', '1164,99666666667', '370,77', '1190', '440', '2060', '1080', '9280', '1410,53333333333', '5510', '796,59', '1085,5', '3659,0625', '750,175', '1059,47', '1352,85714285714', '1530', '1411,835', '1550', '1990', '1093,75', '2679,82', '3840', '1615', '4310', '177,34', '1094', '2030', '2510', '1280', '714', '1950', '7670', '2509,38', '2570', '1683,49', '1056,95', '1940', '1258,95', '2530', '3360', '1320', '1429,99', '821,93', '4030', '1088,05', '2732,2', '1810,155', '3509,22', '720', '1108,574', '1410', '1677,48', '1516,872', '840,7', '1095,61', '663,05', '1296,4', '1116,49', '840', '865,05', '2110', '3086,66666666667', '580', '1831,51333333333', '5603,82', '1878,86', '1276,66666666667', '1286,73', '951', '5850', '830', '1710', '2120', '976,68', '5560', '1883,04', '5394,29', '1215', '367,35', '3702,8', '791,56', '5397,15', '3202,2', '1509,44', '1119,27', '433,3425', '966,07', '1720', '1138,2', '1663,27', '1790', '806,19', '810', '3420', '59,68', '763,3', '6260', '1007,8', '1830,2', '1230', '2276,54666666667', '1007,36', '4220', '518,9', '1496,3275', '5698,46', '849,91', '2180', '2237,245', '1793,66', '3400', '2720', '2349,51', '859,92', '2232,28333333333', '2740', '2240,34', '1549,18', '4210', '1870', '4620', '2265', '5500', '3820', '2957,71', '1259,43', '2094,3', '2890', '820,124', '1350', '5780', '2084,32', '2755,21', '3610', '3237,94', '1110', '1742,41', '490', '1144,03', '1090', '702,23', '3433,42', '5076,65', '1109,855', '875,09', '2462,1', '767,566', '1700', '1199,27', '1535,89', '1789,04', '2500', '1155,02142857143', '913,4975', '1692,49', '1179,86', '830,7', '3322,7775', '2476,77', '809,42', '1800', '535,53', '1317,06', '1875,70333333333', '136,76', '700', '3102,49333333333', '2290', '1283,93', '5410', '1920', '3060', '3080', '3570', '1033', '1922,69', '2600', '1510', '2370', '1636,04', '4920', '2368,84', '631', '610', '1716,52', '8020', '1686,92', '640', '1966,99', '1288,898', '2990', '812,11', '1590', '910', '1848,05', '1288,7', '2178', '3964,85', '825,10875', '1860', '846,74', '2201,11', '1599,9', '560,36', '1690', '1215,45777777778', '651,625', '1768,07', '2326,81', '1003,255', '2794,22333333333', '779,415', '2272,5', '2100', '2380', '870', '2082,47857142857', '2860', '6689,82', '4565', '896,1', '2070', '2386,505', '3990', '669,12', '1150', '1798,49', '761,866666666667', '1489,13', '2273,72', '366,58', '798,53', '892,18', '850', '1939,61', '845,55', '1140,2', '425,97', '2751,25', '4240', '2269,735', '510', '1439,815', '578,3', '1570', '1840', '3230', '791,98', '1258,49', '2300', '1459,99', '1193,9675', '857,956666666667', '455,32', '2083', '3626,91', '2202,69', '1220', '1160', '1370', '909,424285714286', '2050', '1420', '1890', '4550', '1899,7', '2088,86', '2430', '1258,69', '1077,605', '1671,7', '2269,565', '821,45', '957,63', '804,32', '2573,8', '2610', '3691,2675', '735', '3209,5', '950', '1391,47', '1380', '1108,96333333333', '4164,34', '5048,19', '1175,57', '3509,805', '1120', '620,75', '2097,97333333333', '1570,46', '4158,85', '901,64', '1426,72', '1500', '2800', '1909,16', '2429,09', '1113,74', '582,386666666667', '2261,19', '5430', '18307,16', '1314,11', '0,04', '300', '1776,96666666667', '3510', '2554,005', '1508,79', '619,73', '1460', '526,563333333333', '613,21', '849,085', '2690,33333333333', '846,55', '1090,8', '2425', '613,12', '1098,8', '989,39', '6133,41', '1388,83769230769', '1630', '1580', '480', '4445,6', '728,49', '1626,75', '2002,45', '1072,34', '727,63', '386,666666666667', '2497,09', '568,7', '497,62', '1250', '6080', '1010,43', '586,646666666667', '4700', '5760', '670', '339,83', '1176,82', '516,18', '880', '1070,52', '3620', '500', '559,94', '3770', '1247,92', '1088,48', '6490', '3100', '966,953333333333', '2340', '680', '1697,22', '380', '3880', '970', '2598,9', '588,9', '911,793333333333', '957,59', '2750', '2629,87', '1259,39', '2000', '1829,73', '820', '2950', '1411,31', '2790', '882,01', '1371,86', '1002,22', '2979,31', '620', '224,59', '1639,99', '782,705', '749,82', '2293,65', '1196,43', '3506,07', '1052,63', '1015', '3390', '6041,86', '1200,99', '2163,94', '1960', '4508,2', '642,31', '14990', '407,8', '457,71', '1439,9', '2840', '1068,47', '900', '2441,4', '1006,59', '5075,99', '3670', '863,68', '599,19', '753', '1171,686', '14870', '800', '1730', '3072,475', '2816,25', '1069,6', '1594,914', '1679,2', '1770', '1953,6', '3140', '1949,8', '2739,76', '2858,6', '946,49', '1197,38333333333', '1070', '1152,15', '1305,97', '1706,3', '1325,63', '2247,51', '824,581428571429', '2580', '827,57', '984,79', '3470', '481,506', '1684,04', '1512', '472,11', '2782,89', '769,43', '2660', '4680', '2959', '2910', '3780', '673,02', '4640', '2140', '1430', '2360', '2920', '1591,94', '1040', '3201,95', '3460', '6390', '4290', '450', '1093,22', '2184,66', '1845,5'}\n",
      "\n",
      "\n",
      "==========\n",
      "LOAN_MAX_DLQ_AMT\n",
      "{'890', '1310', '2470', '650', '3960', '2900', '991,19', '2260', '724,38', '1154,9', '740', '3070', '1439,94', '2590,15', '4070', '1680', '6500', '3860,18', '1300,16', '770', '1477,37', '2059,46', '11310', '2699,88', '1540', '1841,9', '3782,39', '722,59', '2979,35', '1529,06', '1740', '4160', '600,93', '1030', '4055,03', '553', '1046,01', '1348,68', '6660', '2820', '3018,62', '3600', '2142,2', '3590', '1139,49', '437,26', '1970', '1986,88', '837,48', '1649,37', '0,71', '1930', '3283,1', '989,15', '4729,07', '598,5', '4300', '3250', '324,16', '2130', '960', '1560', '330', '2467,33', '6650', '87,39', '2858,62', '910,63', '766,26', '5110', '2503,19', '2005,15', '4960', '110,91', '660,86', '2410', '355,04', '1120,93', '1480', '1820', '2320', '2330', '1519,64', '3050', '1020', '2707,25', '3914,24', '961,94', '1650,53', '1077,03', '1140', '1894,04', '4350', '590', '216,59', '2154,02', '830,53', '630,49', '4450', '3030', '609,52', '567,16', '1593,76', '724,93', '3200', '1335,47', '2289,89', '2040', '2280', '4250', '826,77', '1230,63', '3635,77', '7890', '481,51', '2419,9', '1733,88', '2700', '730', '13920', '1160,96', '1749,69', '789,23', '2680', '1312,44', '3490', '1539,13', '310', '1340', '3900', '5370', '517,51', '2157,32', '1745,7', '1620', '736,3', '620,18', '502,1', '856,3', '849,19', '2247,51', '49,35', '2263,2', '2020', '3428,56', '3160', '988,85', '1889,43', '3110', '2568,45', '3959', '682', '2510,2', '2540', '2550', '4770', '1470', '1959,99', '879,74', '5980,18', '3120', '1840,14', '1850', '4190', '975', '2549,52', '1910', '750', '5030', '990,85', '2477,64', '3170', '1144,98', '1610', '668,53', '543,17', '1270', '2361,22', '904,08', '2440', '2409,01', '5170', '3760', '1266,34', '3810', '684,89', '2287,02', '1010', '1012,9', '4260', '776,3', '880,2', '1980', '1880,59', '499,69', '954,65', '289,02', '648,68', '2702,4', '2647,9', '62,46', '2760', '3780,1', '1387,15', '1050', '840,4', '429,11', '446,31', '2400', '51,8', '1468,38', '1405,53', '2640', '1729,66', '920', '2770', '2080', '4050', '2375,59', '3539,82', '3500', '1398,58', '762,93', '2190', '1390', '2701,26', '699,78', '4001,34', '550', '490,88', '1130', '2620', '3410', '3330', '1292,59', '1249,61', '1010,55', '269,51', '567,51', '1260,55', '981,71', '6070', '980,42', '1740,19', '1780', '818,74', '665,57', '4660', '6200', '3310', '1601,63', '2009', '4390', '658,42', '1433,4', '578,06', '2870', '2210', '1489,45', '776,59', '2365,47', '115,65', '997,66', '1819,09', '2518,18', '1760', '2810', '823,54', '1260', '862,43', '1374,28', '2710', '1090,01', '240', '3303,2', '647,42', '2310', '1095,89', '1440', '660', '651,16', '28012,2', '726,57', '2796,66', '2112,17', '0', '1365', '3530', '2520', '816,83', '3700', '2960', '1000', '869,26', '756,1', '4884,95', '1240', '780', '2742,25', '2406,8', '3089,5', '892,95', '3127,19', '533', '1418,86', '980', '1650', '430', '2492,54', '370', '1387,3', '554,36', '1065,62', '1761,03', '1851,55', '710', '2220', '2630', '4140', '5428,62', '540', '1097,86', '5160', '7010', '1670,18', '1208,09', '2350', '1010,27', '2830', '1299,55', '3190', '2490', '5320', '3637,43', '588,13', '2064,08', '2220,72', '2372,77', '3850', '600', '862,5', '552,57', '673,89', '3910', '2642,83', '856,64', '3630', '2258,3', '4200', '1127,76', '100', '1498,26', '1360', '2590', '1141,06', '604,76', '3940', '570', '596,29', '1817,76', '438,19', '1100', '5830', '896,31', '3520', '2779,4', '2051,5', '5650', '948,58', '1600', '2160', '2390', '589,45', '768,97', '2880', '4400', '2158,72', '4600', '1210', '2930', '2980', '790', '1670', '1272,72', '979,63', '1221,92', '1450', '687,11', '5269,78', '894,29', '63,31', '3285,74', '5140', '2239,37', '3040', '478,13', '990', '367', '1102,7', '1672,88', '954,34', '2013,19', '2200', '758,95', '1750', '270', '549,88', '1880', '3240', '1145,85', '1290', '2970', '605,32', '38,32', '1066', '1581,82', '3589,09', '937,79', '1478,49', '5872,64', '802,36', '3480', '678,2', '2569,05', '5550', '1833,77', '1344,33', '2119,77', '778,32', '875,2', '887,79', '94,89', '836,6', '1539,2', '1792,71', '760', '327,98', '9060', '1302,38', '444', '2650', '860', '4690', '1985,3', '1563,45', '1402,43', '2230', '1105,07', '400', '1408,32', '2090', '2450', '4530', '1053', '3150', '1060', '604,43', '3106,29', '134,78', '908,78', '5580', '2240', '2940', '605,59', '543,33', '560', '3172,83', '965,1', '5470', '1538,69', '3870,25', '704,93', '1450,22', '3440', '2379,46', '930', '1751,37', '2547,85', '2250', '767,7', '1597,92', '1731,06', '2127,1', '489,13', '3890', '3762,5', '1200', '6130', '1783,55', '4710', '7100', '574,21', '1819,26', '7340', '1520', '957,4', '1180', '1942,72', '1830', '836,79', '2670', '1309,89', '3971,6', '918,28', '1330', '2150', '1359,6', '5870', '2480', '3540', '2343,41', '3300', '937,6', '4000', '1300', '1666,28', '3260', '1319,56', '3000', '1400', '3020', '1296,74', '1170', '3768,7', '2398,8', '2560', '1810', '4880', '1288,63', '940', '4320', '1931,44', '3010', '917,57', '4650', '918,55', '4760', '1837,31', '3501,45', '2850', '4020', '5340', '1427,4', '3750', '2524,28', '1070,05', '6310', '1154,34', '1134,58', '530', '4940', '1640', '1614,36', '690', '4120', '1860,72', '603,55', '630', '4370', '2262,12', '360', '777,84', '2989,98', '1490', '3660', '2010', '1259,1', '2656,68', '2782,93', '2090,53', '3180', '1029,75', '3716,35', '2170', '772,73', '3970', '879', '1957,21', '2270', '5040', '2916,18', '1086,57', '1222,06', '1900', '473,16', '1804,9', '370,77', '1190', '2618,78', '440', '2060', '1080', '9280', '796,59', '1085,5', '2044,32', '1059,47', '1530', '1550', '1990', '1093,75', '2679,82', '3840', '1615', '4310', '177,34', '1094', '2030', '2510', '1280', '1110,39', '714', '1950', '7670', '2509,38', '2570', '1683,49', '1056,95', '1940', '2530', '3360', '1320', '1930,47', '1429,99', '821,93', '4030', '1088,05', '2732,2', '3509,22', '720', '1410', '1677,48', '1095,61', '663,05', '1296,4', '1116,49', '840', '2110', '580', '5603,82', '5850', '830', '1710', '2120', '976,68', '5560', '1883,04', '5394,29', '2589,2', '367,35', '3702,8', '1351,06', '791,56', '5397,15', '3202,2', '1828,89', '4830', '1509,44', '943,56', '1119,27', '966,07', '1720', '1138,2', '1663,27', '1790', '806,19', '810', '3420', '59,68', '2902,89', '6260', '1007,8', '1230', '4220', '518,9', '5698,46', '849,91', '790,77', '2180', '1793,66', '3400', '2720', '2349,51', '859,92', '2740', '1549,18', '4210', '1870', '4620', '2265', '5500', '3820', '2957,71', '1259,43', '2094,3', '2890', '1350', '5780', '2084,32', '2755,21', '3610', '3237,94', '1110', '1742,41', '490', '1144,03', '1090', '702,23', '3433,42', '5076,65', '875,09', '2462,1', '1700', '1199,27', '1789,04', '2500', '830,7', '1692,49', '1179,86', '809,42', '1800', '535,53', '1317,06', '136,76', '700', '3060', '2290', '1283,93', '5410', '1920', '3080', '3570', '1033', '2600', '1510', '2370', '1636,04', '4920', '2368,84', '631', '849,07', '610', '1716,52', '8020', '1686,92', '783', '640', '1966,99', '2990', '1056,64', '331', '812,11', '1590', '910', '1848,05', '1288,7', '2178', '3964,85', '1860', '846,74', '2201,11', '1599,9', '560,36', '883,33', '1690', '586,5', '1768,07', '2102,75', '4446,3', '2380', '2100', '870', '919,88', '2860', '6689,82', '4565', '896,1', '2070', '3990', '669,12', '1150', '1798,49', '1489,13', '366,58', '3220', '798,53', '892,18', '850', '1939,61', '1870,69', '1140,2', '2751,25', '4240', '3920', '2969,75', '510', '578,3', '1570', '1840', '3230', '791,98', '1258,49', '2300', '1459,99', '2083', '3626,91', '2202,69', '1220', '1160', '1370', '2050', '1420', '1890', '4550', '2088,86', '2430', '1671,7', '804,32', '957,63', '2573,8', '2610', '18310', '4490', '1324,5', '950', '1386,14', '1391,47', '1380', '4164,34', '5048,19', '1175,57', '620,75', '1120', '4158,85', '901,64', '1426,72', '1500', '2800', '1909,16', '2429,09', '1113,74', '1901,3', '2261,19', '5430', '0,04', '797,16', '300', '3510', '828,51', '1508,79', '470', '619,73', '1460', '776,6', '613,21', '1185,5', '1387,47', '846,55', '1090,8', '2425', '1098,8', '989,39', '6133,41', '1630', '1580', '480', '728,49', '1626,75', '2002,45', '1479,51', '2497,09', '568,7', '497,62', '1250', '6080', '1395,7', '4700', '5760', '670', '339,83', '1176,82', '516,18', '880', '1070,52', '3620', '2497', '500', '559,94', '3770', '1247,92', '6490', '3100', '3560', '581,67', '2340', '680', '1697,22', '2281,1', '3880', '970', '3450', '2598,9', '957,59', '2629,87', '2750', '1259,39', '2000', '755,76', '820', '572,22', '1411,31', '2790', '2950', '1371,86', '1002,22', '749,82', '620', '224,59', '1639,99', '1015', '3390', '3357,52', '3506,07', '2293,65', '1196,43', '1052,63', '6041,86', '1200,99', '2163,94', '1960', '4508,2', '642,31', '918,83', '14990', '407,8', '457,71', '1452', '2840', '1439,9', '1068,47', '900', '3111,86', '2441,4', '1006,59', '5075,99', '3670', '863,68', '599,19', '14870', '800', '1730', '2816,25', '1069,6', '1679,2', '1770', '1953,6', '3140', '1949,8', '2064,03', '2739,76', '2858,6', '946,49', '1070', '1706,3', '1325,63', '1370,25', '2580', '827,57', '3470', '472,11', '769,43', '2660', '4680', '2959', '2910', '3780', '673,02', '4640', '2140', '1430', '2058,71', '2360', '2920', '1591,94', '1040', '3201,95', '3460', '6390', '4290', '450', '1093,22', '2184,66', '1845,5'}\n",
      "\n",
      "\n",
      "==========\n",
      "sample\n",
      "{'train'}\n",
      "\n",
      "\n"
     ]
    }
   ],
   "source": [
    "for i in df_train.columns: # перебираем все столбцы\n",
    "    if str(df_train[i].dtype) == 'object': # если тип столбца - object\n",
    "        print('='*10)\n",
    "        print(i) # выводим название столбца\n",
    "        print(set(df_train[i])) # выводим все его значения (но делаем set - чтоб значения не повторялись)\n",
    "        print('\\n') # выводим пустую строку"
   ]
  },
  {
   "cell_type": "markdown",
   "metadata": {
    "collapsed": true
   },
   "source": [
    "Mожно заметить что некоторые переменные, которые обозначены как строки (например PERSONAL_INCOME) на самом деле числа, но по какой-то причине были распознаны как строки\n",
    "\n",
    "Причина же что использовалась запятая для разделения не целой части числа.."
   ]
  },
  {
   "cell_type": "markdown",
   "metadata": {},
   "source": [
    "Перекодировать их можно например так:"
   ]
  },
  {
   "cell_type": "code",
   "execution_count": 347,
   "metadata": {
    "collapsed": false
   },
   "outputs": [],
   "source": [
    "# df['PERSONAL_INCOME'].map(lambda x: x.replace(',', '.')).astype('float')"
   ]
  },
  {
   "cell_type": "markdown",
   "metadata": {},
   "source": [
    "Такой эффект наблюдается в столбцах `PERSONAL_INCOME`, `CREDIT`, `FST_PAYMENT`, `LOAN_AVG_DLQ_AMT`, `LOAN_MAX_DLQ_AMT`"
   ]
  },
  {
   "cell_type": "markdown",
   "metadata": {},
   "source": [
    "### Теперь ваше небольшое исследование"
   ]
  },
  {
   "cell_type": "markdown",
   "metadata": {
    "collapsed": true
   },
   "source": [
    "#### Задание 1. Есть ли пропуски в данных? Что с ними сделать?\n",
    "\n",
    "(единственного верного ответа нет - аргументируйте)"
   ]
  },
  {
   "cell_type": "code",
   "execution_count": 348,
   "metadata": {
    "collapsed": false
   },
   "outputs": [
    {
     "name": "stdout",
     "output_type": "stream",
     "text": [
      "GEN_INDUSTRY: 27420 object\n",
      "GEN_TITLE: 27420 object\n",
      "ORG_TP_STATE: 27420 object\n",
      "ORG_TP_FCAPITAL: 27425 object\n",
      "JOB_DIR: 27420 object\n",
      "TP_PROVINCE: 29543 object\n",
      "REGION_NM: 30131 object\n",
      "WORK_TIME: 27416 float64\n",
      "PREVIOUS_CARD_NUM_UTILIZED: 600 float64\n"
     ]
    }
   ],
   "source": [
    "# Список столбцов с пропусками.\n",
    "for i in df.columns: # перебираем все столбцы\n",
    "    if df[i].count() < df.shape[0]:\n",
    "        print(\"%s: %s %s\" % (i, df[i].count(), df[i].dtype))"
   ]
  },
  {
   "cell_type": "code",
   "execution_count": 349,
   "metadata": {
    "collapsed": false
   },
   "outputs": [
    {
     "name": "stdout",
     "output_type": "stream",
     "text": [
      "Количество наблюдений с пустым WORK_TIME: 2717\n",
      "Количество наблюдений с пустым WORK_TIME и SOCSTATUS_PENS_FL==1: 2716\n",
      "\n",
      "Наблюдение с пустым WORK_TIME и SOCSTATUS_PENS_FL==0:\n",
      "\n",
      "        WORK_TIME  SOCSTATUS_PENS_FL\n",
      "22873        NaN                  0\n"
     ]
    }
   ],
   "source": [
    "print('Количество наблюдений с пустым WORK_TIME:', df[df.WORK_TIME.isnull()].shape[0])\n",
    "print('Количество наблюдений с пустым WORK_TIME и SOCSTATUS_PENS_FL==1:', df[df.WORK_TIME.isnull() & (df.SOCSTATUS_PENS_FL==1)].shape[0])\n",
    "print('\\nНаблюдение с пустым WORK_TIME и SOCSTATUS_PENS_FL==0:\\n\\n', \n",
    "    df[\n",
    "        df.WORK_TIME.isnull() & (df.SOCSTATUS_PENS_FL==0)\n",
    "    ][['WORK_TIME', 'SOCSTATUS_PENS_FL']].head())"
   ]
  },
  {
   "cell_type": "code",
   "execution_count": 350,
   "metadata": {
    "collapsed": false
   },
   "outputs": [
    {
     "name": "stdout",
     "output_type": "stream",
     "text": [
      "Количество наблюдений с пустым GEN_INDUSTRY: 2713\n",
      "Количество наблюдений с пустым GEN_TITLE: 2713\n",
      "Количество наблюдений с пустым JOB_DIR: 2713\n",
      "Количество наблюдений с пустыми GEN_INDUSTRY, GEN_TITLE, JOB_DIR и SOCSTATUS_WORK_FL==0: 2712\n",
      "\n",
      "Наблюдение с пустыми GEN_INDUSTRY, GEN_TITLE, JOB_DIR и SOCSTATUS_WORK_FL==1:\n",
      "\n",
      "       GEN_INDUSTRY GEN_TITLE JOB_DIR  SOCSTATUS_WORK_FL\n",
      "22873          NaN       NaN     NaN                  1\n"
     ]
    }
   ],
   "source": [
    "print('Количество наблюдений с пустым GEN_INDUSTRY:', df[df.GEN_INDUSTRY.isnull()].shape[0])\n",
    "print('Количество наблюдений с пустым GEN_TITLE:', df[df.GEN_TITLE.isnull()].shape[0])\n",
    "print('Количество наблюдений с пустым JOB_DIR:', df[df.JOB_DIR.isnull()].shape[0])\n",
    "print('Количество наблюдений с пустыми GEN_INDUSTRY, GEN_TITLE, JOB_DIR и SOCSTATUS_WORK_FL==0:', \n",
    "      df[\n",
    "        df.GEN_INDUSTRY.isnull() & \n",
    "        df.GEN_TITLE.isnull() & \n",
    "        df.JOB_DIR.isnull() &\n",
    "        (df.SOCSTATUS_WORK_FL==0)\n",
    "    ].shape[0]\n",
    ")\n",
    "\n",
    "print('\\nНаблюдение с пустыми GEN_INDUSTRY, GEN_TITLE, JOB_DIR и SOCSTATUS_WORK_FL==1:\\n\\n', \n",
    "      df[\n",
    "        df.GEN_INDUSTRY.isnull() & \n",
    "        df.GEN_TITLE.isnull() & \n",
    "        df.JOB_DIR.isnull() &\n",
    "        (df.SOCSTATUS_WORK_FL==1)\n",
    "    ][['GEN_INDUSTRY', 'GEN_TITLE', 'JOB_DIR', 'SOCSTATUS_WORK_FL']].head())\n"
   ]
  },
  {
   "cell_type": "markdown",
   "metadata": {},
   "source": [
    "### Пропуски \n",
    "\n",
    "**WORK_TIME**: заполним нулями, судя по всему, все наблюдения, в которых не заполнен этот признак, являются пенсионерами, кроме **id==22873**\n",
    "\n",
    "**GEN_INDUSTRY, GEN_TITLE и JOB_DIR**: заполним строкой \"Безработный\", кроме **id==22873**\n",
    "\n",
    "Саму строку с **id==22873** удалим\n",
    "\n",
    "**PREVIOUS_CARD_NUM_UTILIZED**: заполним нулями, так как в описании указано, что ***если пусто - 0***\n",
    "\n",
    "Остальные пропуски (**ORG_TP_STATE, ORG_TP_FCAPITAL, TP_PROVINCE, REGION_NM**) заполним строкой **'missing'**"
   ]
  },
  {
   "cell_type": "markdown",
   "metadata": {
    "collapsed": true
   },
   "source": [
    "#### Задание 2. Есть ли категориальные признаки? Что с ними делать?"
   ]
  },
  {
   "cell_type": "markdown",
   "metadata": {
    "collapsed": true
   },
   "source": [
    "### Категориальные признаки\n",
    "Все строковые признаки являются категориальными, используем для их преобразования ***get_dummies()***"
   ]
  },
  {
   "cell_type": "markdown",
   "metadata": {},
   "source": [
    "#### Задание 3. Фунция предобработки"
   ]
  },
  {
   "cell_type": "markdown",
   "metadata": {},
   "source": [
    "Напишите функцию, которая бы\n",
    "\n",
    "* Удаляло идентификатор `AGREEMENT_RK`\n",
    "* Избавлялась от проблем с '.' и ',' в стобцах PERSONAL_INCOME, CREDIT, FST_PAYMENT, LOAN_AVG_DLQ_AMT, LOAN_MAX_DLQ_AMT\n",
    "* Что-то делала с пропусками\n",
    "* Кодировала категориальные признаки\n",
    "\n",
    "В результате, ваш датафрейм должен содержать только числа и не содержать пропусков!"
   ]
  },
  {
   "cell_type": "code",
   "execution_count": 351,
   "metadata": {
    "collapsed": false
   },
   "outputs": [],
   "source": [
    "def preproc_data(df_input):\n",
    "    df_output = df_input.copy()\n",
    "    \n",
    "    # Удалим идентификатор AGREEMENT_RK и наблюдение с id==22873\n",
    "    df_output = df_output.drop(['AGREEMENT_RK'], axis=1)\n",
    "    df_output = df_output.drop([22873])\n",
    "    \n",
    "    # Избавлялась от проблем с '.' и ',' в стобцах PERSONAL_INCOME, CREDIT, FST_PAYMENT, \n",
    "    # LOAN_AVG_DLQ_AMT, LOAN_MAX_DLQ_AMT\n",
    "    for i in ('PERSONAL_INCOME', 'CREDIT', 'FST_PAYMENT', 'LOAN_AVG_DLQ_AMT', 'LOAN_MAX_DLQ_AMT'):\n",
    "        df_output[i] = df_output[i].map(lambda x: x.replace(',', '.')).astype('float')\n",
    "    \n",
    "    # Что-то делала с пропусками\n",
    "    for i in ('GEN_INDUSTRY', 'GEN_TITLE', 'JOB_DIR'):\n",
    "        df_output[i] = df_output[i].fillna('Безработный')\n",
    "        \n",
    "    for i in ('ORG_TP_STATE', 'ORG_TP_FCAPITAL', 'TP_PROVINCE', 'REGION_NM'):\n",
    "        df_output[i] = df_output[i].fillna('missing')\n",
    "    \n",
    "    for i in ('WORK_TIME', 'PREVIOUS_CARD_NUM_UTILIZED'):\n",
    "        df_output[i] = df_output[i].fillna(0)\n",
    "    \n",
    "    # Кодировала категориальные признаки\n",
    "    df_output = pd.get_dummies(df_output)\n",
    "        \n",
    "    return df_output"
   ]
  },
  {
   "cell_type": "code",
   "execution_count": 353,
   "metadata": {
    "collapsed": false
   },
   "outputs": [
    {
     "name": "stdout",
     "output_type": "stream",
     "text": [
      "<class 'pandas.core.frame.DataFrame'>\n",
      "Int64Index: 30132 entries, 0 to 30132\n",
      "Columns: 452 entries, TARGET to sample_train\n",
      "dtypes: float64(7), int64(31), uint8(414)\n",
      "memory usage: 20.9 MB\n"
     ]
    }
   ],
   "source": [
    "df_output = preproc_data(df)\n",
    "df_output.info()"
   ]
  },
  {
   "cell_type": "code",
   "execution_count": 354,
   "metadata": {
    "collapsed": false
   },
   "outputs": [],
   "source": [
    "df_preproc = df.pipe(preproc_data)\n",
    "\n",
    "# df_train_preproc = df_preproc.query('sample == \"train\"').drop(['sample'], axis=1)\n",
    "# df_test_preproc = df_preproc.query('sample == \"test\"').drop(['sample'], axis=1)\n",
    "\n",
    "df_train_preproc = df_preproc.query('sample_train == 1').drop(['sample_train'], axis=1).drop(['sample_test'], axis=1)\n",
    "df_test_preproc = df_preproc.query('sample_test == 1').drop(['sample_train'], axis=1).drop(['sample_test'], axis=1)"
   ]
  },
  {
   "cell_type": "markdown",
   "metadata": {},
   "source": [
    "#### Задание 4. Отделите целевую переменную и остальные признаки\n",
    "\n",
    "Должно получится:\n",
    "* 2 матрицы: X и X_test\n",
    "* 2 вектора: y и y_test"
   ]
  },
  {
   "cell_type": "code",
   "execution_count": 355,
   "metadata": {
    "collapsed": false
   },
   "outputs": [],
   "source": [
    "y = df_train_preproc.TARGET\n",
    "X = df_train_preproc.drop(['TARGET'], axis=1)\n",
    "y_test = df_test_preproc.TARGET\n",
    "X_test = df_test_preproc.drop(['TARGET'], axis=1)"
   ]
  },
  {
   "cell_type": "markdown",
   "metadata": {},
   "source": [
    "#### Задание 5. Обучение и оценка качества разных моделей"
   ]
  },
  {
   "cell_type": "code",
   "execution_count": 356,
   "metadata": {
    "collapsed": false
   },
   "outputs": [],
   "source": [
    "from sklearn.cross_validation import train_test_split\n",
    "\n",
    "# test_size=0.3, random_state=42\n",
    "X_train, X_test1, y_train, y_test1 = train_test_split(X, y, test_size=0.3, random_state=42)\n"
   ]
  },
  {
   "cell_type": "code",
   "execution_count": 357,
   "metadata": {
    "collapsed": false
   },
   "outputs": [
    {
     "name": "stderr",
     "output_type": "stream",
     "text": [
      "/home/gudzon/.local/lib/python3.6/site-packages/sklearn/linear_model/base.py:340: RuntimeWarning: overflow encountered in exp\n",
      "  np.exp(prob, prob)\n"
     ]
    }
   ],
   "source": [
    "# Попробовать следующие \"черные ящики\": интерфейс одинаковый \n",
    "#     fit, \n",
    "#     predict, \n",
    "#     predict_proba\n",
    "\n",
    "from sklearn.tree import DecisionTreeClassifier\n",
    "from sklearn.ensemble import RandomForestClassifier\n",
    "from sklearn.linear_model import LogisticRegression\n",
    "\n",
    "dtc = DecisionTreeClassifier()\n",
    "dtc.fit(X_train, y_train)\n",
    "predict_dtc = dtc.predict(X_test1)\n",
    "predict_proba_dtc = dtc.predict_proba(X_test1)\n",
    "\n",
    "rfc = RandomForestClassifier()\n",
    "rfc.fit(X_train, y_train)\n",
    "predict_rfc = rfc.predict(X_test1)\n",
    "predict_proba_rfc = rfc.predict_proba(X_test1)\n",
    "\n",
    "lr = LogisticRegression()\n",
    "lr.fit(X_train, y_train)\n",
    "predict_lr = lr.predict(X_test1)\n",
    "predict_proba_lr = lr.predict_proba(X_test1)\n"
   ]
  },
  {
   "cell_type": "code",
   "execution_count": 358,
   "metadata": {
    "collapsed": false
   },
   "outputs": [
    {
     "name": "stdout",
     "output_type": "stream",
     "text": [
      "accuracy_dtc: 0.7948324939785417\n",
      "accuracy_rfc: 0.8727830085395226\n",
      "accuracy_lr: 0.8745347054959492\n",
      "\n"
     ]
    }
   ],
   "source": [
    "# Посчитать метрики стандартные\n",
    "# accuracy, precision, recall\n",
    "\n",
    "from sklearn.metrics import accuracy_score, precision_score, recall_score\n",
    "\n",
    "accuracy_dtc = accuracy_score(y_test1, predict_dtc)\n",
    "accuracy_rfc = accuracy_score(y_test1, predict_rfc) \n",
    "accuracy_lr = accuracy_score(y_test1, predict_lr)\n",
    "print(\"accuracy_dtc: %s\\naccuracy_rfc: %s\\naccuracy_lr: %s\\n\" % (accuracy_dtc, accuracy_rfc, accuracy_lr))"
   ]
  },
  {
   "cell_type": "code",
   "execution_count": 359,
   "metadata": {
    "collapsed": false
   },
   "outputs": [
    {
     "name": "stdout",
     "output_type": "stream",
     "text": [
      "recall_dtc: 0.16901408450704225\n",
      "recall_rfc: 0.0035211267605633804\n",
      "recall_lr: 0.0\n"
     ]
    }
   ],
   "source": [
    "recall_dtc = recall_score(y_test1, predict_dtc)\n",
    "recall_rfc = recall_score(y_test1, predict_rfc)\n",
    "recall_lr = recall_score(y_test1, predict_lr)\n",
    "print(\"recall_dtc: %s\\nrecall_rfc: %s\\nrecall_lr: %s\" % (recall_dtc, recall_rfc, precision_lr))"
   ]
  },
  {
   "cell_type": "code",
   "execution_count": 360,
   "metadata": {
    "collapsed": false
   },
   "outputs": [
    {
     "name": "stdout",
     "output_type": "stream",
     "text": [
      "precision_dtc: 0.1711229946524064\n",
      "precision_rfc: 0.11764705882352941\n",
      "precision_lr: 0.0\n"
     ]
    }
   ],
   "source": [
    "precision_dtc = precision_score(y_test1, predict_dtc)\n",
    "precision_rfc = precision_score(y_test1, predict_rfc)\n",
    "precision_lr = precision_score(y_test1, predict_lr)\n",
    "print(\"precision_dtc: %s\\nprecision_rfc: %s\\nprecision_lr: %s\" % (precision_dtc, precision_rfc, precision_lr))"
   ]
  },
  {
   "cell_type": "code",
   "execution_count": 361,
   "metadata": {
    "collapsed": false
   },
   "outputs": [
    {
     "data": {
      "text/plain": [
       "(-0.01, 1.01)"
      ]
     },
     "execution_count": 361,
     "metadata": {},
     "output_type": "execute_result"
    },
    {
     "data": {
      "image/png": "[encoded data removed]",
      "text/plain": [
       "<Figure size 360x360 with 1 Axes>"
      ]
     },
     "metadata": {},
     "output_type": "display_data"
    }
   ],
   "source": [
    "# Визуалищировать эти метрики всех моделей на одном графике (чтоб визуально посмотреть)\n",
    "\n",
    "%matplotlib inline\n",
    "from matplotlib import pyplot as plt\n",
    "\n",
    "plt.figure(figsize=(5, 5))\n",
    "\n",
    "plt.plot([0,0.5,1], [accuracy_dtc, recall_dtc, precision_dtc], 'o', label='DTC')\n",
    "plt.plot([0,0.5,1], [accuracy_rfc, recall_rfc, precision_rfc], 'o', label='RFC')\n",
    "plt.plot([0,0.5,1], [accuracy_lr, recall_lr, precision_lr], 'o', label='LR')\n",
    "\n",
    "plt.grid(True)\n",
    "plt.legend()\n",
    "plt.xlim((-0.01, 1.01))\n",
    "plt.ylim((-0.01, 1.01))"
   ]
  },
  {
   "cell_type": "code",
   "execution_count": 362,
   "metadata": {
    "collapsed": false
   },
   "outputs": [
    {
     "data": {
      "text/plain": [
       "(-0.01, 1.01)"
      ]
     },
     "execution_count": 362,
     "metadata": {},
     "output_type": "execute_result"
    },
    {
     "data": {
      "image/png": "[encoded data removed]",
      "text/plain": [
       "<Figure size 360x360 with 1 Axes>"
      ]
     },
     "metadata": {},
     "output_type": "display_data"
    }
   ],
   "source": [
    "# Потроить roc-кривые всех можелей на одном графике\n",
    "# Вывести roc_auc каждой моделе\n",
    "\n",
    "from sklearn.metrics import roc_auc_score, roc_curve\n",
    "\n",
    "fpr_dtc, tpr_dtc, thresholds_dtc = roc_curve(y_test1, predict_proba_dtc[:,1])\n",
    "fpr_rfc, tpr_rfc, thresholds_rfc = roc_curve(y_test1, predict_proba_rfc[:,1])\n",
    "fpr_lr, tpr_lr, thresholds_lr = roc_curve(y_test1, predict_proba_lr[:,1])\n",
    "\n",
    "plt.figure(figsize=(5, 5))\n",
    "\n",
    "plt.plot(fpr_dtc, tpr_dtc, label='roc_curve_dtc')\n",
    "plt.plot(fpr_rfc, tpr_rfc, label='roc_curve_rfc')\n",
    "plt.plot(fpr_lr, tpr_lr, label='roc_curve_lr')\n",
    "\n",
    "plt.plot([0, 1], [0, 1])\n",
    "plt.ylabel('tpr')\n",
    "plt.xlabel('fpr')\n",
    "plt.grid(True)\n",
    "plt.legend()\n",
    "plt.title('ROC curve')\n",
    "plt.xlim((-0.01, 1.01))\n",
    "plt.ylim((-0.01, 1.01))"
   ]
  },
  {
   "cell_type": "code",
   "execution_count": 363,
   "metadata": {
    "collapsed": false
   },
   "outputs": [
    {
     "name": "stdout",
     "output_type": "stream",
     "text": [
      "roc_auc_score_dtc 0.5263675073698002\n",
      "roc_auc_score_rfc 0.5901717506841498\n",
      "roc_auc_score_lr 0.6422168922512317\n"
     ]
    }
   ],
   "source": [
    "print('roc_auc_score_dtc', roc_auc_score(y_test1, predict_proba_dtc[:,1]))\n",
    "print('roc_auc_score_rfc', roc_auc_score(y_test1, predict_proba_rfc[:,1]))\n",
    "print('roc_auc_score_lr', roc_auc_score(y_test1, predict_proba_lr[:,1]))"
   ]
  },
  {
   "cell_type": "code",
   "execution_count": 364,
   "metadata": {
    "collapsed": false
   },
   "outputs": [
    {
     "name": "stdout",
     "output_type": "stream",
     "text": [
      "Средний roc_auc для DecisionTreeClassifier 0.5346309499021873\n",
      "Средний roc_auc для RandomForestClassifier 0.6083883766333986\n",
      "Средний roc_auc для LogisticRegression 0.6417117926424908\n"
     ]
    }
   ],
   "source": [
    "from sklearn.cross_validation import cross_val_score\n",
    "from sklearn.model_selection import StratifiedKFold\n",
    "# Сделать k-fold (10 фолдов) кросс-валидацию каждой модели\n",
    "# И посчитать средний roc_auc\n",
    "cv = StratifiedKFold(n_splits=10, shuffle=True, random_state=123)\n",
    "\n",
    "cross_val_score_dtc = cross_val_score(\n",
    "    DecisionTreeClassifier(),\n",
    "    X,\n",
    "    y,\n",
    "    scoring='roc_auc',\n",
    "    cv=cv.split(X,y)    \n",
    ")\n",
    "\n",
    "cross_val_score_rfc = cross_val_score(\n",
    "    RandomForestClassifier(),\n",
    "    X,\n",
    "    y,\n",
    "    scoring='roc_auc',\n",
    "    cv=cv.split(X,y)   \n",
    ")\n",
    "\n",
    "cross_val_score_lr = cross_val_score(\n",
    "    LogisticRegression(),\n",
    "    X,\n",
    "    y,\n",
    "    scoring='roc_auc',\n",
    "    cv=cv.split(X,y)    \n",
    ")\n",
    "\n",
    "print(\"Средний roc_auc для DecisionTreeClassifier\", np.mean(cross_val_score_dtc))\n",
    "print(\"Средний roc_auc для RandomForestClassifier\", np.mean(cross_val_score_rfc))\n",
    "print(\"Средний roc_auc для LogisticRegression\", np.mean(cross_val_score_lr))"
   ]
  },
  {
   "cell_type": "code",
   "execution_count": 365,
   "metadata": {
    "collapsed": false
   },
   "outputs": [
    {
     "name": "stderr",
     "output_type": "stream",
     "text": [
      "/home/gudzon/.local/lib/python3.6/site-packages/sklearn/linear_model/base.py:340: RuntimeWarning: overflow encountered in exp\n",
      "  np.exp(prob, prob)\n"
     ]
    }
   ],
   "source": [
    "# Взять лучшую модель и сделать predict (с вероятностями (!!!)) для test выборки\n",
    "# Лучший результат показывает LogisticRegression\n",
    "\n",
    "predict_lr = lr.predict(X_test)\n",
    "predict_proba_lr = lr.predict_proba(X_test)\n"
   ]
  },
  {
   "cell_type": "code",
   "execution_count": 366,
   "metadata": {
    "collapsed": false
   },
   "outputs": [
    {
     "data": {
      "text/plain": [
       "array([0.62178029, 0.62634824, 0.59282241, 0.60548849, 0.65996092,\n",
       "       0.60107251, 0.63795484, 0.60219713, 0.63716023, 0.62295701])"
      ]
     },
     "execution_count": 366,
     "metadata": {},
     "output_type": "execute_result"
    }
   ],
   "source": [
    "# Померить roc_auc на тесте\n",
    "cross_val_score_lr = cross_val_score(\n",
    "    LogisticRegression(),\n",
    "    X_test,\n",
    "    y_test,\n",
    "    scoring='roc_auc',\n",
    "    cv=cv.split(X_test,y_test)    \n",
    ")\n",
    "cross_val_score_lr"
   ]
  },
  {
   "cell_type": "code",
   "execution_count": 367,
   "metadata": {
    "collapsed": false
   },
   "outputs": [
    {
     "data": {
      "text/plain": [
       "0.6207742075553626"
      ]
     },
     "execution_count": 367,
     "metadata": {},
     "output_type": "execute_result"
    }
   ],
   "source": [
    "np.mean(cross_val_score_lr)"
   ]
  }
 ],
 "metadata": {
  "anaconda-cloud": {},
  "kernelspec": {
   "display_name": "Python 3",
   "language": "python",
   "name": "python3"
  },
  "language_info": {
   "codemirror_mode": {
    "name": "ipython",
    "version": 3
   },
   "file_extension": ".py",
   "mimetype": "text/x-python",
   "name": "python",
   "nbconvert_exporter": "python",
   "pygments_lexer": "ipython3",
   "version": "3.6.3"
  },
  "toc": {
   "colors": {
    "hover_highlight": "#DAA520",
    "navigate_num": "#000000",
    "navigate_text": "#333333",
    "running_highlight": "#FF0000",
    "selected_highlight": "#FFD700",
    "sidebar_border": "#EEEEEE",
    "wrapper_background": "#FFFFFF"
   },
   "moveMenuLeft": true,
   "nav_menu": {
    "height": "31px",
    "width": "253px"
   },
   "navigate_menu": true,
   "number_sections": false,
   "sideBar": true,
   "threshold": 4,
   "toc_cell": false,
   "toc_section_display": "block",
   "toc_window_display": false,
   "widenNotebook": false
  }
 },
 "nbformat": 4,
 "nbformat_minor": 2
}
