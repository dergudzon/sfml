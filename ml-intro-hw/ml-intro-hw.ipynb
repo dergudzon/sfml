{
 "cells": [
  {
   "cell_type": "markdown",
   "metadata": {},
   "source": [
    "# SkillFactory\n",
    "## Введение в ML, введение в sklearn"
   ]
  },
  {
   "cell_type": "markdown",
   "metadata": {},
   "source": [
    "В этом задании мы с вами рассмотрим данные с конкурса [Задача предсказания отклика клиентов ОТП Банка](http://www.machinelearning.ru/wiki/index.php?title=%D0%97%D0%B0%D0%B4%D0%B0%D1%87%D0%B0_%D0%BF%D1%80%D0%B5%D0%B4%D1%81%D0%BA%D0%B0%D0%B7%D0%B0%D0%BD%D0%B8%D1%8F_%D0%BE%D1%82%D0%BA%D0%BB%D0%B8%D0%BA%D0%B0_%D0%BA%D0%BB%D0%B8%D0%B5%D0%BD%D1%82%D0%BE%D0%B2_%D0%9E%D0%A2%D0%9F_%D0%91%D0%B0%D0%BD%D0%BA%D0%B0_%28%D0%BA%D0%BE%D0%BD%D0%BA%D1%83%D1%80%D1%81%29)"
   ]
  },
  {
   "cell_type": "code",
   "execution_count": 334,
   "metadata": {
    "collapsed": true
   },
   "outputs": [],
   "source": [
    "import pandas as pd\n",
    "import numpy as np\n",
    "import matplotlib.pyplot as plt\n",
    "\n",
    "%matplotlib inline\n",
    "\n",
    "plt.style.use('ggplot')\n",
    "plt.rcParams['figure.figsize'] = (12,5)"
   ]
  },
  {
   "cell_type": "markdown",
   "metadata": {},
   "source": [
    "### Грузим данные"
   ]
  },
  {
   "cell_type": "markdown",
   "metadata": {},
   "source": [
    "Считаем описание данных"
   ]
  },
  {
   "cell_type": "code",
   "execution_count": 335,
   "metadata": {
    "collapsed": true
   },
   "outputs": [],
   "source": [
    "\n",
    "df_descr = pd.read_csv('data/otp_description.csv', sep='\\t', encoding='utf8')"
   ]
  },
  {
   "cell_type": "code",
   "execution_count": 336,
   "metadata": {
    "collapsed": false
   },
   "outputs": [
    {
     "data": {
      "text/html": [
       "<div>\n",
       "<style scoped>\n",
       "    .dataframe tbody tr th:only-of-type {\n",
       "        vertical-align: middle;\n",
       "    }\n",
       "\n",
       "    .dataframe tbody tr th {\n",
       "        vertical-align: top;\n",
       "    }\n",
       "\n",
       "    .dataframe thead th {\n",
       "        text-align: right;\n",
       "    }\n",
       "</style>\n",
       "<table border=\"1\" class=\"dataframe\">\n",
       "  <thead>\n",
       "    <tr style=\"text-align: right;\">\n",
       "      <th></th>\n",
       "      <th>ПОЛЕ</th>\n",
       "      <th>ОПИСАНИЕ</th>\n",
       "    </tr>\n",
       "  </thead>\n",
       "  <tbody>\n",
       "    <tr>\n",
       "      <th>0</th>\n",
       "      <td>AGREEMENT_RK</td>\n",
       "      <td>уникальный идентификатор объекта в выборке</td>\n",
       "    </tr>\n",
       "    <tr>\n",
       "      <th>1</th>\n",
       "      <td>AGE</td>\n",
       "      <td>возраст клиента</td>\n",
       "    </tr>\n",
       "    <tr>\n",
       "      <th>2</th>\n",
       "      <td>SOCSTATUS_WORK_FL</td>\n",
       "      <td>социальный статус клиента относительно работы ...</td>\n",
       "    </tr>\n",
       "    <tr>\n",
       "      <th>3</th>\n",
       "      <td>SOCSTATUS_PENS_FL</td>\n",
       "      <td>социальный статус клиента относительно пенсии ...</td>\n",
       "    </tr>\n",
       "    <tr>\n",
       "      <th>4</th>\n",
       "      <td>GENDER</td>\n",
       "      <td>пол клиента (1- женщины, 0-мужчины)</td>\n",
       "    </tr>\n",
       "    <tr>\n",
       "      <th>5</th>\n",
       "      <td>CHILD_TOTAL</td>\n",
       "      <td>количество детей клиента</td>\n",
       "    </tr>\n",
       "    <tr>\n",
       "      <th>6</th>\n",
       "      <td>DEPENDANTS</td>\n",
       "      <td>количество иждивенцев клиента</td>\n",
       "    </tr>\n",
       "    <tr>\n",
       "      <th>7</th>\n",
       "      <td>EDUCATION</td>\n",
       "      <td>образование</td>\n",
       "    </tr>\n",
       "    <tr>\n",
       "      <th>8</th>\n",
       "      <td>MARITAL_STATUS</td>\n",
       "      <td>семейное положение</td>\n",
       "    </tr>\n",
       "    <tr>\n",
       "      <th>9</th>\n",
       "      <td>GEN_INDUSTRY</td>\n",
       "      <td>отрасль работы клиента</td>\n",
       "    </tr>\n",
       "    <tr>\n",
       "      <th>10</th>\n",
       "      <td>GEN_TITLE</td>\n",
       "      <td>должность</td>\n",
       "    </tr>\n",
       "    <tr>\n",
       "      <th>11</th>\n",
       "      <td>ORG_TP_STATE</td>\n",
       "      <td>форма собственности компании</td>\n",
       "    </tr>\n",
       "    <tr>\n",
       "      <th>12</th>\n",
       "      <td>ORG_TP_FCAPITAL</td>\n",
       "      <td>отношение к иностранному капиталу</td>\n",
       "    </tr>\n",
       "    <tr>\n",
       "      <th>13</th>\n",
       "      <td>JOB_DIR</td>\n",
       "      <td>направление деятельности в нутри компании</td>\n",
       "    </tr>\n",
       "    <tr>\n",
       "      <th>14</th>\n",
       "      <td>FAMILY_INCOME</td>\n",
       "      <td>семейный доход (несколько категорий)</td>\n",
       "    </tr>\n",
       "    <tr>\n",
       "      <th>15</th>\n",
       "      <td>PERSONAL_INCOME</td>\n",
       "      <td>личный доход клиента (в рублях)</td>\n",
       "    </tr>\n",
       "    <tr>\n",
       "      <th>16</th>\n",
       "      <td>REG_ADDRESS_PROVINCE</td>\n",
       "      <td>область регистрации клиента</td>\n",
       "    </tr>\n",
       "    <tr>\n",
       "      <th>17</th>\n",
       "      <td>FACT_ADDRESS_PROVINCE</td>\n",
       "      <td>область фактического пребывания клиента</td>\n",
       "    </tr>\n",
       "    <tr>\n",
       "      <th>18</th>\n",
       "      <td>POSTAL_ADDRESS_PROVINCE</td>\n",
       "      <td>почтовый адрес область</td>\n",
       "    </tr>\n",
       "    <tr>\n",
       "      <th>19</th>\n",
       "      <td>TP_PROVINCE</td>\n",
       "      <td>область торговой точки, где клиент брал послед...</td>\n",
       "    </tr>\n",
       "    <tr>\n",
       "      <th>20</th>\n",
       "      <td>REGION_NM</td>\n",
       "      <td>регион РФ</td>\n",
       "    </tr>\n",
       "    <tr>\n",
       "      <th>21</th>\n",
       "      <td>REG_FACT_FL</td>\n",
       "      <td>адрес регистрации и адрес фактического пребыва...</td>\n",
       "    </tr>\n",
       "    <tr>\n",
       "      <th>22</th>\n",
       "      <td>FACT_POST_FL</td>\n",
       "      <td>адрес фактического пребывания клиента и его по...</td>\n",
       "    </tr>\n",
       "    <tr>\n",
       "      <th>23</th>\n",
       "      <td>REG_POST_FL</td>\n",
       "      <td>адрес регистрации клиента и его почтовый адрес...</td>\n",
       "    </tr>\n",
       "    <tr>\n",
       "      <th>24</th>\n",
       "      <td>REG_FACT_POST_FL</td>\n",
       "      <td>почтовый, фактический и адрес регистрации совп...</td>\n",
       "    </tr>\n",
       "    <tr>\n",
       "      <th>25</th>\n",
       "      <td>REG_FACT_POST_TP_FL</td>\n",
       "      <td>область регистрации, фактического пребывания, ...</td>\n",
       "    </tr>\n",
       "    <tr>\n",
       "      <th>26</th>\n",
       "      <td>FL_PRESENCE_FL</td>\n",
       "      <td>наличие в собственности квартиры (1 - есть, 0 ...</td>\n",
       "    </tr>\n",
       "    <tr>\n",
       "      <th>27</th>\n",
       "      <td>OWN_AUTO</td>\n",
       "      <td>кол-во автомобилей в собственности</td>\n",
       "    </tr>\n",
       "    <tr>\n",
       "      <th>28</th>\n",
       "      <td>AUTO_RUS_FL</td>\n",
       "      <td>наличие в собственности автомобиля российского...</td>\n",
       "    </tr>\n",
       "    <tr>\n",
       "      <th>29</th>\n",
       "      <td>HS_PRESENCE_FL</td>\n",
       "      <td>наличие в собственности загородного дома (1 - ...</td>\n",
       "    </tr>\n",
       "    <tr>\n",
       "      <th>30</th>\n",
       "      <td>COT_PRESENCE_FL</td>\n",
       "      <td>наличие в собственности котеджа (1 - есть, 0 -...</td>\n",
       "    </tr>\n",
       "    <tr>\n",
       "      <th>31</th>\n",
       "      <td>GAR_PRESENCE_FL</td>\n",
       "      <td>наличие в собственности гаража (1 - есть, 0 - ...</td>\n",
       "    </tr>\n",
       "    <tr>\n",
       "      <th>32</th>\n",
       "      <td>LAND_PRESENCE_FL</td>\n",
       "      <td>наличие в собственности земельного участка (1 ...</td>\n",
       "    </tr>\n",
       "    <tr>\n",
       "      <th>33</th>\n",
       "      <td>CREDIT</td>\n",
       "      <td>сумма последнего кредита клиента (в рублях)</td>\n",
       "    </tr>\n",
       "    <tr>\n",
       "      <th>34</th>\n",
       "      <td>TERM</td>\n",
       "      <td>срок кредита</td>\n",
       "    </tr>\n",
       "    <tr>\n",
       "      <th>35</th>\n",
       "      <td>FST_PAYMENT</td>\n",
       "      <td>первоначальный взнос (в рублях)</td>\n",
       "    </tr>\n",
       "    <tr>\n",
       "      <th>36</th>\n",
       "      <td>DL_DOCUMENT_FL</td>\n",
       "      <td>в анкете клиент указал водительское удостовере...</td>\n",
       "    </tr>\n",
       "    <tr>\n",
       "      <th>37</th>\n",
       "      <td>GPF_DOCUMENT_FL</td>\n",
       "      <td>в анкете клиен указал ГПФ (1 - указал, 0 - не ...</td>\n",
       "    </tr>\n",
       "    <tr>\n",
       "      <th>38</th>\n",
       "      <td>FACT_LIVING_TERM</td>\n",
       "      <td>количество месяцев проживания по месту фактиче...</td>\n",
       "    </tr>\n",
       "    <tr>\n",
       "      <th>39</th>\n",
       "      <td>WORK_TIME</td>\n",
       "      <td>время работы на текущем месте (в месяцах)</td>\n",
       "    </tr>\n",
       "    <tr>\n",
       "      <th>40</th>\n",
       "      <td>FACT_PHONE_FL</td>\n",
       "      <td>наличие в заявке телефона по фактическому мест...</td>\n",
       "    </tr>\n",
       "    <tr>\n",
       "      <th>41</th>\n",
       "      <td>REG_PHONE_FL</td>\n",
       "      <td>наличие в заявке телефона по месту регистрации</td>\n",
       "    </tr>\n",
       "    <tr>\n",
       "      <th>42</th>\n",
       "      <td>GEN_PHONE_FL</td>\n",
       "      <td>наличие в заявке рабочего телефона</td>\n",
       "    </tr>\n",
       "    <tr>\n",
       "      <th>43</th>\n",
       "      <td>LOAN_NUM_TOTAL</td>\n",
       "      <td>количество ссуд клиента</td>\n",
       "    </tr>\n",
       "    <tr>\n",
       "      <th>44</th>\n",
       "      <td>LOAN_NUM_CLOSED</td>\n",
       "      <td>количество погашенных ссуд клиента</td>\n",
       "    </tr>\n",
       "    <tr>\n",
       "      <th>45</th>\n",
       "      <td>LOAN_NUM_PAYM</td>\n",
       "      <td>количество платежей, которые сделал клиент</td>\n",
       "    </tr>\n",
       "    <tr>\n",
       "      <th>46</th>\n",
       "      <td>LOAN_DLQ_NUM</td>\n",
       "      <td>количество просрочек, допущенных клиентом</td>\n",
       "    </tr>\n",
       "    <tr>\n",
       "      <th>47</th>\n",
       "      <td>LOAN_MAX_DLQ</td>\n",
       "      <td>номер максимальной просрочки, допущенной клиентом</td>\n",
       "    </tr>\n",
       "    <tr>\n",
       "      <th>48</th>\n",
       "      <td>LOAN_AVG_DLQ_AMT</td>\n",
       "      <td>средняя сумма просрочки (в рублях)</td>\n",
       "    </tr>\n",
       "    <tr>\n",
       "      <th>49</th>\n",
       "      <td>LOAN_MAX_DLQ_AMT</td>\n",
       "      <td>максимальная сумма просрочки (в рублях)</td>\n",
       "    </tr>\n",
       "    <tr>\n",
       "      <th>50</th>\n",
       "      <td>PREVIOUS_CARD_NUM_UTILIZED</td>\n",
       "      <td>количество уже утилизированных карт ( если пус...</td>\n",
       "    </tr>\n",
       "  </tbody>\n",
       "</table>\n",
       "</div>"
      ],
      "text/plain": [
       "                          ПОЛЕ  \\\n",
       "0                 AGREEMENT_RK   \n",
       "1                          AGE   \n",
       "2            SOCSTATUS_WORK_FL   \n",
       "3            SOCSTATUS_PENS_FL   \n",
       "4                       GENDER   \n",
       "5                  CHILD_TOTAL   \n",
       "6                   DEPENDANTS   \n",
       "7                    EDUCATION   \n",
       "8               MARITAL_STATUS   \n",
       "9                 GEN_INDUSTRY   \n",
       "10                   GEN_TITLE   \n",
       "11                ORG_TP_STATE   \n",
       "12             ORG_TP_FCAPITAL   \n",
       "13                     JOB_DIR   \n",
       "14               FAMILY_INCOME   \n",
       "15             PERSONAL_INCOME   \n",
       "16        REG_ADDRESS_PROVINCE   \n",
       "17       FACT_ADDRESS_PROVINCE   \n",
       "18     POSTAL_ADDRESS_PROVINCE   \n",
       "19                 TP_PROVINCE   \n",
       "20                   REGION_NM   \n",
       "21                 REG_FACT_FL   \n",
       "22                FACT_POST_FL   \n",
       "23                 REG_POST_FL   \n",
       "24            REG_FACT_POST_FL   \n",
       "25         REG_FACT_POST_TP_FL   \n",
       "26              FL_PRESENCE_FL   \n",
       "27                    OWN_AUTO   \n",
       "28                 AUTO_RUS_FL   \n",
       "29              HS_PRESENCE_FL   \n",
       "30             COT_PRESENCE_FL   \n",
       "31             GAR_PRESENCE_FL   \n",
       "32            LAND_PRESENCE_FL   \n",
       "33                      CREDIT   \n",
       "34                        TERM   \n",
       "35                 FST_PAYMENT   \n",
       "36              DL_DOCUMENT_FL   \n",
       "37             GPF_DOCUMENT_FL   \n",
       "38            FACT_LIVING_TERM   \n",
       "39                   WORK_TIME   \n",
       "40               FACT_PHONE_FL   \n",
       "41                REG_PHONE_FL   \n",
       "42                GEN_PHONE_FL   \n",
       "43              LOAN_NUM_TOTAL   \n",
       "44             LOAN_NUM_CLOSED   \n",
       "45               LOAN_NUM_PAYM   \n",
       "46                LOAN_DLQ_NUM   \n",
       "47                LOAN_MAX_DLQ   \n",
       "48            LOAN_AVG_DLQ_AMT   \n",
       "49            LOAN_MAX_DLQ_AMT   \n",
       "50  PREVIOUS_CARD_NUM_UTILIZED   \n",
       "\n",
       "                                             ОПИСАНИЕ  \n",
       "0          уникальный идентификатор объекта в выборке  \n",
       "1                                     возраст клиента  \n",
       "2   социальный статус клиента относительно работы ...  \n",
       "3   социальный статус клиента относительно пенсии ...  \n",
       "4                 пол клиента (1- женщины, 0-мужчины)  \n",
       "5                            количество детей клиента  \n",
       "6                       количество иждивенцев клиента  \n",
       "7                                         образование  \n",
       "8                                  семейное положение  \n",
       "9                              отрасль работы клиента  \n",
       "10                                          должность  \n",
       "11                       форма собственности компании  \n",
       "12                  отношение к иностранному капиталу  \n",
       "13          направление деятельности в нутри компании  \n",
       "14               семейный доход (несколько категорий)  \n",
       "15                    личный доход клиента (в рублях)  \n",
       "16                        область регистрации клиента  \n",
       "17            область фактического пребывания клиента  \n",
       "18                             почтовый адрес область  \n",
       "19  область торговой точки, где клиент брал послед...  \n",
       "20                                          регион РФ  \n",
       "21  адрес регистрации и адрес фактического пребыва...  \n",
       "22  адрес фактического пребывания клиента и его по...  \n",
       "23  адрес регистрации клиента и его почтовый адрес...  \n",
       "24  почтовый, фактический и адрес регистрации совп...  \n",
       "25  область регистрации, фактического пребывания, ...  \n",
       "26  наличие в собственности квартиры (1 - есть, 0 ...  \n",
       "27                кол-во автомобилей в собственности   \n",
       "28  наличие в собственности автомобиля российского...  \n",
       "29  наличие в собственности загородного дома (1 - ...  \n",
       "30  наличие в собственности котеджа (1 - есть, 0 -...  \n",
       "31  наличие в собственности гаража (1 - есть, 0 - ...  \n",
       "32  наличие в собственности земельного участка (1 ...  \n",
       "33        сумма последнего кредита клиента (в рублях)  \n",
       "34                                       срок кредита  \n",
       "35                    первоначальный взнос (в рублях)  \n",
       "36  в анкете клиент указал водительское удостовере...  \n",
       "37  в анкете клиен указал ГПФ (1 - указал, 0 - не ...  \n",
       "38  количество месяцев проживания по месту фактиче...  \n",
       "39          время работы на текущем месте (в месяцах)  \n",
       "40  наличие в заявке телефона по фактическому мест...  \n",
       "41     наличие в заявке телефона по месту регистрации  \n",
       "42                 наличие в заявке рабочего телефона  \n",
       "43                            количество ссуд клиента  \n",
       "44                 количество погашенных ссуд клиента  \n",
       "45         количество платежей, которые сделал клиент  \n",
       "46          количество просрочек, допущенных клиентом  \n",
       "47  номер максимальной просрочки, допущенной клиентом  \n",
       "48                 средняя сумма просрочки (в рублях)  \n",
       "49            максимальная сумма просрочки (в рублях)  \n",
       "50  количество уже утилизированных карт ( если пус...  "
      ]
     },
     "execution_count": 336,
     "metadata": {},
     "output_type": "execute_result"
    }
   ],
   "source": [
    "df_descr"
   ]
  },
  {
   "cell_type": "markdown",
   "metadata": {},
   "source": [
    "Считаем обучающую выборки и тестовую (которую мы как бы не видим)"
   ]
  },
  {
   "cell_type": "code",
   "execution_count": 337,
   "metadata": {
    "collapsed": true
   },
   "outputs": [],
   "source": [
    "df_train = pd.read_csv('data/otp_train.csv', sep='\\t', encoding='utf8')"
   ]
  },
  {
   "cell_type": "code",
   "execution_count": 338,
   "metadata": {
    "collapsed": false
   },
   "outputs": [
    {
     "data": {
      "text/plain": [
       "(15223, 52)"
      ]
     },
     "execution_count": 338,
     "metadata": {},
     "output_type": "execute_result"
    }
   ],
   "source": [
    "df_train.shape"
   ]
  },
  {
   "cell_type": "code",
   "execution_count": 339,
   "metadata": {
    "collapsed": true
   },
   "outputs": [],
   "source": [
    "df_test = pd.read_csv('data/otp_test.csv', sep='\\t', encoding='utf8')"
   ]
  },
  {
   "cell_type": "code",
   "execution_count": 340,
   "metadata": {
    "collapsed": false
   },
   "outputs": [
    {
     "data": {
      "text/plain": [
       "(14910, 52)"
      ]
     },
     "execution_count": 340,
     "metadata": {},
     "output_type": "execute_result"
    }
   ],
   "source": [
    "df_test.shape"
   ]
  },
  {
   "cell_type": "code",
   "execution_count": 341,
   "metadata": {
    "collapsed": false
   },
   "outputs": [
    {
     "data": {
      "text/html": [
       "<div>\n",
       "<style scoped>\n",
       "    .dataframe tbody tr th:only-of-type {\n",
       "        vertical-align: middle;\n",
       "    }\n",
       "\n",
       "    .dataframe tbody tr th {\n",
       "        vertical-align: top;\n",
       "    }\n",
       "\n",
       "    .dataframe thead th {\n",
       "        text-align: right;\n",
       "    }\n",
       "</style>\n",
       "<table border=\"1\" class=\"dataframe\">\n",
       "  <thead>\n",
       "    <tr style=\"text-align: right;\">\n",
       "      <th></th>\n",
       "      <th>0</th>\n",
       "      <th>1</th>\n",
       "      <th>2</th>\n",
       "      <th>3</th>\n",
       "      <th>4</th>\n",
       "    </tr>\n",
       "  </thead>\n",
       "  <tbody>\n",
       "    <tr>\n",
       "      <th>AGREEMENT_RK</th>\n",
       "      <td>59910150</td>\n",
       "      <td>59910230</td>\n",
       "      <td>59910525</td>\n",
       "      <td>59910803</td>\n",
       "      <td>59911781</td>\n",
       "    </tr>\n",
       "    <tr>\n",
       "      <th>TARGET</th>\n",
       "      <td>0</td>\n",
       "      <td>0</td>\n",
       "      <td>0</td>\n",
       "      <td>0</td>\n",
       "      <td>0</td>\n",
       "    </tr>\n",
       "    <tr>\n",
       "      <th>AGE</th>\n",
       "      <td>49</td>\n",
       "      <td>32</td>\n",
       "      <td>52</td>\n",
       "      <td>39</td>\n",
       "      <td>30</td>\n",
       "    </tr>\n",
       "    <tr>\n",
       "      <th>SOCSTATUS_WORK_FL</th>\n",
       "      <td>1</td>\n",
       "      <td>1</td>\n",
       "      <td>1</td>\n",
       "      <td>1</td>\n",
       "      <td>1</td>\n",
       "    </tr>\n",
       "    <tr>\n",
       "      <th>SOCSTATUS_PENS_FL</th>\n",
       "      <td>0</td>\n",
       "      <td>0</td>\n",
       "      <td>0</td>\n",
       "      <td>0</td>\n",
       "      <td>0</td>\n",
       "    </tr>\n",
       "    <tr>\n",
       "      <th>GENDER</th>\n",
       "      <td>1</td>\n",
       "      <td>1</td>\n",
       "      <td>1</td>\n",
       "      <td>1</td>\n",
       "      <td>0</td>\n",
       "    </tr>\n",
       "    <tr>\n",
       "      <th>CHILD_TOTAL</th>\n",
       "      <td>2</td>\n",
       "      <td>3</td>\n",
       "      <td>4</td>\n",
       "      <td>1</td>\n",
       "      <td>0</td>\n",
       "    </tr>\n",
       "    <tr>\n",
       "      <th>DEPENDANTS</th>\n",
       "      <td>1</td>\n",
       "      <td>3</td>\n",
       "      <td>0</td>\n",
       "      <td>1</td>\n",
       "      <td>0</td>\n",
       "    </tr>\n",
       "    <tr>\n",
       "      <th>EDUCATION</th>\n",
       "      <td>Среднее специальное</td>\n",
       "      <td>Среднее</td>\n",
       "      <td>Неполное среднее</td>\n",
       "      <td>Высшее</td>\n",
       "      <td>Среднее</td>\n",
       "    </tr>\n",
       "    <tr>\n",
       "      <th>MARITAL_STATUS</th>\n",
       "      <td>Состою в браке</td>\n",
       "      <td>Состою в браке</td>\n",
       "      <td>Состою в браке</td>\n",
       "      <td>Состою в браке</td>\n",
       "      <td>Состою в браке</td>\n",
       "    </tr>\n",
       "    <tr>\n",
       "      <th>GEN_INDUSTRY</th>\n",
       "      <td>Торговля</td>\n",
       "      <td>Торговля</td>\n",
       "      <td>Информационные технологии</td>\n",
       "      <td>Образование</td>\n",
       "      <td>Государственная служба</td>\n",
       "    </tr>\n",
       "    <tr>\n",
       "      <th>GEN_TITLE</th>\n",
       "      <td>Рабочий</td>\n",
       "      <td>Рабочий</td>\n",
       "      <td>Специалист</td>\n",
       "      <td>Руководитель среднего звена</td>\n",
       "      <td>Специалист</td>\n",
       "    </tr>\n",
       "    <tr>\n",
       "      <th>ORG_TP_STATE</th>\n",
       "      <td>Частная компания</td>\n",
       "      <td>Индивидуальный предприниматель</td>\n",
       "      <td>Государственная комп./учреж.</td>\n",
       "      <td>Государственная комп./учреж.</td>\n",
       "      <td>Государственная комп./учреж.</td>\n",
       "    </tr>\n",
       "    <tr>\n",
       "      <th>ORG_TP_FCAPITAL</th>\n",
       "      <td>Без участия</td>\n",
       "      <td>Без участия</td>\n",
       "      <td>Без участия</td>\n",
       "      <td>Без участия</td>\n",
       "      <td>Без участия</td>\n",
       "    </tr>\n",
       "    <tr>\n",
       "      <th>JOB_DIR</th>\n",
       "      <td>Вспомогательный техперсонал</td>\n",
       "      <td>Участие в основ. деятельности</td>\n",
       "      <td>Участие в основ. деятельности</td>\n",
       "      <td>Участие в основ. деятельности</td>\n",
       "      <td>Участие в основ. деятельности</td>\n",
       "    </tr>\n",
       "    <tr>\n",
       "      <th>FAMILY_INCOME</th>\n",
       "      <td>от 10000 до 20000 руб.</td>\n",
       "      <td>от 10000 до 20000 руб.</td>\n",
       "      <td>от 10000 до 20000 руб.</td>\n",
       "      <td>от 20000 до 50000 руб.</td>\n",
       "      <td>от 10000 до 20000 руб.</td>\n",
       "    </tr>\n",
       "    <tr>\n",
       "      <th>PERSONAL_INCOME</th>\n",
       "      <td>5000</td>\n",
       "      <td>12000</td>\n",
       "      <td>9000</td>\n",
       "      <td>25000</td>\n",
       "      <td>12000</td>\n",
       "    </tr>\n",
       "    <tr>\n",
       "      <th>REG_ADDRESS_PROVINCE</th>\n",
       "      <td>Оренбургская область</td>\n",
       "      <td>Кабардино-Балкария</td>\n",
       "      <td>Иркутская область</td>\n",
       "      <td>Ростовская область</td>\n",
       "      <td>Кабардино-Балкария</td>\n",
       "    </tr>\n",
       "    <tr>\n",
       "      <th>FACT_ADDRESS_PROVINCE</th>\n",
       "      <td>Оренбургская область</td>\n",
       "      <td>Кабардино-Балкария</td>\n",
       "      <td>Иркутская область</td>\n",
       "      <td>Ростовская область</td>\n",
       "      <td>Кабардино-Балкария</td>\n",
       "    </tr>\n",
       "    <tr>\n",
       "      <th>POSTAL_ADDRESS_PROVINCE</th>\n",
       "      <td>Оренбургская область</td>\n",
       "      <td>Кабардино-Балкария</td>\n",
       "      <td>Иркутская область</td>\n",
       "      <td>Ростовская область</td>\n",
       "      <td>Кабардино-Балкария</td>\n",
       "    </tr>\n",
       "    <tr>\n",
       "      <th>TP_PROVINCE</th>\n",
       "      <td>Оренбургская область</td>\n",
       "      <td>Ставропольский край</td>\n",
       "      <td>Иркутская область</td>\n",
       "      <td>Ростовская область</td>\n",
       "      <td>Ставропольский край</td>\n",
       "    </tr>\n",
       "    <tr>\n",
       "      <th>REGION_NM</th>\n",
       "      <td>ПОВОЛЖСКИЙ</td>\n",
       "      <td>ЮЖНЫЙ</td>\n",
       "      <td>ВОСТОЧНО-СИБИРСКИЙ</td>\n",
       "      <td>ЮЖНЫЙ</td>\n",
       "      <td>ЮЖНЫЙ</td>\n",
       "    </tr>\n",
       "    <tr>\n",
       "      <th>REG_FACT_FL</th>\n",
       "      <td>1</td>\n",
       "      <td>1</td>\n",
       "      <td>1</td>\n",
       "      <td>0</td>\n",
       "      <td>1</td>\n",
       "    </tr>\n",
       "    <tr>\n",
       "      <th>FACT_POST_FL</th>\n",
       "      <td>1</td>\n",
       "      <td>1</td>\n",
       "      <td>1</td>\n",
       "      <td>1</td>\n",
       "      <td>1</td>\n",
       "    </tr>\n",
       "    <tr>\n",
       "      <th>REG_POST_FL</th>\n",
       "      <td>1</td>\n",
       "      <td>1</td>\n",
       "      <td>1</td>\n",
       "      <td>0</td>\n",
       "      <td>1</td>\n",
       "    </tr>\n",
       "    <tr>\n",
       "      <th>REG_FACT_POST_FL</th>\n",
       "      <td>1</td>\n",
       "      <td>1</td>\n",
       "      <td>1</td>\n",
       "      <td>0</td>\n",
       "      <td>1</td>\n",
       "    </tr>\n",
       "    <tr>\n",
       "      <th>REG_FACT_POST_TP_FL</th>\n",
       "      <td>1</td>\n",
       "      <td>0</td>\n",
       "      <td>1</td>\n",
       "      <td>1</td>\n",
       "      <td>0</td>\n",
       "    </tr>\n",
       "    <tr>\n",
       "      <th>FL_PRESENCE_FL</th>\n",
       "      <td>0</td>\n",
       "      <td>0</td>\n",
       "      <td>0</td>\n",
       "      <td>1</td>\n",
       "      <td>0</td>\n",
       "    </tr>\n",
       "    <tr>\n",
       "      <th>OWN_AUTO</th>\n",
       "      <td>0</td>\n",
       "      <td>0</td>\n",
       "      <td>0</td>\n",
       "      <td>0</td>\n",
       "      <td>0</td>\n",
       "    </tr>\n",
       "    <tr>\n",
       "      <th>AUTO_RUS_FL</th>\n",
       "      <td>0</td>\n",
       "      <td>0</td>\n",
       "      <td>0</td>\n",
       "      <td>0</td>\n",
       "      <td>0</td>\n",
       "    </tr>\n",
       "    <tr>\n",
       "      <th>HS_PRESENCE_FL</th>\n",
       "      <td>0</td>\n",
       "      <td>0</td>\n",
       "      <td>1</td>\n",
       "      <td>0</td>\n",
       "      <td>1</td>\n",
       "    </tr>\n",
       "    <tr>\n",
       "      <th>COT_PRESENCE_FL</th>\n",
       "      <td>0</td>\n",
       "      <td>0</td>\n",
       "      <td>0</td>\n",
       "      <td>0</td>\n",
       "      <td>0</td>\n",
       "    </tr>\n",
       "    <tr>\n",
       "      <th>GAR_PRESENCE_FL</th>\n",
       "      <td>0</td>\n",
       "      <td>0</td>\n",
       "      <td>0</td>\n",
       "      <td>0</td>\n",
       "      <td>0</td>\n",
       "    </tr>\n",
       "    <tr>\n",
       "      <th>LAND_PRESENCE_FL</th>\n",
       "      <td>0</td>\n",
       "      <td>0</td>\n",
       "      <td>0</td>\n",
       "      <td>0</td>\n",
       "      <td>0</td>\n",
       "    </tr>\n",
       "    <tr>\n",
       "      <th>CREDIT</th>\n",
       "      <td>8000</td>\n",
       "      <td>21650</td>\n",
       "      <td>33126</td>\n",
       "      <td>8491,82</td>\n",
       "      <td>21990</td>\n",
       "    </tr>\n",
       "    <tr>\n",
       "      <th>TERM</th>\n",
       "      <td>6</td>\n",
       "      <td>6</td>\n",
       "      <td>12</td>\n",
       "      <td>6</td>\n",
       "      <td>12</td>\n",
       "    </tr>\n",
       "    <tr>\n",
       "      <th>FST_PAYMENT</th>\n",
       "      <td>8650</td>\n",
       "      <td>4000</td>\n",
       "      <td>4000</td>\n",
       "      <td>5000</td>\n",
       "      <td>4000</td>\n",
       "    </tr>\n",
       "    <tr>\n",
       "      <th>DL_DOCUMENT_FL</th>\n",
       "      <td>0</td>\n",
       "      <td>0</td>\n",
       "      <td>0</td>\n",
       "      <td>0</td>\n",
       "      <td>0</td>\n",
       "    </tr>\n",
       "    <tr>\n",
       "      <th>GPF_DOCUMENT_FL</th>\n",
       "      <td>1</td>\n",
       "      <td>1</td>\n",
       "      <td>1</td>\n",
       "      <td>0</td>\n",
       "      <td>1</td>\n",
       "    </tr>\n",
       "    <tr>\n",
       "      <th>FACT_LIVING_TERM</th>\n",
       "      <td>220</td>\n",
       "      <td>137</td>\n",
       "      <td>251</td>\n",
       "      <td>36</td>\n",
       "      <td>83</td>\n",
       "    </tr>\n",
       "    <tr>\n",
       "      <th>WORK_TIME</th>\n",
       "      <td>18</td>\n",
       "      <td>97</td>\n",
       "      <td>84</td>\n",
       "      <td>168</td>\n",
       "      <td>101</td>\n",
       "    </tr>\n",
       "    <tr>\n",
       "      <th>FACT_PHONE_FL</th>\n",
       "      <td>0</td>\n",
       "      <td>1</td>\n",
       "      <td>0</td>\n",
       "      <td>1</td>\n",
       "      <td>1</td>\n",
       "    </tr>\n",
       "    <tr>\n",
       "      <th>REG_PHONE_FL</th>\n",
       "      <td>0</td>\n",
       "      <td>0</td>\n",
       "      <td>0</td>\n",
       "      <td>1</td>\n",
       "      <td>0</td>\n",
       "    </tr>\n",
       "    <tr>\n",
       "      <th>GEN_PHONE_FL</th>\n",
       "      <td>1</td>\n",
       "      <td>1</td>\n",
       "      <td>1</td>\n",
       "      <td>1</td>\n",
       "      <td>1</td>\n",
       "    </tr>\n",
       "    <tr>\n",
       "      <th>LOAN_NUM_TOTAL</th>\n",
       "      <td>1</td>\n",
       "      <td>1</td>\n",
       "      <td>2</td>\n",
       "      <td>1</td>\n",
       "      <td>2</td>\n",
       "    </tr>\n",
       "    <tr>\n",
       "      <th>LOAN_NUM_CLOSED</th>\n",
       "      <td>1</td>\n",
       "      <td>1</td>\n",
       "      <td>1</td>\n",
       "      <td>1</td>\n",
       "      <td>1</td>\n",
       "    </tr>\n",
       "    <tr>\n",
       "      <th>LOAN_NUM_PAYM</th>\n",
       "      <td>6</td>\n",
       "      <td>6</td>\n",
       "      <td>11</td>\n",
       "      <td>6</td>\n",
       "      <td>16</td>\n",
       "    </tr>\n",
       "    <tr>\n",
       "      <th>LOAN_DLQ_NUM</th>\n",
       "      <td>2</td>\n",
       "      <td>1</td>\n",
       "      <td>0</td>\n",
       "      <td>3</td>\n",
       "      <td>2</td>\n",
       "    </tr>\n",
       "    <tr>\n",
       "      <th>LOAN_MAX_DLQ</th>\n",
       "      <td>1</td>\n",
       "      <td>1</td>\n",
       "      <td>0</td>\n",
       "      <td>1</td>\n",
       "      <td>1</td>\n",
       "    </tr>\n",
       "    <tr>\n",
       "      <th>LOAN_AVG_DLQ_AMT</th>\n",
       "      <td>1580</td>\n",
       "      <td>4020</td>\n",
       "      <td>0</td>\n",
       "      <td>1589,92333333333</td>\n",
       "      <td>1152,15</td>\n",
       "    </tr>\n",
       "    <tr>\n",
       "      <th>LOAN_MAX_DLQ_AMT</th>\n",
       "      <td>1580</td>\n",
       "      <td>4020</td>\n",
       "      <td>0</td>\n",
       "      <td>1590</td>\n",
       "      <td>2230</td>\n",
       "    </tr>\n",
       "    <tr>\n",
       "      <th>PREVIOUS_CARD_NUM_UTILIZED</th>\n",
       "      <td>NaN</td>\n",
       "      <td>NaN</td>\n",
       "      <td>NaN</td>\n",
       "      <td>NaN</td>\n",
       "      <td>NaN</td>\n",
       "    </tr>\n",
       "  </tbody>\n",
       "</table>\n",
       "</div>"
      ],
      "text/plain": [
       "                                                      0  \\\n",
       "AGREEMENT_RK                                   59910150   \n",
       "TARGET                                                0   \n",
       "AGE                                                  49   \n",
       "SOCSTATUS_WORK_FL                                     1   \n",
       "SOCSTATUS_PENS_FL                                     0   \n",
       "GENDER                                                1   \n",
       "CHILD_TOTAL                                           2   \n",
       "DEPENDANTS                                            1   \n",
       "EDUCATION                           Среднее специальное   \n",
       "MARITAL_STATUS                           Состою в браке   \n",
       "GEN_INDUSTRY                                   Торговля   \n",
       "GEN_TITLE                                       Рабочий   \n",
       "ORG_TP_STATE                           Частная компания   \n",
       "ORG_TP_FCAPITAL                             Без участия   \n",
       "JOB_DIR                     Вспомогательный техперсонал   \n",
       "FAMILY_INCOME                    от 10000 до 20000 руб.   \n",
       "PERSONAL_INCOME                                    5000   \n",
       "REG_ADDRESS_PROVINCE               Оренбургская область   \n",
       "FACT_ADDRESS_PROVINCE              Оренбургская область   \n",
       "POSTAL_ADDRESS_PROVINCE            Оренбургская область   \n",
       "TP_PROVINCE                        Оренбургская область   \n",
       "REGION_NM                                    ПОВОЛЖСКИЙ   \n",
       "REG_FACT_FL                                           1   \n",
       "FACT_POST_FL                                          1   \n",
       "REG_POST_FL                                           1   \n",
       "REG_FACT_POST_FL                                      1   \n",
       "REG_FACT_POST_TP_FL                                   1   \n",
       "FL_PRESENCE_FL                                        0   \n",
       "OWN_AUTO                                              0   \n",
       "AUTO_RUS_FL                                           0   \n",
       "HS_PRESENCE_FL                                        0   \n",
       "COT_PRESENCE_FL                                       0   \n",
       "GAR_PRESENCE_FL                                       0   \n",
       "LAND_PRESENCE_FL                                      0   \n",
       "CREDIT                                             8000   \n",
       "TERM                                                  6   \n",
       "FST_PAYMENT                                        8650   \n",
       "DL_DOCUMENT_FL                                        0   \n",
       "GPF_DOCUMENT_FL                                       1   \n",
       "FACT_LIVING_TERM                                    220   \n",
       "WORK_TIME                                            18   \n",
       "FACT_PHONE_FL                                         0   \n",
       "REG_PHONE_FL                                          0   \n",
       "GEN_PHONE_FL                                          1   \n",
       "LOAN_NUM_TOTAL                                        1   \n",
       "LOAN_NUM_CLOSED                                       1   \n",
       "LOAN_NUM_PAYM                                         6   \n",
       "LOAN_DLQ_NUM                                          2   \n",
       "LOAN_MAX_DLQ                                          1   \n",
       "LOAN_AVG_DLQ_AMT                                   1580   \n",
       "LOAN_MAX_DLQ_AMT                                   1580   \n",
       "PREVIOUS_CARD_NUM_UTILIZED                          NaN   \n",
       "\n",
       "                                                         1  \\\n",
       "AGREEMENT_RK                                      59910230   \n",
       "TARGET                                                   0   \n",
       "AGE                                                     32   \n",
       "SOCSTATUS_WORK_FL                                        1   \n",
       "SOCSTATUS_PENS_FL                                        0   \n",
       "GENDER                                                   1   \n",
       "CHILD_TOTAL                                              3   \n",
       "DEPENDANTS                                               3   \n",
       "EDUCATION                                          Среднее   \n",
       "MARITAL_STATUS                              Состою в браке   \n",
       "GEN_INDUSTRY                                      Торговля   \n",
       "GEN_TITLE                                          Рабочий   \n",
       "ORG_TP_STATE                Индивидуальный предприниматель   \n",
       "ORG_TP_FCAPITAL                                Без участия   \n",
       "JOB_DIR                      Участие в основ. деятельности   \n",
       "FAMILY_INCOME                       от 10000 до 20000 руб.   \n",
       "PERSONAL_INCOME                                      12000   \n",
       "REG_ADDRESS_PROVINCE                    Кабардино-Балкария   \n",
       "FACT_ADDRESS_PROVINCE                   Кабардино-Балкария   \n",
       "POSTAL_ADDRESS_PROVINCE                 Кабардино-Балкария   \n",
       "TP_PROVINCE                            Ставропольский край   \n",
       "REGION_NM                                            ЮЖНЫЙ   \n",
       "REG_FACT_FL                                              1   \n",
       "FACT_POST_FL                                             1   \n",
       "REG_POST_FL                                              1   \n",
       "REG_FACT_POST_FL                                         1   \n",
       "REG_FACT_POST_TP_FL                                      0   \n",
       "FL_PRESENCE_FL                                           0   \n",
       "OWN_AUTO                                                 0   \n",
       "AUTO_RUS_FL                                              0   \n",
       "HS_PRESENCE_FL                                           0   \n",
       "COT_PRESENCE_FL                                          0   \n",
       "GAR_PRESENCE_FL                                          0   \n",
       "LAND_PRESENCE_FL                                         0   \n",
       "CREDIT                                               21650   \n",
       "TERM                                                     6   \n",
       "FST_PAYMENT                                           4000   \n",
       "DL_DOCUMENT_FL                                           0   \n",
       "GPF_DOCUMENT_FL                                          1   \n",
       "FACT_LIVING_TERM                                       137   \n",
       "WORK_TIME                                               97   \n",
       "FACT_PHONE_FL                                            1   \n",
       "REG_PHONE_FL                                             0   \n",
       "GEN_PHONE_FL                                             1   \n",
       "LOAN_NUM_TOTAL                                           1   \n",
       "LOAN_NUM_CLOSED                                          1   \n",
       "LOAN_NUM_PAYM                                            6   \n",
       "LOAN_DLQ_NUM                                             1   \n",
       "LOAN_MAX_DLQ                                             1   \n",
       "LOAN_AVG_DLQ_AMT                                      4020   \n",
       "LOAN_MAX_DLQ_AMT                                      4020   \n",
       "PREVIOUS_CARD_NUM_UTILIZED                             NaN   \n",
       "\n",
       "                                                        2  \\\n",
       "AGREEMENT_RK                                     59910525   \n",
       "TARGET                                                  0   \n",
       "AGE                                                    52   \n",
       "SOCSTATUS_WORK_FL                                       1   \n",
       "SOCSTATUS_PENS_FL                                       0   \n",
       "GENDER                                                  1   \n",
       "CHILD_TOTAL                                             4   \n",
       "DEPENDANTS                                              0   \n",
       "EDUCATION                                Неполное среднее   \n",
       "MARITAL_STATUS                             Состою в браке   \n",
       "GEN_INDUSTRY                    Информационные технологии   \n",
       "GEN_TITLE                                      Специалист   \n",
       "ORG_TP_STATE                 Государственная комп./учреж.   \n",
       "ORG_TP_FCAPITAL                               Без участия   \n",
       "JOB_DIR                     Участие в основ. деятельности   \n",
       "FAMILY_INCOME                      от 10000 до 20000 руб.   \n",
       "PERSONAL_INCOME                                      9000   \n",
       "REG_ADDRESS_PROVINCE                    Иркутская область   \n",
       "FACT_ADDRESS_PROVINCE                   Иркутская область   \n",
       "POSTAL_ADDRESS_PROVINCE                 Иркутская область   \n",
       "TP_PROVINCE                             Иркутская область   \n",
       "REGION_NM                              ВОСТОЧНО-СИБИРСКИЙ   \n",
       "REG_FACT_FL                                             1   \n",
       "FACT_POST_FL                                            1   \n",
       "REG_POST_FL                                             1   \n",
       "REG_FACT_POST_FL                                        1   \n",
       "REG_FACT_POST_TP_FL                                     1   \n",
       "FL_PRESENCE_FL                                          0   \n",
       "OWN_AUTO                                                0   \n",
       "AUTO_RUS_FL                                             0   \n",
       "HS_PRESENCE_FL                                          1   \n",
       "COT_PRESENCE_FL                                         0   \n",
       "GAR_PRESENCE_FL                                         0   \n",
       "LAND_PRESENCE_FL                                        0   \n",
       "CREDIT                                              33126   \n",
       "TERM                                                   12   \n",
       "FST_PAYMENT                                          4000   \n",
       "DL_DOCUMENT_FL                                          0   \n",
       "GPF_DOCUMENT_FL                                         1   \n",
       "FACT_LIVING_TERM                                      251   \n",
       "WORK_TIME                                              84   \n",
       "FACT_PHONE_FL                                           0   \n",
       "REG_PHONE_FL                                            0   \n",
       "GEN_PHONE_FL                                            1   \n",
       "LOAN_NUM_TOTAL                                          2   \n",
       "LOAN_NUM_CLOSED                                         1   \n",
       "LOAN_NUM_PAYM                                          11   \n",
       "LOAN_DLQ_NUM                                            0   \n",
       "LOAN_MAX_DLQ                                            0   \n",
       "LOAN_AVG_DLQ_AMT                                        0   \n",
       "LOAN_MAX_DLQ_AMT                                        0   \n",
       "PREVIOUS_CARD_NUM_UTILIZED                            NaN   \n",
       "\n",
       "                                                        3  \\\n",
       "AGREEMENT_RK                                     59910803   \n",
       "TARGET                                                  0   \n",
       "AGE                                                    39   \n",
       "SOCSTATUS_WORK_FL                                       1   \n",
       "SOCSTATUS_PENS_FL                                       0   \n",
       "GENDER                                                  1   \n",
       "CHILD_TOTAL                                             1   \n",
       "DEPENDANTS                                              1   \n",
       "EDUCATION                                          Высшее   \n",
       "MARITAL_STATUS                             Состою в браке   \n",
       "GEN_INDUSTRY                                  Образование   \n",
       "GEN_TITLE                     Руководитель среднего звена   \n",
       "ORG_TP_STATE                 Государственная комп./учреж.   \n",
       "ORG_TP_FCAPITAL                               Без участия   \n",
       "JOB_DIR                     Участие в основ. деятельности   \n",
       "FAMILY_INCOME                      от 20000 до 50000 руб.   \n",
       "PERSONAL_INCOME                                     25000   \n",
       "REG_ADDRESS_PROVINCE                   Ростовская область   \n",
       "FACT_ADDRESS_PROVINCE                  Ростовская область   \n",
       "POSTAL_ADDRESS_PROVINCE                Ростовская область   \n",
       "TP_PROVINCE                            Ростовская область   \n",
       "REGION_NM                                           ЮЖНЫЙ   \n",
       "REG_FACT_FL                                             0   \n",
       "FACT_POST_FL                                            1   \n",
       "REG_POST_FL                                             0   \n",
       "REG_FACT_POST_FL                                        0   \n",
       "REG_FACT_POST_TP_FL                                     1   \n",
       "FL_PRESENCE_FL                                          1   \n",
       "OWN_AUTO                                                0   \n",
       "AUTO_RUS_FL                                             0   \n",
       "HS_PRESENCE_FL                                          0   \n",
       "COT_PRESENCE_FL                                         0   \n",
       "GAR_PRESENCE_FL                                         0   \n",
       "LAND_PRESENCE_FL                                        0   \n",
       "CREDIT                                            8491,82   \n",
       "TERM                                                    6   \n",
       "FST_PAYMENT                                          5000   \n",
       "DL_DOCUMENT_FL                                          0   \n",
       "GPF_DOCUMENT_FL                                         0   \n",
       "FACT_LIVING_TERM                                       36   \n",
       "WORK_TIME                                             168   \n",
       "FACT_PHONE_FL                                           1   \n",
       "REG_PHONE_FL                                            1   \n",
       "GEN_PHONE_FL                                            1   \n",
       "LOAN_NUM_TOTAL                                          1   \n",
       "LOAN_NUM_CLOSED                                         1   \n",
       "LOAN_NUM_PAYM                                           6   \n",
       "LOAN_DLQ_NUM                                            3   \n",
       "LOAN_MAX_DLQ                                            1   \n",
       "LOAN_AVG_DLQ_AMT                         1589,92333333333   \n",
       "LOAN_MAX_DLQ_AMT                                     1590   \n",
       "PREVIOUS_CARD_NUM_UTILIZED                            NaN   \n",
       "\n",
       "                                                        4  \n",
       "AGREEMENT_RK                                     59911781  \n",
       "TARGET                                                  0  \n",
       "AGE                                                    30  \n",
       "SOCSTATUS_WORK_FL                                       1  \n",
       "SOCSTATUS_PENS_FL                                       0  \n",
       "GENDER                                                  0  \n",
       "CHILD_TOTAL                                             0  \n",
       "DEPENDANTS                                              0  \n",
       "EDUCATION                                         Среднее  \n",
       "MARITAL_STATUS                             Состою в браке  \n",
       "GEN_INDUSTRY                       Государственная служба  \n",
       "GEN_TITLE                                      Специалист  \n",
       "ORG_TP_STATE                 Государственная комп./учреж.  \n",
       "ORG_TP_FCAPITAL                               Без участия  \n",
       "JOB_DIR                     Участие в основ. деятельности  \n",
       "FAMILY_INCOME                      от 10000 до 20000 руб.  \n",
       "PERSONAL_INCOME                                     12000  \n",
       "REG_ADDRESS_PROVINCE                   Кабардино-Балкария  \n",
       "FACT_ADDRESS_PROVINCE                  Кабардино-Балкария  \n",
       "POSTAL_ADDRESS_PROVINCE                Кабардино-Балкария  \n",
       "TP_PROVINCE                           Ставропольский край  \n",
       "REGION_NM                                           ЮЖНЫЙ  \n",
       "REG_FACT_FL                                             1  \n",
       "FACT_POST_FL                                            1  \n",
       "REG_POST_FL                                             1  \n",
       "REG_FACT_POST_FL                                        1  \n",
       "REG_FACT_POST_TP_FL                                     0  \n",
       "FL_PRESENCE_FL                                          0  \n",
       "OWN_AUTO                                                0  \n",
       "AUTO_RUS_FL                                             0  \n",
       "HS_PRESENCE_FL                                          1  \n",
       "COT_PRESENCE_FL                                         0  \n",
       "GAR_PRESENCE_FL                                         0  \n",
       "LAND_PRESENCE_FL                                        0  \n",
       "CREDIT                                              21990  \n",
       "TERM                                                   12  \n",
       "FST_PAYMENT                                          4000  \n",
       "DL_DOCUMENT_FL                                          0  \n",
       "GPF_DOCUMENT_FL                                         1  \n",
       "FACT_LIVING_TERM                                       83  \n",
       "WORK_TIME                                             101  \n",
       "FACT_PHONE_FL                                           1  \n",
       "REG_PHONE_FL                                            0  \n",
       "GEN_PHONE_FL                                            1  \n",
       "LOAN_NUM_TOTAL                                          2  \n",
       "LOAN_NUM_CLOSED                                         1  \n",
       "LOAN_NUM_PAYM                                          16  \n",
       "LOAN_DLQ_NUM                                            2  \n",
       "LOAN_MAX_DLQ                                            1  \n",
       "LOAN_AVG_DLQ_AMT                                  1152,15  \n",
       "LOAN_MAX_DLQ_AMT                                     2230  \n",
       "PREVIOUS_CARD_NUM_UTILIZED                            NaN  "
      ]
     },
     "execution_count": 341,
     "metadata": {},
     "output_type": "execute_result"
    }
   ],
   "source": [
    "df_train.head().T"
   ]
  },
  {
   "cell_type": "markdown",
   "metadata": {},
   "source": [
    "## Объединим две выборки\n",
    "\n",
    "Так как пока мы пока не умеем работать sklearn  Pipeline, то для того, чтобы после предобработки столбцы в двух выборках находились на своих местах.\n",
    "\n",
    "Для того, чтобы в дальнейшем отделить их введем новый столбец \"sample\""
   ]
  },
  {
   "cell_type": "code",
   "execution_count": 342,
   "metadata": {
    "collapsed": true
   },
   "outputs": [],
   "source": [
    "df_train.loc[:, 'sample'] = 'train'\n",
    "df_test.loc[:, 'sample'] = 'test'"
   ]
  },
  {
   "cell_type": "code",
   "execution_count": 343,
   "metadata": {
    "collapsed": false
   },
   "outputs": [],
   "source": [
    "df = df_test.append(df_train).reset_index(drop=True)"
   ]
  },
  {
   "cell_type": "code",
   "execution_count": 344,
   "metadata": {
    "collapsed": false
   },
   "outputs": [
    {
     "data": {
      "text/plain": [
       "(30133, 53)"
      ]
     },
     "execution_count": 344,
     "metadata": {},
     "output_type": "execute_result"
    }
   ],
   "source": [
    "df.shape"
   ]
  },
  {
   "cell_type": "markdown",
   "metadata": {},
   "source": [
    "### Чуть-чуть посмотрим на данные"
   ]
  },
  {
   "cell_type": "markdown",
   "metadata": {
    "collapsed": true
   },
   "source": [
    "Посмотрим типы данных и их заполняемость"
   ]
  },
  {
   "cell_type": "code",
   "execution_count": 345,
   "metadata": {
    "collapsed": false,
    "scrolled": false
   },
   "outputs": [
    {
     "name": "stdout",
     "output_type": "stream",
     "text": [
      "<class 'pandas.core.frame.DataFrame'>\n",
      "RangeIndex: 30133 entries, 0 to 30132\n",
      "Data columns (total 53 columns):\n",
      "AGREEMENT_RK                  30133 non-null int64\n",
      "TARGET                        30133 non-null int64\n",
      "AGE                           30133 non-null int64\n",
      "SOCSTATUS_WORK_FL             30133 non-null int64\n",
      "SOCSTATUS_PENS_FL             30133 non-null int64\n",
      "GENDER                        30133 non-null int64\n",
      "CHILD_TOTAL                   30133 non-null int64\n",
      "DEPENDANTS                    30133 non-null int64\n",
      "EDUCATION                     30133 non-null object\n",
      "MARITAL_STATUS                30133 non-null object\n",
      "GEN_INDUSTRY                  27420 non-null object\n",
      "GEN_TITLE                     27420 non-null object\n",
      "ORG_TP_STATE                  27420 non-null object\n",
      "ORG_TP_FCAPITAL               27425 non-null object\n",
      "JOB_DIR                       27420 non-null object\n",
      "FAMILY_INCOME                 30133 non-null object\n",
      "PERSONAL_INCOME               30133 non-null object\n",
      "REG_ADDRESS_PROVINCE          30133 non-null object\n",
      "FACT_ADDRESS_PROVINCE         30133 non-null object\n",
      "POSTAL_ADDRESS_PROVINCE       30133 non-null object\n",
      "TP_PROVINCE                   29543 non-null object\n",
      "REGION_NM                     30131 non-null object\n",
      "REG_FACT_FL                   30133 non-null int64\n",
      "FACT_POST_FL                  30133 non-null int64\n",
      "REG_POST_FL                   30133 non-null int64\n",
      "REG_FACT_POST_FL              30133 non-null int64\n",
      "REG_FACT_POST_TP_FL           30133 non-null int64\n",
      "FL_PRESENCE_FL                30133 non-null int64\n",
      "OWN_AUTO                      30133 non-null int64\n",
      "AUTO_RUS_FL                   30133 non-null int64\n",
      "HS_PRESENCE_FL                30133 non-null int64\n",
      "COT_PRESENCE_FL               30133 non-null int64\n",
      "GAR_PRESENCE_FL               30133 non-null int64\n",
      "LAND_PRESENCE_FL              30133 non-null int64\n",
      "CREDIT                        30133 non-null object\n",
      "TERM                          30133 non-null int64\n",
      "FST_PAYMENT                   30133 non-null object\n",
      "DL_DOCUMENT_FL                30133 non-null int64\n",
      "GPF_DOCUMENT_FL               30133 non-null int64\n",
      "FACT_LIVING_TERM              30133 non-null int64\n",
      "WORK_TIME                     27416 non-null float64\n",
      "FACT_PHONE_FL                 30133 non-null int64\n",
      "REG_PHONE_FL                  30133 non-null int64\n",
      "GEN_PHONE_FL                  30133 non-null int64\n",
      "LOAN_NUM_TOTAL                30133 non-null int64\n",
      "LOAN_NUM_CLOSED               30133 non-null int64\n",
      "LOAN_NUM_PAYM                 30133 non-null int64\n",
      "LOAN_DLQ_NUM                  30133 non-null int64\n",
      "LOAN_MAX_DLQ                  30133 non-null int64\n",
      "LOAN_AVG_DLQ_AMT              30133 non-null object\n",
      "LOAN_MAX_DLQ_AMT              30133 non-null object\n",
      "PREVIOUS_CARD_NUM_UTILIZED    600 non-null float64\n",
      "sample                        30133 non-null object\n",
      "dtypes: float64(2), int64(32), object(19)\n",
      "memory usage: 12.2+ MB\n"
     ]
    }
   ],
   "source": [
    "df.info()"
   ]
  },
  {
   "cell_type": "markdown",
   "metadata": {
    "collapsed": true
   },
   "source": [
    "Видим, что часть данных - object, скорее всего стоки.\n",
    "\n",
    "\n",
    "Давайте выведем эти значения для каждого столбца"
   ]
  },
  {
   "cell_type": "code",
   "execution_count": 368,
   "metadata": {
    "collapsed": false
   },
   "outputs": [],
   "source": [
    "# for i in df_train.columns: # перебираем все столбцы\n",
    "#     if str(df_train[i].dtype) == 'object': # если тип столбца - object\n",
    "#         print('='*10)\n",
    "#         print(i) # выводим название столбца\n",
    "#         print(set(df_train[i])) # выводим все его значения (но делаем set - чтоб значения не повторялись)\n",
    "#         print('\\n') # выводим пустую строку"
   ]
  },
  {
   "cell_type": "markdown",
   "metadata": {
    "collapsed": true
   },
   "source": [
    "Mожно заметить что некоторые переменные, которые обозначены как строки (например PERSONAL_INCOME) на самом деле числа, но по какой-то причине были распознаны как строки\n",
    "\n",
    "Причина же что использовалась запятая для разделения не целой части числа.."
   ]
  },
  {
   "cell_type": "markdown",
   "metadata": {},
   "source": [
    "Перекодировать их можно например так:"
   ]
  },
  {
   "cell_type": "code",
   "execution_count": 347,
   "metadata": {
    "collapsed": false
   },
   "outputs": [],
   "source": [
    "# df['PERSONAL_INCOME'].map(lambda x: x.replace(',', '.')).astype('float')"
   ]
  },
  {
   "cell_type": "markdown",
   "metadata": {},
   "source": [
    "Такой эффект наблюдается в столбцах `PERSONAL_INCOME`, `CREDIT`, `FST_PAYMENT`, `LOAN_AVG_DLQ_AMT`, `LOAN_MAX_DLQ_AMT`"
   ]
  },
  {
   "cell_type": "markdown",
   "metadata": {},
   "source": [
    "### Теперь ваше небольшое исследование"
   ]
  },
  {
   "cell_type": "markdown",
   "metadata": {
    "collapsed": true
   },
   "source": [
    "#### Задание 1. Есть ли пропуски в данных? Что с ними сделать?\n",
    "\n",
    "(единственного верного ответа нет - аргументируйте)"
   ]
  },
  {
   "cell_type": "code",
   "execution_count": 348,
   "metadata": {
    "collapsed": false
   },
   "outputs": [
    {
     "name": "stdout",
     "output_type": "stream",
     "text": [
      "GEN_INDUSTRY: 27420 object\n",
      "GEN_TITLE: 27420 object\n",
      "ORG_TP_STATE: 27420 object\n",
      "ORG_TP_FCAPITAL: 27425 object\n",
      "JOB_DIR: 27420 object\n",
      "TP_PROVINCE: 29543 object\n",
      "REGION_NM: 30131 object\n",
      "WORK_TIME: 27416 float64\n",
      "PREVIOUS_CARD_NUM_UTILIZED: 600 float64\n"
     ]
    }
   ],
   "source": [
    "# Список столбцов с пропусками.\n",
    "for i in df.columns: # перебираем все столбцы\n",
    "    if df[i].count() < df.shape[0]:\n",
    "        print(\"%s: %s %s\" % (i, df[i].count(), df[i].dtype))"
   ]
  },
  {
   "cell_type": "code",
   "execution_count": 349,
   "metadata": {
    "collapsed": false
   },
   "outputs": [
    {
     "name": "stdout",
     "output_type": "stream",
     "text": [
      "Количество наблюдений с пустым WORK_TIME: 2717\n",
      "Количество наблюдений с пустым WORK_TIME и SOCSTATUS_PENS_FL==1: 2716\n",
      "\n",
      "Наблюдение с пустым WORK_TIME и SOCSTATUS_PENS_FL==0:\n",
      "\n",
      "        WORK_TIME  SOCSTATUS_PENS_FL\n",
      "22873        NaN                  0\n"
     ]
    }
   ],
   "source": [
    "print('Количество наблюдений с пустым WORK_TIME:', df[df.WORK_TIME.isnull()].shape[0])\n",
    "print('Количество наблюдений с пустым WORK_TIME и SOCSTATUS_PENS_FL==1:', df[df.WORK_TIME.isnull() & (df.SOCSTATUS_PENS_FL==1)].shape[0])\n",
    "print('\\nНаблюдение с пустым WORK_TIME и SOCSTATUS_PENS_FL==0:\\n\\n', \n",
    "    df[\n",
    "        df.WORK_TIME.isnull() & (df.SOCSTATUS_PENS_FL==0)\n",
    "    ][['WORK_TIME', 'SOCSTATUS_PENS_FL']].head())"
   ]
  },
  {
   "cell_type": "code",
   "execution_count": 350,
   "metadata": {
    "collapsed": false
   },
   "outputs": [
    {
     "name": "stdout",
     "output_type": "stream",
     "text": [
      "Количество наблюдений с пустым GEN_INDUSTRY: 2713\n",
      "Количество наблюдений с пустым GEN_TITLE: 2713\n",
      "Количество наблюдений с пустым JOB_DIR: 2713\n",
      "Количество наблюдений с пустыми GEN_INDUSTRY, GEN_TITLE, JOB_DIR и SOCSTATUS_WORK_FL==0: 2712\n",
      "\n",
      "Наблюдение с пустыми GEN_INDUSTRY, GEN_TITLE, JOB_DIR и SOCSTATUS_WORK_FL==1:\n",
      "\n",
      "       GEN_INDUSTRY GEN_TITLE JOB_DIR  SOCSTATUS_WORK_FL\n",
      "22873          NaN       NaN     NaN                  1\n"
     ]
    }
   ],
   "source": [
    "print('Количество наблюдений с пустым GEN_INDUSTRY:', df[df.GEN_INDUSTRY.isnull()].shape[0])\n",
    "print('Количество наблюдений с пустым GEN_TITLE:', df[df.GEN_TITLE.isnull()].shape[0])\n",
    "print('Количество наблюдений с пустым JOB_DIR:', df[df.JOB_DIR.isnull()].shape[0])\n",
    "print('Количество наблюдений с пустыми GEN_INDUSTRY, GEN_TITLE, JOB_DIR и SOCSTATUS_WORK_FL==0:', \n",
    "      df[\n",
    "        df.GEN_INDUSTRY.isnull() & \n",
    "        df.GEN_TITLE.isnull() & \n",
    "        df.JOB_DIR.isnull() &\n",
    "        (df.SOCSTATUS_WORK_FL==0)\n",
    "    ].shape[0]\n",
    ")\n",
    "\n",
    "print('\\nНаблюдение с пустыми GEN_INDUSTRY, GEN_TITLE, JOB_DIR и SOCSTATUS_WORK_FL==1:\\n\\n', \n",
    "      df[\n",
    "        df.GEN_INDUSTRY.isnull() & \n",
    "        df.GEN_TITLE.isnull() & \n",
    "        df.JOB_DIR.isnull() &\n",
    "        (df.SOCSTATUS_WORK_FL==1)\n",
    "    ][['GEN_INDUSTRY', 'GEN_TITLE', 'JOB_DIR', 'SOCSTATUS_WORK_FL']].head())\n"
   ]
  },
  {
   "cell_type": "markdown",
   "metadata": {},
   "source": [
    "### Пропуски \n",
    "\n",
    "**WORK_TIME**: заполним нулями, судя по всему, все наблюдения, в которых не заполнен этот признак, являются пенсионерами, кроме **id==22873**\n",
    "\n",
    "**GEN_INDUSTRY, GEN_TITLE и JOB_DIR**: заполним строкой \"Безработный\", кроме **id==22873**\n",
    "\n",
    "Саму строку с **id==22873** удалим\n",
    "\n",
    "**PREVIOUS_CARD_NUM_UTILIZED**: заполним нулями, так как в описании указано, что ***если пусто - 0***\n",
    "\n",
    "Остальные пропуски (**ORG_TP_STATE, ORG_TP_FCAPITAL, TP_PROVINCE, REGION_NM**) заполним строкой **'missing'**"
   ]
  },
  {
   "cell_type": "markdown",
   "metadata": {
    "collapsed": true
   },
   "source": [
    "#### Задание 2. Есть ли категориальные признаки? Что с ними делать?"
   ]
  },
  {
   "cell_type": "markdown",
   "metadata": {
    "collapsed": true
   },
   "source": [
    "### Категориальные признаки\n",
    "Все строковые признаки являются категориальными, используем для их преобразования ***get_dummies()***"
   ]
  },
  {
   "cell_type": "markdown",
   "metadata": {},
   "source": [
    "#### Задание 3. Фунция предобработки"
   ]
  },
  {
   "cell_type": "markdown",
   "metadata": {},
   "source": [
    "Напишите функцию, которая бы\n",
    "\n",
    "* Удаляло идентификатор `AGREEMENT_RK`\n",
    "* Избавлялась от проблем с '.' и ',' в стобцах PERSONAL_INCOME, CREDIT, FST_PAYMENT, LOAN_AVG_DLQ_AMT, LOAN_MAX_DLQ_AMT\n",
    "* Что-то делала с пропусками\n",
    "* Кодировала категориальные признаки\n",
    "\n",
    "В результате, ваш датафрейм должен содержать только числа и не содержать пропусков!"
   ]
  },
  {
   "cell_type": "code",
   "execution_count": 351,
   "metadata": {
    "collapsed": false
   },
   "outputs": [],
   "source": [
    "def preproc_data(df_input):\n",
    "    df_output = df_input.copy()\n",
    "    \n",
    "    # Удалим идентификатор AGREEMENT_RK и наблюдение с id==22873\n",
    "    df_output = df_output.drop(['AGREEMENT_RK'], axis=1)\n",
    "    df_output = df_output.drop([22873])\n",
    "    \n",
    "    # Избавлялась от проблем с '.' и ',' в стобцах PERSONAL_INCOME, CREDIT, FST_PAYMENT, \n",
    "    # LOAN_AVG_DLQ_AMT, LOAN_MAX_DLQ_AMT\n",
    "    for i in ('PERSONAL_INCOME', 'CREDIT', 'FST_PAYMENT', 'LOAN_AVG_DLQ_AMT', 'LOAN_MAX_DLQ_AMT'):\n",
    "        df_output[i] = df_output[i].map(lambda x: x.replace(',', '.')).astype('float')\n",
    "    \n",
    "    # Что-то делала с пропусками\n",
    "    for i in ('GEN_INDUSTRY', 'GEN_TITLE', 'JOB_DIR'):\n",
    "        df_output[i] = df_output[i].fillna('Безработный')\n",
    "        \n",
    "    for i in ('ORG_TP_STATE', 'ORG_TP_FCAPITAL', 'TP_PROVINCE', 'REGION_NM'):\n",
    "        df_output[i] = df_output[i].fillna('missing')\n",
    "    \n",
    "    for i in ('WORK_TIME', 'PREVIOUS_CARD_NUM_UTILIZED'):\n",
    "        df_output[i] = df_output[i].fillna(0)\n",
    "    \n",
    "    # Кодировала категориальные признаки\n",
    "    df_output = pd.get_dummies(df_output)\n",
    "        \n",
    "    return df_output"
   ]
  },
  {
   "cell_type": "code",
   "execution_count": 353,
   "metadata": {
    "collapsed": false
   },
   "outputs": [
    {
     "name": "stdout",
     "output_type": "stream",
     "text": [
      "<class 'pandas.core.frame.DataFrame'>\n",
      "Int64Index: 30132 entries, 0 to 30132\n",
      "Columns: 452 entries, TARGET to sample_train\n",
      "dtypes: float64(7), int64(31), uint8(414)\n",
      "memory usage: 20.9 MB\n"
     ]
    }
   ],
   "source": [
    "df_output = preproc_data(df)\n",
    "df_output.info()"
   ]
  },
  {
   "cell_type": "code",
   "execution_count": 354,
   "metadata": {
    "collapsed": false
   },
   "outputs": [],
   "source": [
    "df_preproc = df.pipe(preproc_data)\n",
    "\n",
    "# df_train_preproc = df_preproc.query('sample == \"train\"').drop(['sample'], axis=1)\n",
    "# df_test_preproc = df_preproc.query('sample == \"test\"').drop(['sample'], axis=1)\n",
    "\n",
    "df_train_preproc = df_preproc.query('sample_train == 1').drop(['sample_train'], axis=1).drop(['sample_test'], axis=1)\n",
    "df_test_preproc = df_preproc.query('sample_test == 1').drop(['sample_train'], axis=1).drop(['sample_test'], axis=1)"
   ]
  },
  {
   "cell_type": "markdown",
   "metadata": {},
   "source": [
    "#### Задание 4. Отделите целевую переменную и остальные признаки\n",
    "\n",
    "Должно получится:\n",
    "* 2 матрицы: X и X_test\n",
    "* 2 вектора: y и y_test"
   ]
  },
  {
   "cell_type": "code",
   "execution_count": 355,
   "metadata": {
    "collapsed": false
   },
   "outputs": [],
   "source": [
    "y = df_train_preproc.TARGET\n",
    "X = df_train_preproc.drop(['TARGET'], axis=1)\n",
    "y_test = df_test_preproc.TARGET\n",
    "X_test = df_test_preproc.drop(['TARGET'], axis=1)"
   ]
  },
  {
   "cell_type": "markdown",
   "metadata": {},
   "source": [
    "#### Задание 5. Обучение и оценка качества разных моделей"
   ]
  },
  {
   "cell_type": "code",
   "execution_count": 356,
   "metadata": {
    "collapsed": false
   },
   "outputs": [],
   "source": [
    "from sklearn.cross_validation import train_test_split\n",
    "\n",
    "# test_size=0.3, random_state=42\n",
    "X_train, X_test1, y_train, y_test1 = train_test_split(X, y, test_size=0.3, random_state=42)\n"
   ]
  },
  {
   "cell_type": "code",
   "execution_count": 357,
   "metadata": {
    "collapsed": false
   },
   "outputs": [
    {
     "name": "stderr",
     "output_type": "stream",
     "text": [
      "/home/gudzon/.local/lib/python3.6/site-packages/sklearn/linear_model/base.py:340: RuntimeWarning: overflow encountered in exp\n",
      "  np.exp(prob, prob)\n"
     ]
    }
   ],
   "source": [
    "# Попробовать следующие \"черные ящики\": интерфейс одинаковый \n",
    "#     fit, \n",
    "#     predict, \n",
    "#     predict_proba\n",
    "\n",
    "from sklearn.tree import DecisionTreeClassifier\n",
    "from sklearn.ensemble import RandomForestClassifier\n",
    "from sklearn.linear_model import LogisticRegression\n",
    "\n",
    "dtc = DecisionTreeClassifier()\n",
    "dtc.fit(X_train, y_train)\n",
    "predict_dtc = dtc.predict(X_test1)\n",
    "predict_proba_dtc = dtc.predict_proba(X_test1)\n",
    "\n",
    "rfc = RandomForestClassifier()\n",
    "rfc.fit(X_train, y_train)\n",
    "predict_rfc = rfc.predict(X_test1)\n",
    "predict_proba_rfc = rfc.predict_proba(X_test1)\n",
    "\n",
    "lr = LogisticRegression()\n",
    "lr.fit(X_train, y_train)\n",
    "predict_lr = lr.predict(X_test1)\n",
    "predict_proba_lr = lr.predict_proba(X_test1)\n"
   ]
  },
  {
   "cell_type": "code",
   "execution_count": 358,
   "metadata": {
    "collapsed": false
   },
   "outputs": [
    {
     "name": "stdout",
     "output_type": "stream",
     "text": [
      "accuracy_dtc: 0.7948324939785417\n",
      "accuracy_rfc: 0.8727830085395226\n",
      "accuracy_lr: 0.8745347054959492\n",
      "\n"
     ]
    }
   ],
   "source": [
    "# Посчитать метрики стандартные\n",
    "# accuracy, precision, recall\n",
    "\n",
    "from sklearn.metrics import accuracy_score, precision_score, recall_score\n",
    "\n",
    "accuracy_dtc = accuracy_score(y_test1, predict_dtc)\n",
    "accuracy_rfc = accuracy_score(y_test1, predict_rfc) \n",
    "accuracy_lr = accuracy_score(y_test1, predict_lr)\n",
    "print(\"accuracy_dtc: %s\\naccuracy_rfc: %s\\naccuracy_lr: %s\\n\" % (accuracy_dtc, accuracy_rfc, accuracy_lr))"
   ]
  },
  {
   "cell_type": "code",
   "execution_count": 359,
   "metadata": {
    "collapsed": false
   },
   "outputs": [
    {
     "name": "stdout",
     "output_type": "stream",
     "text": [
      "recall_dtc: 0.16901408450704225\n",
      "recall_rfc: 0.0035211267605633804\n",
      "recall_lr: 0.0\n"
     ]
    }
   ],
   "source": [
    "recall_dtc = recall_score(y_test1, predict_dtc)\n",
    "recall_rfc = recall_score(y_test1, predict_rfc)\n",
    "recall_lr = recall_score(y_test1, predict_lr)\n",
    "print(\"recall_dtc: %s\\nrecall_rfc: %s\\nrecall_lr: %s\" % (recall_dtc, recall_rfc, precision_lr))"
   ]
  },
  {
   "cell_type": "code",
   "execution_count": 360,
   "metadata": {
    "collapsed": false
   },
   "outputs": [
    {
     "name": "stdout",
     "output_type": "stream",
     "text": [
      "precision_dtc: 0.1711229946524064\n",
      "precision_rfc: 0.11764705882352941\n",
      "precision_lr: 0.0\n"
     ]
    }
   ],
   "source": [
    "precision_dtc = precision_score(y_test1, predict_dtc)\n",
    "precision_rfc = precision_score(y_test1, predict_rfc)\n",
    "precision_lr = precision_score(y_test1, predict_lr)\n",
    "print(\"precision_dtc: %s\\nprecision_rfc: %s\\nprecision_lr: %s\" % (precision_dtc, precision_rfc, precision_lr))"
   ]
  },
  {
   "cell_type": "code",
   "execution_count": 361,
   "metadata": {
    "collapsed": false
   },
   "outputs": [
    {
     "data": {
      "text/plain": [
       "(-0.01, 1.01)"
      ]
     },
     "execution_count": 361,
     "metadata": {},
     "output_type": "execute_result"
    },
    {
     "data": {
      "image/png": "[encoded data removed]",
      "text/plain": [
       "<Figure size 360x360 with 1 Axes>"
      ]
     },
     "metadata": {},
     "output_type": "display_data"
    }
   ],
   "source": [
    "# Визуалищировать эти метрики всех моделей на одном графике (чтоб визуально посмотреть)\n",
    "\n",
    "%matplotlib inline\n",
    "from matplotlib import pyplot as plt\n",
    "\n",
    "plt.figure(figsize=(5, 5))\n",
    "\n",
    "plt.plot([0,0.5,1], [accuracy_dtc, recall_dtc, precision_dtc], 'o', label='DTC')\n",
    "plt.plot([0,0.5,1], [accuracy_rfc, recall_rfc, precision_rfc], 'o', label='RFC')\n",
    "plt.plot([0,0.5,1], [accuracy_lr, recall_lr, precision_lr], 'o', label='LR')\n",
    "\n",
    "plt.grid(True)\n",
    "plt.legend()\n",
    "plt.xlim((-0.01, 1.01))\n",
    "plt.ylim((-0.01, 1.01))"
   ]
  },
  {
   "cell_type": "code",
   "execution_count": 362,
   "metadata": {
    "collapsed": false
   },
   "outputs": [
    {
     "data": {
      "text/plain": [
       "(-0.01, 1.01)"
      ]
     },
     "execution_count": 362,
     "metadata": {},
     "output_type": "execute_result"
    },
    {
     "data": {
      "image/png": "[encoded data removed]",
      "text/plain": [
       "<Figure size 360x360 with 1 Axes>"
      ]
     },
     "metadata": {},
     "output_type": "display_data"
    }
   ],
   "source": [
    "# Потроить roc-кривые всех можелей на одном графике\n",
    "# Вывести roc_auc каждой моделе\n",
    "\n",
    "from sklearn.metrics import roc_auc_score, roc_curve\n",
    "\n",
    "fpr_dtc, tpr_dtc, thresholds_dtc = roc_curve(y_test1, predict_proba_dtc[:,1])\n",
    "fpr_rfc, tpr_rfc, thresholds_rfc = roc_curve(y_test1, predict_proba_rfc[:,1])\n",
    "fpr_lr, tpr_lr, thresholds_lr = roc_curve(y_test1, predict_proba_lr[:,1])\n",
    "\n",
    "plt.figure(figsize=(5, 5))\n",
    "\n",
    "plt.plot(fpr_dtc, tpr_dtc, label='roc_curve_dtc')\n",
    "plt.plot(fpr_rfc, tpr_rfc, label='roc_curve_rfc')\n",
    "plt.plot(fpr_lr, tpr_lr, label='roc_curve_lr')\n",
    "\n",
    "plt.plot([0, 1], [0, 1])\n",
    "plt.ylabel('tpr')\n",
    "plt.xlabel('fpr')\n",
    "plt.grid(True)\n",
    "plt.legend()\n",
    "plt.title('ROC curve')\n",
    "plt.xlim((-0.01, 1.01))\n",
    "plt.ylim((-0.01, 1.01))"
   ]
  },
  {
   "cell_type": "code",
   "execution_count": 363,
   "metadata": {
    "collapsed": false
   },
   "outputs": [
    {
     "name": "stdout",
     "output_type": "stream",
     "text": [
      "roc_auc_score_dtc 0.5263675073698002\n",
      "roc_auc_score_rfc 0.5901717506841498\n",
      "roc_auc_score_lr 0.6422168922512317\n"
     ]
    }
   ],
   "source": [
    "print('roc_auc_score_dtc', roc_auc_score(y_test1, predict_proba_dtc[:,1]))\n",
    "print('roc_auc_score_rfc', roc_auc_score(y_test1, predict_proba_rfc[:,1]))\n",
    "print('roc_auc_score_lr', roc_auc_score(y_test1, predict_proba_lr[:,1]))"
   ]
  },
  {
   "cell_type": "code",
   "execution_count": 364,
   "metadata": {
    "collapsed": false
   },
   "outputs": [
    {
     "name": "stdout",
     "output_type": "stream",
     "text": [
      "Средний roc_auc для DecisionTreeClassifier 0.5346309499021873\n",
      "Средний roc_auc для RandomForestClassifier 0.6083883766333986\n",
      "Средний roc_auc для LogisticRegression 0.6417117926424908\n"
     ]
    }
   ],
   "source": [
    "from sklearn.cross_validation import cross_val_score\n",
    "from sklearn.model_selection import StratifiedKFold\n",
    "# Сделать k-fold (10 фолдов) кросс-валидацию каждой модели\n",
    "# И посчитать средний roc_auc\n",
    "cv = StratifiedKFold(n_splits=10, shuffle=True, random_state=123)\n",
    "\n",
    "cross_val_score_dtc = cross_val_score(\n",
    "    DecisionTreeClassifier(),\n",
    "    X,\n",
    "    y,\n",
    "    scoring='roc_auc',\n",
    "    cv=cv.split(X,y)    \n",
    ")\n",
    "\n",
    "cross_val_score_rfc = cross_val_score(\n",
    "    RandomForestClassifier(),\n",
    "    X,\n",
    "    y,\n",
    "    scoring='roc_auc',\n",
    "    cv=cv.split(X,y)   \n",
    ")\n",
    "\n",
    "cross_val_score_lr = cross_val_score(\n",
    "    LogisticRegression(),\n",
    "    X,\n",
    "    y,\n",
    "    scoring='roc_auc',\n",
    "    cv=cv.split(X,y)    \n",
    ")\n",
    "\n",
    "print(\"Средний roc_auc для DecisionTreeClassifier\", np.mean(cross_val_score_dtc))\n",
    "print(\"Средний roc_auc для RandomForestClassifier\", np.mean(cross_val_score_rfc))\n",
    "print(\"Средний roc_auc для LogisticRegression\", np.mean(cross_val_score_lr))"
   ]
  },
  {
   "cell_type": "code",
   "execution_count": 365,
   "metadata": {
    "collapsed": false
   },
   "outputs": [
    {
     "name": "stderr",
     "output_type": "stream",
     "text": [
      "/home/gudzon/.local/lib/python3.6/site-packages/sklearn/linear_model/base.py:340: RuntimeWarning: overflow encountered in exp\n",
      "  np.exp(prob, prob)\n"
     ]
    }
   ],
   "source": [
    "# Взять лучшую модель и сделать predict (с вероятностями (!!!)) для test выборки\n",
    "# Лучший результат показывает LogisticRegression\n",
    "\n",
    "predict_lr = lr.predict(X_test)\n",
    "predict_proba_lr = lr.predict_proba(X_test)\n"
   ]
  },
  {
   "cell_type": "code",
   "execution_count": 366,
   "metadata": {
    "collapsed": false
   },
   "outputs": [
    {
     "data": {
      "text/plain": [
       "array([0.62178029, 0.62634824, 0.59282241, 0.60548849, 0.65996092,\n",
       "       0.60107251, 0.63795484, 0.60219713, 0.63716023, 0.62295701])"
      ]
     },
     "execution_count": 366,
     "metadata": {},
     "output_type": "execute_result"
    }
   ],
   "source": [
    "# Померить roc_auc на тесте\n",
    "cross_val_score_lr = cross_val_score(\n",
    "    LogisticRegression(),\n",
    "    X_test,\n",
    "    y_test,\n",
    "    scoring='roc_auc',\n",
    "    cv=cv.split(X_test,y_test)    \n",
    ")\n",
    "cross_val_score_lr"
   ]
  },
  {
   "cell_type": "code",
   "execution_count": 367,
   "metadata": {
    "collapsed": false
   },
   "outputs": [
    {
     "data": {
      "text/plain": [
       "0.6207742075553626"
      ]
     },
     "execution_count": 367,
     "metadata": {},
     "output_type": "execute_result"
    }
   ],
   "source": [
    "np.mean(cross_val_score_lr)"
   ]
  }
 ],
 "metadata": {
  "anaconda-cloud": {},
  "kernelspec": {
   "display_name": "Python 3",
   "language": "python",
   "name": "python3"
  },
  "language_info": {
   "codemirror_mode": {
    "name": "ipython",
    "version": 3
   },
   "file_extension": ".py",
   "mimetype": "text/x-python",
   "name": "python",
   "nbconvert_exporter": "python",
   "pygments_lexer": "ipython3",
   "version": "3.6.3"
  },
  "toc": {
   "colors": {
    "hover_highlight": "#DAA520",
    "navigate_num": "#000000",
    "navigate_text": "#333333",
    "running_highlight": "#FF0000",
    "selected_highlight": "#FFD700",
    "sidebar_border": "#EEEEEE",
    "wrapper_background": "#FFFFFF"
   },
   "moveMenuLeft": true,
   "nav_menu": {
    "height": "31px",
    "width": "253px"
   },
   "navigate_menu": true,
   "number_sections": false,
   "sideBar": true,
   "threshold": 4,
   "toc_cell": false,
   "toc_section_display": "block",
   "toc_window_display": false,
   "widenNotebook": false
  }
 },
 "nbformat": 4,
 "nbformat_minor": 2
}
